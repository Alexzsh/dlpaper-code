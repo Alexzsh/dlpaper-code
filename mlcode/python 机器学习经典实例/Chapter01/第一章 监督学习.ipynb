{
 "cells": [
  {
   "cell_type": "markdown",
   "metadata": {},
   "source": [
    "## 1.2 数据预处理技术\n",
    "### 1.2.1 准备工作"
   ]
  },
  {
   "cell_type": "code",
   "execution_count": 1,
   "metadata": {},
   "outputs": [
    {
     "name": "stderr",
     "output_type": "stream",
     "text": [
      "/usr/local/miniconda3/lib/python3.6/importlib/_bootstrap.py:219: RuntimeWarning: numpy.dtype size changed, may indicate binary incompatibility. Expected 96, got 88\n",
      "  return f(*args, **kwds)\n",
      "/usr/local/miniconda3/lib/python3.6/importlib/_bootstrap.py:219: RuntimeWarning: numpy.dtype size changed, may indicate binary incompatibility. Expected 96, got 88\n",
      "  return f(*args, **kwds)\n"
     ]
    }
   ],
   "source": [
    "import numpy as np\n",
    "import pandas as pd\n",
    "import matplotlib.pyplot as plt\n",
    "%matplotlib inline\n",
    "from sklearn import preprocessing\n",
    "data = np.array([[3,  -1.5,    2,  -5.4],\n",
    "                 [0,    4,    -0.3,  2.1],\n",
    "                 [1,    3.3,  -1.9, -4.3]])"
   ]
  },
  {
   "cell_type": "code",
   "execution_count": 2,
   "metadata": {},
   "outputs": [
    {
     "name": "stdout",
     "output_type": "stream",
     "text": [
      "Mean:[ 5.55111512e-17 -1.11022302e-16 -7.40148683e-17 -7.40148683e-17]\n",
      "Std deviation = [1. 1. 1. 1.]\n"
     ]
    }
   ],
   "source": [
    "# 均值移除\n",
    "'''\n",
    "通常我们会把每个特征的均值移除，以保证特征均值为0 完成标准化处理，以消除特征之间的偏差\n",
    "'''\n",
    "data_standardized=preprocessing.scale(data)\n",
    "print('Mean:{}\\nStd deviation = {}'.format(data_standardized.mean(axis=0),data_standardized.std(axis=0)))"
   ]
  },
  {
   "cell_type": "code",
   "execution_count": 5,
   "metadata": {},
   "outputs": [
    {
     "name": "stdout",
     "output_type": "stream",
     "text": [
      "Min Max scaled Data\n",
      " [[1.         0.         1.         0.        ]\n",
      " [0.         1.         0.41025641 1.        ]\n",
      " [0.33333333 0.87272727 0.         0.14666667]]\n"
     ]
    }
   ],
   "source": [
    "# 范围缩放\n",
    "'''\n",
    "数据点中每个特征的数据范围可能变化很大，需要将其缩放到合理的大小\n",
    "'''\n",
    "data_scaler=preprocessing.MinMaxScaler(feature_range=(0,1))\n",
    "data_scaled=data_scaler.fit_transform(data)\n",
    "print('Min Max scaled Data\\n',data_scaled)"
   ]
  },
  {
   "cell_type": "code",
   "execution_count": 7,
   "metadata": {},
   "outputs": [
    {
     "name": "stdout",
     "output_type": "stream",
     "text": [
      "L1 normalized data\n",
      " [[ 0.25210084 -0.12605042  0.16806723 -0.45378151]\n",
      " [ 0.          0.625      -0.046875    0.328125  ]\n",
      " [ 0.0952381   0.31428571 -0.18095238 -0.40952381]]\n"
     ]
    }
   ],
   "source": [
    "#正则化\n",
    "'''\n",
    "常见有l1，l2，max正则项，调整使其数据消除数量级，提高不同特征的可比性\n",
    "'''\n",
    "data_normalized = preprocessing.normalize(data,norm='l1')\n",
    "print('L1 normalized data\\n',data_normalized)"
   ]
  },
  {
   "cell_type": "code",
   "execution_count": 8,
   "metadata": {},
   "outputs": [
    {
     "name": "stdout",
     "output_type": "stream",
     "text": [
      "Binarized data = \n",
      " [[1. 0. 1. 0.]\n",
      " [0. 1. 0. 1.]\n",
      " [0. 1. 0. 0.]]\n"
     ]
    }
   ],
   "source": [
    "#二值化\n",
    "'''\n",
    "用于将数值特征转换成bool\n",
    "'''\n",
    "data_binarized=preprocessing.Binarizer(threshold=1.4).transform(data)\n",
    "print('Binarized data = \\n',data_binarized)"
   ]
  },
  {
   "cell_type": "code",
   "execution_count": 12,
   "metadata": {},
   "outputs": [
    {
     "name": "stdout",
     "output_type": "stream",
     "text": [
      "onehot is \n",
      " [[0. 0. 1. 0. 1. 0. 0. 0. 1. 1. 0.]]\n"
     ]
    }
   ],
   "source": [
    "#独热编码\n",
    "'''\n",
    "通常，需要处理的数值都是稀疏地、散乱地分布在空间中，\n",
    "然而，我们并不需要存储这些大 数值，这时就需要使用独热编码(One-Hot Encoding)。\n",
    "可以把独热编码看作是一种收紧(tighten) 特征向量的工具。\n",
    "它把特征向量的每个特征与特征的非重复总数相对应，通过one-of-k的形式对 每个值进行编码。\n",
    "特征向量的每个特征值都按照这种方式编码，这样可以更加有效地表示空间。 \n",
    "\n",
    "例如，我们需要处理4维向量空间，当给一个特性向量的第n个特征进行编码时，编码器会遍历每个特征向量的第n个特征，\n",
    "然后进行非重复计数。如果非重复计数的值是K，那么就把这个特征转 换为只有一个值是1其他值都是0的K维向量\n",
    "若该维特征没有该值则全为0\n",
    "'''\n",
    "data_onehot=preprocessing.OneHotEncoder()\n",
    "data_onehot.fit([[0, 2, 1, 12], [1, 3, 5, 3], [2, 3, 2, 12], [1, 2, 4, 3]])\n",
    "data_onehot_transform=data_onehot.transform([[2,3,5,3]]).toarray()\n",
    "print('onehot is \\n',data_onehot_transform)"
   ]
  },
  {
   "cell_type": "markdown",
   "metadata": {},
   "source": [
    "## 1.3 标记编码方法\n",
    "\n",
    "将人工标记字符串转成数值形式"
   ]
  },
  {
   "cell_type": "code",
   "execution_count": 13,
   "metadata": {},
   "outputs": [
    {
     "name": "stdout",
     "output_type": "stream",
     "text": [
      "audi --> 0\n",
      "bmw --> 1\n",
      "ford --> 2\n",
      "toyota --> 3\n"
     ]
    }
   ],
   "source": [
    "label_encoder=preprocessing.LabelEncoder()\n",
    "input_classes = ['audi', 'ford', 'audi', 'toyota', 'ford', 'bmw']\n",
    "label_encoder.fit(input_classes)\n",
    "for i,item in enumerate(label_encoder.classes_):\n",
    "    print(item,'-->',i)"
   ]
  },
  {
   "cell_type": "code",
   "execution_count": 18,
   "metadata": {},
   "outputs": [
    {
     "name": "stdout",
     "output_type": "stream",
     "text": [
      "\n",
      "Encoded labels = [2, 1, 0, 3, 1]\n",
      "Decoded labels = ['ford', 'bmw', 'audi', 'toyota', 'bmw']\n"
     ]
    }
   ],
   "source": [
    "#当然也可以逆向映射回去\n",
    "encoded_labels = [2, 1, 0, 3, 1]\n",
    "decoded_labels = label_encoder.inverse_transform(encoded_labels) \n",
    "print (\"\\nEncoded labels =\", encoded_labels)\n",
    "print (\"Decoded labels =\", list(decoded_labels))"
   ]
  },
  {
   "cell_type": "markdown",
   "metadata": {},
   "source": [
    "## 1.4 创建线性回归器\n",
    "### 1.4.1 准备工作\n",
    "线性回归目标就是提取输入输出的关联线性模型，使其残差平方和最小化，这便是OLS的方法\n",
    "### 1.4.2 详细步骤\n"
   ]
  },
  {
   "cell_type": "code",
   "execution_count": 35,
   "metadata": {},
   "outputs": [],
   "source": [
    "'''\n",
    "读取两列数据\n",
    "'''\n",
    "df=pd.read_csv('data_singlevar.txt',header=None)\n",
    "X,y=df[0],df[1]"
   ]
  },
  {
   "cell_type": "code",
   "execution_count": 36,
   "metadata": {},
   "outputs": [
    {
     "name": "stdout",
     "output_type": "stream",
     "text": [
      "(40, 1) (40,)\n"
     ]
    }
   ],
   "source": [
    "'''\n",
    "切分训练集和测试集\n",
    "'''\n",
    "X_train=np.array(X[:int(len(X)*0.8)]).reshape(-1,1)\n",
    "y_train=np.array(y[:int(len(X)*0.8)])\n",
    "X_test=np.array(X[int(len(X)*0.8):]).reshape(-1,1)\n",
    "y_test=np.array(y[int(len(X)*0.8):])\n",
    "print(X_train.shape,y_train.shape)"
   ]
  },
  {
   "cell_type": "code",
   "execution_count": 40,
   "metadata": {},
   "outputs": [
    {
     "data": {
      "text/plain": [
       "Text(0.5,1,'Training Data')"
      ]
     },
     "execution_count": 40,
     "metadata": {},
     "output_type": "execute_result"
    },
    {
     "data": {
      "image/png": "[encoded data removed]",
      "text/plain": [
       "<Figure size 432x288 with 1 Axes>"
      ]
     },
     "metadata": {},
     "output_type": "display_data"
    }
   ],
   "source": [
    "'''\n",
    "建模学习,画图直观查看对训练数据的拟合情况\n",
    "'''\n",
    "from sklearn import linear_model\n",
    "linear_regressor=linear_model.LinearRegression()\n",
    "linear_regressor.fit(X_train,y_train)\n",
    "y_pred=linear_regressor.predict(X_train)\n",
    "plt.scatter(X_train,y_train,color='green')\n",
    "plt.plot(X_train,y_pred,'b',linewidth=4)\n",
    "plt.title('Training Data')\n"
   ]
  },
  {
   "cell_type": "code",
   "execution_count": 41,
   "metadata": {},
   "outputs": [
    {
     "data": {
      "text/plain": [
       "Text(0.5,1,'Training Data')"
      ]
     },
     "execution_count": 41,
     "metadata": {},
     "output_type": "execute_result"
    },
    {
     "data": {
      "image/png": "[encoded data removed]",
      "text/plain": [
       "<Figure size 432x288 with 1 Axes>"
      ]
     },
     "metadata": {},
     "output_type": "display_data"
    }
   ],
   "source": [
    "'''\n",
    "查看对测试数据的情况\n",
    "'''\n",
    "y_pred=linear_regressor.predict(X_test)\n",
    "plt.scatter(X_test,y_test,color='green')\n",
    "plt.plot(X_test,y_pred,'b',linewidth=4)\n",
    "plt.title('Training Data')"
   ]
  },
  {
   "cell_type": "markdown",
   "metadata": {},
   "source": [
    "## 1.5 计算回归准确性\n",
    "\n",
    "目前为止已经建立了一个简单的线性回归器，接下来就是如何评价回归器的效果\n"
   ]
  },
  {
   "cell_type": "markdown",
   "metadata": {},
   "source": [
    "### 1.5.1 计算回归准确性\n",
    "\n",
    "用`误差`来实际衡量实际值与预测值之间的偏差\n",
    "\n",
    "- 平均绝对误差：这是给定数据集的所有数据点的绝对误差平均 值。\n",
    "- 均方误差：这是给定数据集的所有数据点的误差的平方的平均值。 这是最流行的指标之一。\n",
    "- 中位数绝对误差：这是给定数据集的所有数据点的误差的中位 数。这个指标的主要优点是可以消除异常值(outlier)的干扰。测试数据集中的单个坏点 不会影响整个误差指标，均值误差指标会受到异常点的影响\n",
    "- 解释方差分：这个分数用于衡量我们的模型对数据集波动 的解释能力。如果得分1.0分，那么表明我们的模型是完美的\n",
    "- R2得分：这个指标读作“R方”，是指确定性相关系数，用于衡量模型对未 知样本预测的效果。最好的得分是1.0，值也可以是负数。"
   ]
  },
  {
   "cell_type": "markdown",
   "metadata": {},
   "source": [
    "### 1.5.2 详细步骤"
   ]
  },
  {
   "cell_type": "code",
   "execution_count": 43,
   "metadata": {},
   "outputs": [
    {
     "name": "stdout",
     "output_type": "stream",
     "text": [
      "MAE:0.54\n",
      "MSE:0.38\n",
      "MedianAE:0.54\n",
      "Ecplained variance score:0.68\n",
      "R2_score:0.68\n",
      "\n"
     ]
    }
   ],
   "source": [
    "from sklearn import  metrics\n",
    "print(\"MAE:{}\\nMSE:{}\\nMedianAE:{}\\nEcplained variance score:{}\\nR2_score:{}\\n\".format(\n",
    "    round(metrics.mean_absolute_error(y_test,y_pred),2),\n",
    "    round(metrics.mean_squared_error(y_test,y_pred),2),\n",
    "    round(metrics.median_absolute_error(y_test,y_pred),2),\n",
    "    round(metrics.explained_variance_score(y_test,y_pred),2),\n",
    "    round(metrics.r2_score(y_test,y_pred),2)\n",
    "))"
   ]
  },
  {
   "cell_type": "markdown",
   "metadata": {},
   "source": [
    "## 1.6 保存模型\n",
    "使用cPickle保存与读取模型"
   ]
  },
  {
   "cell_type": "code",
   "execution_count": 47,
   "metadata": {},
   "outputs": [
    {
     "data": {
      "text/plain": [
       "LinearRegression(copy_X=True, fit_intercept=True, n_jobs=1, normalize=False)"
      ]
     },
     "execution_count": 47,
     "metadata": {},
     "output_type": "execute_result"
    }
   ],
   "source": [
    "import _pickle as pickle\n",
    "model_file='model.pkl'\n",
    "with open(model_file,'wb') as fw:\n",
    "    pickle.dump(linear_regressor,fw)\n",
    "with open(model_file,'rb') as fr:\n",
    "    model_linregr=pickle.load(fr)\n",
    "model_linregr"
   ]
  },
  {
   "cell_type": "markdown",
   "metadata": {},
   "source": [
    "## 1.7 创建岭回归器\n",
    "线性回归对于异常值敏感￼,最小二乘法会考虑所有数据点的影响，正如下图虚线所示，但是整体模型并不是最优的\n",
    "\n",
    "![1](https://ws1.sinaimg.cn/large/0069RVTdgy1fupfw3eq2mj30an09q3yh.jpg)"
   ]
  },
  {
   "cell_type": "markdown",
   "metadata": {},
   "source": [
    "## 1.7.2 详细步骤\n",
    "加入正则化的岭回归"
   ]
  },
  {
   "cell_type": "code",
   "execution_count": 63,
   "metadata": {},
   "outputs": [],
   "source": [
    "df=pd.read_csv('data_multivar.txt',header=None)\n",
    "X,y=df[[0,1,2]],df[3]"
   ]
  },
  {
   "cell_type": "code",
   "execution_count": 65,
   "metadata": {},
   "outputs": [],
   "source": [
    "X_train=np.array(X[:int(len(X)*0.8)])\n",
    "y_train=np.array(y[:int(len(X)*0.8)])\n",
    "X_test=np.array(X[int(len(X)*0.8):])\n",
    "y_test=np.array(y[int(len(X)*0.8):])"
   ]
  },
  {
   "cell_type": "code",
   "execution_count": 66,
   "metadata": {},
   "outputs": [
    {
     "name": "stdout",
     "output_type": "stream",
     "text": [
      "MAE:3.95\n",
      "MSE:23.15\n",
      "MedianAE:3.69\n",
      "Ecplained variance score:0.84\n",
      "R2_score:0.83\n",
      "\n"
     ]
    }
   ],
   "source": [
    "ridge_regressor=linear_model.Ridge(alpha=0.01,fit_intercept=True,max_iter=10000)\n",
    "# alpha为惩罚系数 alpha=0 则退为一般的OLS\n",
    "ridge_regressor.fit(X_train,y_train)\n",
    "y_pred=ridge_regressor.predict(X_test)\n",
    "print(\"MAE:{}\\nMSE:{}\\nMedianAE:{}\\nEcplained variance score:{}\\nR2_score:{}\\n\".format(\n",
    "    round(metrics.mean_absolute_error(y_test,y_pred),2),\n",
    "    round(metrics.mean_squared_error(y_test,y_pred),2),\n",
    "    round(metrics.median_absolute_error(y_test,y_pred),2),\n",
    "    round(metrics.explained_variance_score(y_test,y_pred),2),\n",
    "    round(metrics.r2_score(y_test,y_pred),2)\n",
    "))"
   ]
  },
  {
   "cell_type": "code",
   "execution_count": 98,
   "metadata": {},
   "outputs": [
    {
     "data": {
      "application/javascript": [
       "/* Put everything inside the global mpl namespace */\n",
       "window.mpl = {};\n",
       "\n",
       "\n",
       "mpl.get_websocket_type = function() {\n",
       "    if (typeof(WebSocket) !== 'undefined') {\n",
       "        return WebSocket;\n",
       "    } else if (typeof(MozWebSocket) !== 'undefined') {\n",
       "        return MozWebSocket;\n",
       "    } else {\n",
       "        alert('Your browser does not have WebSocket support.' +\n",
       "              'Please try Chrome, Safari or Firefox ≥ 6. ' +\n",
       "              'Firefox 4 and 5 are also supported but you ' +\n",
       "              'have to enable WebSockets in about:config.');\n",
       "    };\n",
       "}\n",
       "\n",
       "mpl.figure = function(figure_id, websocket, ondownload, parent_element) {\n",
       "    this.id = figure_id;\n",
       "\n",
       "    this.ws = websocket;\n",
       "\n",
       "    this.supports_binary = (this.ws.binaryType != undefined);\n",
       "\n",
       "    if (!this.supports_binary) {\n",
       "        var warnings = document.getElementById(\"mpl-warnings\");\n",
       "        if (warnings) {\n",
       "            warnings.style.display = 'block';\n",
       "            warnings.textContent = (\n",
       "                \"This browser does not support binary websocket messages. \" +\n",
       "                    \"Performance may be slow.\");\n",
       "        }\n",
       "    }\n",
       "\n",
       "    this.imageObj = new Image();\n",
       "\n",
       "    this.context = undefined;\n",
       "    this.message = undefined;\n",
       "    this.canvas = undefined;\n",
       "    this.rubberband_canvas = undefined;\n",
       "    this.rubberband_context = undefined;\n",
       "    this.format_dropdown = undefined;\n",
       "\n",
       "    this.image_mode = 'full';\n",
       "\n",
       "    this.root = $('<div/>');\n",
       "    this._root_extra_style(this.root)\n",
       "    this.root.attr('style', 'display: inline-block');\n",
       "\n",
       "    $(parent_element).append(this.root);\n",
       "\n",
       "    this._init_header(this);\n",
       "    this._init_canvas(this);\n",
       "    this._init_toolbar(this);\n",
       "\n",
       "    var fig = this;\n",
       "\n",
       "    this.waiting = false;\n",
       "\n",
       "    this.ws.onopen =  function () {\n",
       "            fig.send_message(\"supports_binary\", {value: fig.supports_binary});\n",
       "            fig.send_message(\"send_image_mode\", {});\n",
       "            if (mpl.ratio != 1) {\n",
       "                fig.send_message(\"set_dpi_ratio\", {'dpi_ratio': mpl.ratio});\n",
       "            }\n",
       "            fig.send_message(\"refresh\", {});\n",
       "        }\n",
       "\n",
       "    this.imageObj.onload = function() {\n",
       "            if (fig.image_mode == 'full') {\n",
       "                // Full images could contain transparency (where diff images\n",
       "                // almost always do), so we need to clear the canvas so that\n",
       "                // there is no ghosting.\n",
       "                fig.context.clearRect(0, 0, fig.canvas.width, fig.canvas.height);\n",
       "            }\n",
       "            fig.context.drawImage(fig.imageObj, 0, 0);\n",
       "        };\n",
       "\n",
       "    this.imageObj.onunload = function() {\n",
       "        fig.ws.close();\n",
       "    }\n",
       "\n",
       "    this.ws.onmessage = this._make_on_message_function(this);\n",
       "\n",
       "    this.ondownload = ondownload;\n",
       "}\n",
       "\n",
       "mpl.figure.prototype._init_header = function() {\n",
       "    var titlebar = $(\n",
       "        '<div class=\"ui-dialog-titlebar ui-widget-header ui-corner-all ' +\n",
       "        'ui-helper-clearfix\"/>');\n",
       "    var titletext = $(\n",
       "        '<div class=\"ui-dialog-title\" style=\"width: 100%; ' +\n",
       "        'text-align: center; padding: 3px;\"/>');\n",
       "    titlebar.append(titletext)\n",
       "    this.root.append(titlebar);\n",
       "    this.header = titletext[0];\n",
       "}\n",
       "\n",
       "\n",
       "\n",
       "mpl.figure.prototype._canvas_extra_style = function(canvas_div) {\n",
       "\n",
       "}\n",
       "\n",
       "\n",
       "mpl.figure.prototype._root_extra_style = function(canvas_div) {\n",
       "\n",
       "}\n",
       "\n",
       "mpl.figure.prototype._init_canvas = function() {\n",
       "    var fig = this;\n",
       "\n",
       "    var canvas_div = $('<div/>');\n",
       "\n",
       "    canvas_div.attr('style', 'position: relative; clear: both; outline: 0');\n",
       "\n",
       "    function canvas_keyboard_event(event) {\n",
       "        return fig.key_event(event, event['data']);\n",
       "    }\n",
       "\n",
       "    canvas_div.keydown('key_press', canvas_keyboard_event);\n",
       "    canvas_div.keyup('key_release', canvas_keyboard_event);\n",
       "    this.canvas_div = canvas_div\n",
       "    this._canvas_extra_style(canvas_div)\n",
       "    this.root.append(canvas_div);\n",
       "\n",
       "    var canvas = $('<canvas/>');\n",
       "    canvas.addClass('mpl-canvas');\n",
       "    canvas.attr('style', \"left: 0; top: 0; z-index: 0; outline: 0\")\n",
       "\n",
       "    this.canvas = canvas[0];\n",
       "    this.context = canvas[0].getContext(\"2d\");\n",
       "\n",
       "    var backingStore = this.context.backingStorePixelRatio ||\n",
       "\tthis.context.webkitBackingStorePixelRatio ||\n",
       "\tthis.context.mozBackingStorePixelRatio ||\n",
       "\tthis.context.msBackingStorePixelRatio ||\n",
       "\tthis.context.oBackingStorePixelRatio ||\n",
       "\tthis.context.backingStorePixelRatio || 1;\n",
       "\n",
       "    mpl.ratio = (window.devicePixelRatio || 1) / backingStore;\n",
       "\n",
       "    var rubberband = $('<canvas/>');\n",
       "    rubberband.attr('style', \"position: absolute; left: 0; top: 0; z-index: 1;\")\n",
       "\n",
       "    var pass_mouse_events = true;\n",
       "\n",
       "    canvas_div.resizable({\n",
       "        start: function(event, ui) {\n",
       "            pass_mouse_events = false;\n",
       "        },\n",
       "        resize: function(event, ui) {\n",
       "            fig.request_resize(ui.size.width, ui.size.height);\n",
       "        },\n",
       "        stop: function(event, ui) {\n",
       "            pass_mouse_events = true;\n",
       "            fig.request_resize(ui.size.width, ui.size.height);\n",
       "        },\n",
       "    });\n",
       "\n",
       "    function mouse_event_fn(event) {\n",
       "        if (pass_mouse_events)\n",
       "            return fig.mouse_event(event, event['data']);\n",
       "    }\n",
       "\n",
       "    rubberband.mousedown('button_press', mouse_event_fn);\n",
       "    rubberband.mouseup('button_release', mouse_event_fn);\n",
       "    // Throttle sequential mouse events to 1 every 20ms.\n",
       "    rubberband.mousemove('motion_notify', mouse_event_fn);\n",
       "\n",
       "    rubberband.mouseenter('figure_enter', mouse_event_fn);\n",
       "    rubberband.mouseleave('figure_leave', mouse_event_fn);\n",
       "\n",
       "    canvas_div.on(\"wheel\", function (event) {\n",
       "        event = event.originalEvent;\n",
       "        event['data'] = 'scroll'\n",
       "        if (event.deltaY < 0) {\n",
       "            event.step = 1;\n",
       "        } else {\n",
       "            event.step = -1;\n",
       "        }\n",
       "        mouse_event_fn(event);\n",
       "    });\n",
       "\n",
       "    canvas_div.append(canvas);\n",
       "    canvas_div.append(rubberband);\n",
       "\n",
       "    this.rubberband = rubberband;\n",
       "    this.rubberband_canvas = rubberband[0];\n",
       "    this.rubberband_context = rubberband[0].getContext(\"2d\");\n",
       "    this.rubberband_context.strokeStyle = \"#000000\";\n",
       "\n",
       "    this._resize_canvas = function(width, height) {\n",
       "        // Keep the size of the canvas, canvas container, and rubber band\n",
       "        // canvas in synch.\n",
       "        canvas_div.css('width', width)\n",
       "        canvas_div.css('height', height)\n",
       "\n",
       "        canvas.attr('width', width * mpl.ratio);\n",
       "        canvas.attr('height', height * mpl.ratio);\n",
       "        canvas.attr('style', 'width: ' + width + 'px; height: ' + height + 'px;');\n",
       "\n",
       "        rubberband.attr('width', width);\n",
       "        rubberband.attr('height', height);\n",
       "    }\n",
       "\n",
       "    // Set the figure to an initial 600x600px, this will subsequently be updated\n",
       "    // upon first draw.\n",
       "    this._resize_canvas(600, 600);\n",
       "\n",
       "    // Disable right mouse context menu.\n",
       "    $(this.rubberband_canvas).bind(\"contextmenu\",function(e){\n",
       "        return false;\n",
       "    });\n",
       "\n",
       "    function set_focus () {\n",
       "        canvas.focus();\n",
       "        canvas_div.focus();\n",
       "    }\n",
       "\n",
       "    window.setTimeout(set_focus, 100);\n",
       "}\n",
       "\n",
       "mpl.figure.prototype._init_toolbar = function() {\n",
       "    var fig = this;\n",
       "\n",
       "    var nav_element = $('<div/>')\n",
       "    nav_element.attr('style', 'width: 100%');\n",
       "    this.root.append(nav_element);\n",
       "\n",
       "    // Define a callback function for later on.\n",
       "    function toolbar_event(event) {\n",
       "        return fig.toolbar_button_onclick(event['data']);\n",
       "    }\n",
       "    function toolbar_mouse_event(event) {\n",
       "        return fig.toolbar_button_onmouseover(event['data']);\n",
       "    }\n",
       "\n",
       "    for(var toolbar_ind in mpl.toolbar_items) {\n",
       "        var name = mpl.toolbar_items[toolbar_ind][0];\n",
       "        var tooltip = mpl.toolbar_items[toolbar_ind][1];\n",
       "        var image = mpl.toolbar_items[toolbar_ind][2];\n",
       "        var method_name = mpl.toolbar_items[toolbar_ind][3];\n",
       "\n",
       "        if (!name) {\n",
       "            // put a spacer in here.\n",
       "            continue;\n",
       "        }\n",
       "        var button = $('<button/>');\n",
       "        button.addClass('ui-button ui-widget ui-state-default ui-corner-all ' +\n",
       "                        'ui-button-icon-only');\n",
       "        button.attr('role', 'button');\n",
       "        button.attr('aria-disabled', 'false');\n",
       "        button.click(method_name, toolbar_event);\n",
       "        button.mouseover(tooltip, toolbar_mouse_event);\n",
       "\n",
       "        var icon_img = $('<span/>');\n",
       "        icon_img.addClass('ui-button-icon-primary ui-icon');\n",
       "        icon_img.addClass(image);\n",
       "        icon_img.addClass('ui-corner-all');\n",
       "\n",
       "        var tooltip_span = $('<span/>');\n",
       "        tooltip_span.addClass('ui-button-text');\n",
       "        tooltip_span.html(tooltip);\n",
       "\n",
       "        button.append(icon_img);\n",
       "        button.append(tooltip_span);\n",
       "\n",
       "        nav_element.append(button);\n",
       "    }\n",
       "\n",
       "    var fmt_picker_span = $('<span/>');\n",
       "\n",
       "    var fmt_picker = $('<select/>');\n",
       "    fmt_picker.addClass('mpl-toolbar-option ui-widget ui-widget-content');\n",
       "    fmt_picker_span.append(fmt_picker);\n",
       "    nav_element.append(fmt_picker_span);\n",
       "    this.format_dropdown = fmt_picker[0];\n",
       "\n",
       "    for (var ind in mpl.extensions) {\n",
       "        var fmt = mpl.extensions[ind];\n",
       "        var option = $(\n",
       "            '<option/>', {selected: fmt === mpl.default_extension}).html(fmt);\n",
       "        fmt_picker.append(option)\n",
       "    }\n",
       "\n",
       "    // Add hover states to the ui-buttons\n",
       "    $( \".ui-button\" ).hover(\n",
       "        function() { $(this).addClass(\"ui-state-hover\");},\n",
       "        function() { $(this).removeClass(\"ui-state-hover\");}\n",
       "    );\n",
       "\n",
       "    var status_bar = $('<span class=\"mpl-message\"/>');\n",
       "    nav_element.append(status_bar);\n",
       "    this.message = status_bar[0];\n",
       "}\n",
       "\n",
       "mpl.figure.prototype.request_resize = function(x_pixels, y_pixels) {\n",
       "    // Request matplotlib to resize the figure. Matplotlib will then trigger a resize in the client,\n",
       "    // which will in turn request a refresh of the image.\n",
       "    this.send_message('resize', {'width': x_pixels, 'height': y_pixels});\n",
       "}\n",
       "\n",
       "mpl.figure.prototype.send_message = function(type, properties) {\n",
       "    properties['type'] = type;\n",
       "    properties['figure_id'] = this.id;\n",
       "    this.ws.send(JSON.stringify(properties));\n",
       "}\n",
       "\n",
       "mpl.figure.prototype.send_draw_message = function() {\n",
       "    if (!this.waiting) {\n",
       "        this.waiting = true;\n",
       "        this.ws.send(JSON.stringify({type: \"draw\", figure_id: this.id}));\n",
       "    }\n",
       "}\n",
       "\n",
       "\n",
       "mpl.figure.prototype.handle_save = function(fig, msg) {\n",
       "    var format_dropdown = fig.format_dropdown;\n",
       "    var format = format_dropdown.options[format_dropdown.selectedIndex].value;\n",
       "    fig.ondownload(fig, format);\n",
       "}\n",
       "\n",
       "\n",
       "mpl.figure.prototype.handle_resize = function(fig, msg) {\n",
       "    var size = msg['size'];\n",
       "    if (size[0] != fig.canvas.width || size[1] != fig.canvas.height) {\n",
       "        fig._resize_canvas(size[0], size[1]);\n",
       "        fig.send_message(\"refresh\", {});\n",
       "    };\n",
       "}\n",
       "\n",
       "mpl.figure.prototype.handle_rubberband = function(fig, msg) {\n",
       "    var x0 = msg['x0'] / mpl.ratio;\n",
       "    var y0 = (fig.canvas.height - msg['y0']) / mpl.ratio;\n",
       "    var x1 = msg['x1'] / mpl.ratio;\n",
       "    var y1 = (fig.canvas.height - msg['y1']) / mpl.ratio;\n",
       "    x0 = Math.floor(x0) + 0.5;\n",
       "    y0 = Math.floor(y0) + 0.5;\n",
       "    x1 = Math.floor(x1) + 0.5;\n",
       "    y1 = Math.floor(y1) + 0.5;\n",
       "    var min_x = Math.min(x0, x1);\n",
       "    var min_y = Math.min(y0, y1);\n",
       "    var width = Math.abs(x1 - x0);\n",
       "    var height = Math.abs(y1 - y0);\n",
       "\n",
       "    fig.rubberband_context.clearRect(\n",
       "        0, 0, fig.canvas.width, fig.canvas.height);\n",
       "\n",
       "    fig.rubberband_context.strokeRect(min_x, min_y, width, height);\n",
       "}\n",
       "\n",
       "mpl.figure.prototype.handle_figure_label = function(fig, msg) {\n",
       "    // Updates the figure title.\n",
       "    fig.header.textContent = msg['label'];\n",
       "}\n",
       "\n",
       "mpl.figure.prototype.handle_cursor = function(fig, msg) {\n",
       "    var cursor = msg['cursor'];\n",
       "    switch(cursor)\n",
       "    {\n",
       "    case 0:\n",
       "        cursor = 'pointer';\n",
       "        break;\n",
       "    case 1:\n",
       "        cursor = 'default';\n",
       "        break;\n",
       "    case 2:\n",
       "        cursor = 'crosshair';\n",
       "        break;\n",
       "    case 3:\n",
       "        cursor = 'move';\n",
       "        break;\n",
       "    }\n",
       "    fig.rubberband_canvas.style.cursor = cursor;\n",
       "}\n",
       "\n",
       "mpl.figure.prototype.handle_message = function(fig, msg) {\n",
       "    fig.message.textContent = msg['message'];\n",
       "}\n",
       "\n",
       "mpl.figure.prototype.handle_draw = function(fig, msg) {\n",
       "    // Request the server to send over a new figure.\n",
       "    fig.send_draw_message();\n",
       "}\n",
       "\n",
       "mpl.figure.prototype.handle_image_mode = function(fig, msg) {\n",
       "    fig.image_mode = msg['mode'];\n",
       "}\n",
       "\n",
       "mpl.figure.prototype.updated_canvas_event = function() {\n",
       "    // Called whenever the canvas gets updated.\n",
       "    this.send_message(\"ack\", {});\n",
       "}\n",
       "\n",
       "// A function to construct a web socket function for onmessage handling.\n",
       "// Called in the figure constructor.\n",
       "mpl.figure.prototype._make_on_message_function = function(fig) {\n",
       "    return function socket_on_message(evt) {\n",
       "        if (evt.data instanceof Blob) {\n",
       "            /* FIXME: We get \"Resource interpreted as Image but\n",
       "             * transferred with MIME type text/plain:\" errors on\n",
       "             * Chrome.  But how to set the MIME type?  It doesn't seem\n",
       "             * to be part of the websocket stream */\n",
       "            evt.data.type = \"image/png\";\n",
       "\n",
       "            /* Free the memory for the previous frames */\n",
       "            if (fig.imageObj.src) {\n",
       "                (window.URL || window.webkitURL).revokeObjectURL(\n",
       "                    fig.imageObj.src);\n",
       "            }\n",
       "\n",
       "            fig.imageObj.src = (window.URL || window.webkitURL).createObjectURL(\n",
       "                evt.data);\n",
       "            fig.updated_canvas_event();\n",
       "            fig.waiting = false;\n",
       "            return;\n",
       "        }\n",
       "        else if (typeof evt.data === 'string' && evt.data.slice(0, 21) == \"data:image/png;base64\") {\n",
       "            fig.imageObj.src = evt.data;\n",
       "            fig.updated_canvas_event();\n",
       "            fig.waiting = false;\n",
       "            return;\n",
       "        }\n",
       "\n",
       "        var msg = JSON.parse(evt.data);\n",
       "        var msg_type = msg['type'];\n",
       "\n",
       "        // Call the  \"handle_{type}\" callback, which takes\n",
       "        // the figure and JSON message as its only arguments.\n",
       "        try {\n",
       "            var callback = fig[\"handle_\" + msg_type];\n",
       "        } catch (e) {\n",
       "            console.log(\"No handler for the '\" + msg_type + \"' message type: \", msg);\n",
       "            return;\n",
       "        }\n",
       "\n",
       "        if (callback) {\n",
       "            try {\n",
       "                // console.log(\"Handling '\" + msg_type + \"' message: \", msg);\n",
       "                callback(fig, msg);\n",
       "            } catch (e) {\n",
       "                console.log(\"Exception inside the 'handler_\" + msg_type + \"' callback:\", e, e.stack, msg);\n",
       "            }\n",
       "        }\n",
       "    };\n",
       "}\n",
       "\n",
       "// from http://stackoverflow.com/questions/1114465/getting-mouse-location-in-canvas\n",
       "mpl.findpos = function(e) {\n",
       "    //this section is from http://www.quirksmode.org/js/events_properties.html\n",
       "    var targ;\n",
       "    if (!e)\n",
       "        e = window.event;\n",
       "    if (e.target)\n",
       "        targ = e.target;\n",
       "    else if (e.srcElement)\n",
       "        targ = e.srcElement;\n",
       "    if (targ.nodeType == 3) // defeat Safari bug\n",
       "        targ = targ.parentNode;\n",
       "\n",
       "    // jQuery normalizes the pageX and pageY\n",
       "    // pageX,Y are the mouse positions relative to the document\n",
       "    // offset() returns the position of the element relative to the document\n",
       "    var x = e.pageX - $(targ).offset().left;\n",
       "    var y = e.pageY - $(targ).offset().top;\n",
       "\n",
       "    return {\"x\": x, \"y\": y};\n",
       "};\n",
       "\n",
       "/*\n",
       " * return a copy of an object with only non-object keys\n",
       " * we need this to avoid circular references\n",
       " * http://stackoverflow.com/a/24161582/3208463\n",
       " */\n",
       "function simpleKeys (original) {\n",
       "  return Object.keys(original).reduce(function (obj, key) {\n",
       "    if (typeof original[key] !== 'object')\n",
       "        obj[key] = original[key]\n",
       "    return obj;\n",
       "  }, {});\n",
       "}\n",
       "\n",
       "mpl.figure.prototype.mouse_event = function(event, name) {\n",
       "    var canvas_pos = mpl.findpos(event)\n",
       "\n",
       "    if (name === 'button_press')\n",
       "    {\n",
       "        this.canvas.focus();\n",
       "        this.canvas_div.focus();\n",
       "    }\n",
       "\n",
       "    var x = canvas_pos.x * mpl.ratio;\n",
       "    var y = canvas_pos.y * mpl.ratio;\n",
       "\n",
       "    this.send_message(name, {x: x, y: y, button: event.button,\n",
       "                             step: event.step,\n",
       "                             guiEvent: simpleKeys(event)});\n",
       "\n",
       "    /* This prevents the web browser from automatically changing to\n",
       "     * the text insertion cursor when the button is pressed.  We want\n",
       "     * to control all of the cursor setting manually through the\n",
       "     * 'cursor' event from matplotlib */\n",
       "    event.preventDefault();\n",
       "    return false;\n",
       "}\n",
       "\n",
       "mpl.figure.prototype._key_event_extra = function(event, name) {\n",
       "    // Handle any extra behaviour associated with a key event\n",
       "}\n",
       "\n",
       "mpl.figure.prototype.key_event = function(event, name) {\n",
       "\n",
       "    // Prevent repeat events\n",
       "    if (name == 'key_press')\n",
       "    {\n",
       "        if (event.which === this._key)\n",
       "            return;\n",
       "        else\n",
       "            this._key = event.which;\n",
       "    }\n",
       "    if (name == 'key_release')\n",
       "        this._key = null;\n",
       "\n",
       "    var value = '';\n",
       "    if (event.ctrlKey && event.which != 17)\n",
       "        value += \"ctrl+\";\n",
       "    if (event.altKey && event.which != 18)\n",
       "        value += \"alt+\";\n",
       "    if (event.shiftKey && event.which != 16)\n",
       "        value += \"shift+\";\n",
       "\n",
       "    value += 'k';\n",
       "    value += event.which.toString();\n",
       "\n",
       "    this._key_event_extra(event, name);\n",
       "\n",
       "    this.send_message(name, {key: value,\n",
       "                             guiEvent: simpleKeys(event)});\n",
       "    return false;\n",
       "}\n",
       "\n",
       "mpl.figure.prototype.toolbar_button_onclick = function(name) {\n",
       "    if (name == 'download') {\n",
       "        this.handle_save(this, null);\n",
       "    } else {\n",
       "        this.send_message(\"toolbar_button\", {name: name});\n",
       "    }\n",
       "};\n",
       "\n",
       "mpl.figure.prototype.toolbar_button_onmouseover = function(tooltip) {\n",
       "    this.message.textContent = tooltip;\n",
       "};\n",
       "mpl.toolbar_items = [[\"Home\", \"Reset original view\", \"fa fa-home icon-home\", \"home\"], [\"Back\", \"Back to  previous view\", \"fa fa-arrow-left icon-arrow-left\", \"back\"], [\"Forward\", \"Forward to next view\", \"fa fa-arrow-right icon-arrow-right\", \"forward\"], [\"\", \"\", \"\", \"\"], [\"Pan\", \"Pan axes with left mouse, zoom with right\", \"fa fa-arrows icon-move\", \"pan\"], [\"Zoom\", \"Zoom to rectangle\", \"fa fa-square-o icon-check-empty\", \"zoom\"], [\"\", \"\", \"\", \"\"], [\"Download\", \"Download plot\", \"fa fa-floppy-o icon-save\", \"download\"]];\n",
       "\n",
       "mpl.extensions = [\"eps\", \"jpeg\", \"pdf\", \"png\", \"ps\", \"raw\", \"svg\", \"tif\"];\n",
       "\n",
       "mpl.default_extension = \"png\";var comm_websocket_adapter = function(comm) {\n",
       "    // Create a \"websocket\"-like object which calls the given IPython comm\n",
       "    // object with the appropriate methods. Currently this is a non binary\n",
       "    // socket, so there is still some room for performance tuning.\n",
       "    var ws = {};\n",
       "\n",
       "    ws.close = function() {\n",
       "        comm.close()\n",
       "    };\n",
       "    ws.send = function(m) {\n",
       "        //console.log('sending', m);\n",
       "        comm.send(m);\n",
       "    };\n",
       "    // Register the callback with on_msg.\n",
       "    comm.on_msg(function(msg) {\n",
       "        //console.log('receiving', msg['content']['data'], msg);\n",
       "        // Pass the mpl event to the overridden (by mpl) onmessage function.\n",
       "        ws.onmessage(msg['content']['data'])\n",
       "    });\n",
       "    return ws;\n",
       "}\n",
       "\n",
       "mpl.mpl_figure_comm = function(comm, msg) {\n",
       "    // This is the function which gets called when the mpl process\n",
       "    // starts-up an IPython Comm through the \"matplotlib\" channel.\n",
       "\n",
       "    var id = msg.content.data.id;\n",
       "    // Get hold of the div created by the display call when the Comm\n",
       "    // socket was opened in Python.\n",
       "    var element = $(\"#\" + id);\n",
       "    var ws_proxy = comm_websocket_adapter(comm)\n",
       "\n",
       "    function ondownload(figure, format) {\n",
       "        window.open(figure.imageObj.src);\n",
       "    }\n",
       "\n",
       "    var fig = new mpl.figure(id, ws_proxy,\n",
       "                           ondownload,\n",
       "                           element.get(0));\n",
       "\n",
       "    // Call onopen now - mpl needs it, as it is assuming we've passed it a real\n",
       "    // web socket which is closed, not our websocket->open comm proxy.\n",
       "    ws_proxy.onopen();\n",
       "\n",
       "    fig.parent_element = element.get(0);\n",
       "    fig.cell_info = mpl.find_output_cell(\"<div id='\" + id + \"'></div>\");\n",
       "    if (!fig.cell_info) {\n",
       "        console.error(\"Failed to find cell for figure\", id, fig);\n",
       "        return;\n",
       "    }\n",
       "\n",
       "    var output_index = fig.cell_info[2]\n",
       "    var cell = fig.cell_info[0];\n",
       "\n",
       "};\n",
       "\n",
       "mpl.figure.prototype.handle_close = function(fig, msg) {\n",
       "    var width = fig.canvas.width/mpl.ratio\n",
       "    fig.root.unbind('remove')\n",
       "\n",
       "    // Update the output cell to use the data from the current canvas.\n",
       "    fig.push_to_output();\n",
       "    var dataURL = fig.canvas.toDataURL();\n",
       "    // Re-enable the keyboard manager in IPython - without this line, in FF,\n",
       "    // the notebook keyboard shortcuts fail.\n",
       "    IPython.keyboard_manager.enable()\n",
       "    $(fig.parent_element).html('<img src=\"' + dataURL + '\" width=\"' + width + '\">');\n",
       "    fig.close_ws(fig, msg);\n",
       "}\n",
       "\n",
       "mpl.figure.prototype.close_ws = function(fig, msg){\n",
       "    fig.send_message('closing', msg);\n",
       "    // fig.ws.close()\n",
       "}\n",
       "\n",
       "mpl.figure.prototype.push_to_output = function(remove_interactive) {\n",
       "    // Turn the data on the canvas into data in the output cell.\n",
       "    var width = this.canvas.width/mpl.ratio\n",
       "    var dataURL = this.canvas.toDataURL();\n",
       "    this.cell_info[1]['text/html'] = '<img src=\"' + dataURL + '\" width=\"' + width + '\">';\n",
       "}\n",
       "\n",
       "mpl.figure.prototype.updated_canvas_event = function() {\n",
       "    // Tell IPython that the notebook contents must change.\n",
       "    IPython.notebook.set_dirty(true);\n",
       "    this.send_message(\"ack\", {});\n",
       "    var fig = this;\n",
       "    // Wait a second, then push the new image to the DOM so\n",
       "    // that it is saved nicely (might be nice to debounce this).\n",
       "    setTimeout(function () { fig.push_to_output() }, 1000);\n",
       "}\n",
       "\n",
       "mpl.figure.prototype._init_toolbar = function() {\n",
       "    var fig = this;\n",
       "\n",
       "    var nav_element = $('<div/>')\n",
       "    nav_element.attr('style', 'width: 100%');\n",
       "    this.root.append(nav_element);\n",
       "\n",
       "    // Define a callback function for later on.\n",
       "    function toolbar_event(event) {\n",
       "        return fig.toolbar_button_onclick(event['data']);\n",
       "    }\n",
       "    function toolbar_mouse_event(event) {\n",
       "        return fig.toolbar_button_onmouseover(event['data']);\n",
       "    }\n",
       "\n",
       "    for(var toolbar_ind in mpl.toolbar_items){\n",
       "        var name = mpl.toolbar_items[toolbar_ind][0];\n",
       "        var tooltip = mpl.toolbar_items[toolbar_ind][1];\n",
       "        var image = mpl.toolbar_items[toolbar_ind][2];\n",
       "        var method_name = mpl.toolbar_items[toolbar_ind][3];\n",
       "\n",
       "        if (!name) { continue; };\n",
       "\n",
       "        var button = $('<button class=\"btn btn-default\" href=\"#\" title=\"' + name + '\"><i class=\"fa ' + image + ' fa-lg\"></i></button>');\n",
       "        button.click(method_name, toolbar_event);\n",
       "        button.mouseover(tooltip, toolbar_mouse_event);\n",
       "        nav_element.append(button);\n",
       "    }\n",
       "\n",
       "    // Add the status bar.\n",
       "    var status_bar = $('<span class=\"mpl-message\" style=\"text-align:right; float: right;\"/>');\n",
       "    nav_element.append(status_bar);\n",
       "    this.message = status_bar[0];\n",
       "\n",
       "    // Add the close button to the window.\n",
       "    var buttongrp = $('<div class=\"btn-group inline pull-right\"></div>');\n",
       "    var button = $('<button class=\"btn btn-mini btn-primary\" href=\"#\" title=\"Stop Interaction\"><i class=\"fa fa-power-off icon-remove icon-large\"></i></button>');\n",
       "    button.click(function (evt) { fig.handle_close(fig, {}); } );\n",
       "    button.mouseover('Stop Interaction', toolbar_mouse_event);\n",
       "    buttongrp.append(button);\n",
       "    var titlebar = this.root.find($('.ui-dialog-titlebar'));\n",
       "    titlebar.prepend(buttongrp);\n",
       "}\n",
       "\n",
       "mpl.figure.prototype._root_extra_style = function(el){\n",
       "    var fig = this\n",
       "    el.on(\"remove\", function(){\n",
       "\tfig.close_ws(fig, {});\n",
       "    });\n",
       "}\n",
       "\n",
       "mpl.figure.prototype._canvas_extra_style = function(el){\n",
       "    // this is important to make the div 'focusable\n",
       "    el.attr('tabindex', 0)\n",
       "    // reach out to IPython and tell the keyboard manager to turn it's self\n",
       "    // off when our div gets focus\n",
       "\n",
       "    // location in version 3\n",
       "    if (IPython.notebook.keyboard_manager) {\n",
       "        IPython.notebook.keyboard_manager.register_events(el);\n",
       "    }\n",
       "    else {\n",
       "        // location in version 2\n",
       "        IPython.keyboard_manager.register_events(el);\n",
       "    }\n",
       "\n",
       "}\n",
       "\n",
       "mpl.figure.prototype._key_event_extra = function(event, name) {\n",
       "    var manager = IPython.notebook.keyboard_manager;\n",
       "    if (!manager)\n",
       "        manager = IPython.keyboard_manager;\n",
       "\n",
       "    // Check for shift+enter\n",
       "    if (event.shiftKey && event.which == 13) {\n",
       "        this.canvas_div.blur();\n",
       "        event.shiftKey = false;\n",
       "        // Send a \"J\" for go to next cell\n",
       "        event.which = 74;\n",
       "        event.keyCode = 74;\n",
       "        manager.command_mode();\n",
       "        manager.handle_keydown(event);\n",
       "    }\n",
       "}\n",
       "\n",
       "mpl.figure.prototype.handle_save = function(fig, msg) {\n",
       "    fig.ondownload(fig, null);\n",
       "}\n",
       "\n",
       "\n",
       "mpl.find_output_cell = function(html_output) {\n",
       "    // Return the cell and output element which can be found *uniquely* in the notebook.\n",
       "    // Note - this is a bit hacky, but it is done because the \"notebook_saving.Notebook\"\n",
       "    // IPython event is triggered only after the cells have been serialised, which for\n",
       "    // our purposes (turning an active figure into a static one), is too late.\n",
       "    var cells = IPython.notebook.get_cells();\n",
       "    var ncells = cells.length;\n",
       "    for (var i=0; i<ncells; i++) {\n",
       "        var cell = cells[i];\n",
       "        if (cell.cell_type === 'code'){\n",
       "            for (var j=0; j<cell.output_area.outputs.length; j++) {\n",
       "                var data = cell.output_area.outputs[j];\n",
       "                if (data.data) {\n",
       "                    // IPython >= 3 moved mimebundle to data attribute of output\n",
       "                    data = data.data;\n",
       "                }\n",
       "                if (data['text/html'] == html_output) {\n",
       "                    return [cell, data, j];\n",
       "                }\n",
       "            }\n",
       "        }\n",
       "    }\n",
       "}\n",
       "\n",
       "// Register the function which deals with the matplotlib target/channel.\n",
       "// The kernel may be null if the page has been refreshed.\n",
       "if (IPython.notebook.kernel != null) {\n",
       "    IPython.notebook.kernel.comm_manager.register_target('matplotlib', mpl.mpl_figure_comm);\n",
       "}\n"
      ],
      "text/plain": [
       "<IPython.core.display.Javascript object>"
      ]
     },
     "metadata": {},
     "output_type": "display_data"
    },
    {
     "data": {
      "text/html": [
       "<img src=\"data:image/png;base64,iVBORw0KGgoAAAANSUhEUgAAAbAAAAEgCAYAAADVKCZpAAAgAElEQVR4Xuy9CZgdR3X+/d5l9l0ajaTRvlmyJMuyvG8YG2ODWcwSwIawBviAAFmBhIQ1IQFCSAh8BAcn4AAhwYAxtiHEGGzZxni3ZMuSte/SjEazL3fu+n9+PS7RanXf7ns1Y83Y1c8zj+yZ7uqqU9XnrXPOe07FZC8rASsBKwErASuBKSiB2BTss+2ylYCVgJWAlYCVgCyA2UVgJWAlYCVgJTAlJWABbEpOm+20lYCVgJWAlYAFMLsGrASsBKwErASmpAQsgE3JabOdthKwErASsBKwAGbXgJWAlYCVgJXAlJSABbApOW2201YCVgJWAlYCFsDsGrASsBKwErASmJISsAA2JafNdtpKwErASsBKwAKYXQNWAlYCVgJWAlNSAhbApuS02U5bCVgJWAlYCVgAs2vASsBKwErASmBKSsAC2JScNttpKwErASsBKwELYHYNWAlYCVgJWAlMSQlYAJuS02Y7bSVgJWAlYCVgAcyuASsBKwErASuBKSkBC2BTctpsp60ErASsBKwELIDZNWAlYCVgJWAlMCUlYAFsSk6b7bSVgJWAlYCVgAUwuwasBKwErASsBKakBCyATclps522ErASsBKwErAAZteAlYCVgJWAlcCUlIAFsCk5bbbTVgJWAlYCVgIWwOwasBKwErASsBKYkhKwADYlp8122krASsBKwErAAphdA1YCVgJWAlYCU1ICFsCm5LTZTlsJWAlYCVgJWACza8BKwErASsBKYEpKwALYlJw222krASsBKwErAQtgdg1YCVgJWAlYCUxJCVgAm5LTZjttJWAlYCVgJWABzK4BKwErASsBK4EpKQELYFNy2mynp6oECoVCdUdHx5nxeHxPW1vb4ak6DttvK4HJIAELYJNhFmwfnvcSKBQKif7+/nPi8fj1IyMja7LZ7IFCoXBPLpf72fz58w8+7wVgB2glMAESeN4CWKFQKEyAvGyTVgIlSYBlmM/nlc1mnX9jsZhSqZTzL3/jp7KyUtXV1UokEiW1bW+2EpgICcRYnFPkmjIdLVWeFsBKlZi9f7wlAGBlMpljwGX0wsjIiOLx+DEQ4z6ArKKiwgGyZDI53l2x7VkJRJaABbDIopq4Gy2ATZxsbcvFJQAYYXHxwwVwuTe1bgAzLRlLjf8HwIxFNoU2w3ZZPE8kYAFsEkykBbBJMAkvsC4Y4Nq1a5emT5+uurq644ALcXR3d2vbtm1qbm7WvHnzTrC2LJC9wBbNJByuBbBJMCkWwCbBJLxAugDo5HI5x+Livzdv3qw5c+Y4IGWuoaEhbd261fnfuXPnqq+vT4cPH9aMGTOc/8d96L4MkOFe5NnZs2c7MTJrkb1AFtUpHKYFsFMofJdLxpI4JsE8PJ+7YECGOBf/bVyFTz/9tAM4LS0tSqfT2r59u/r7+3Xaaadp2rRpwoVogOjQoUM6cOCAWltbHYvMC2S0vXHjRp155pmOtVZVVeXcY4Hs+byyTu3YLICdWvk7b7cW2CSYhOdxF4IIGgwZCwzLCtACoBYvXqxZs2YdAx0DYBA5uGgLa2z//v0OwM2fP99hJnJh1QFgZ5111jHWIpaYBbLn8eI6xUOzAHaKJ8AC2CSYgOdpF8IIGvz9scce0+DgoANE/Hjp8V4AM6ICyDo6Ohwgw/3Is4DcU0895QDYs+v6GJDxN8ge1iJ7ni62UzQsC2CnSPCeGIJ1IU6CeXi+dCEMuBgnBA3iXADRokWLHDei3xUEYOZe3tXZ2am9e/eqoaHBiYGdffbZxzVlcsh4FwBpgez5stJO/TgsgJ36ObAuxEkwB8+HLngJGl5KPGMEYJ555hnHRUic6+DBg44FhRuxHABzAxkuSFiLuCCxyGpqak5oEhAzQIZrEfejjZE9H1bfqRmDBbBTI3fvDtVaYJNgHqZqF6IAlx9Bg/FC2mhsbFRbW5vv8KnEwWViYMVkNDo6eozVuGfPHoeav2DBAtXW1voCmSGTYJFZIJuqq+/U9tsC2KmVv/N2S+KYBJMwRbtQjKDBkKDMAyZ+BA3+vmPHDtXX12vmzJnjAmBbtmxxWIiAE27K3bt3O5YYQAageS9T2QMrzALZFF2Ep7DbFsBOofBd7hdrgU2CeZhKXQAgoK1Dg1+yZMkJ5Aj+DmiRqNze3u5L0GC8O3fudCwk3H5+VykWGPcSV1uzZs2xpuhHT0+PA2S4DAEyANMPyAAzQ/awFtlUWo2nrq8WwE6d7N0fuQWwSTAPU6ELXoLGo48+6gAG4GAuQ9BoampywM3Q3P3GB8DxLCDnd/X29jrPR6l5COEDl+QZZ5zh25YBMtpauHChQ/rwXozviSeecKw4+sWPjZFNhZV5avpoAezUyP24t1oX4iSYhEnehaA4FzT4008/3XHTeQkafi477zCxjAAoL4ARz4KQQRUOLCMqcMBULBYLCwMw827a5L0AE0BGDM59PfzwwzrnnHOOFRY2ZI8ocbhJPo22e+MsAQtg4yzQcpqzAFaO1F4Yz4QRNLBWcMvhLiQZefny5U5VjagX8TGo7QAUFzEzwIUcL6w3wIUEZdiKR44ccYDOlIryvmN4eNhxSa5evTrS6+kv72KMABkWIxcAdu655zr/7a63aGJkFsgiifcFcZMFsEkwzRbAJsEkTMIuRCFoPPjggw7oLF269LgKGlGHQ/4WlhAABkgBKNRGNInJ7hgYQEbiMnlfgBhg5k58LhXATB8HBgac99I+QIYb0gCYuccNZMa1aIEs6iw/f++zADYJ5tYC2CSYhEnUBXOoJMDE5c3nchM0AJBly5Y5FeXLufbt2+dU4iDWheVmCCGmLT8SB0BDTURKSgFkAB79wIUJEK1ataqcrjj94PmjR486cTT6441/uYHMHK5pgawscT8vHrIANgmm0QLYJJiESdCFUipoGIIGLjuSkMsBMABjw4YNzsgp/+SXr1WMhQjAAmS4L2ExAjgAYrkAZlyGWJW4Lnk37lFqLvoBGe/n9xbIJsHiPUVdsAB2igTvfq0FsEkwCaewCybOBS3ez+Lid0EEDYgWgFlQIrLfsExSM647QAcAwHXnd0Wh0QMkuB9xL2KJrVu3LhJr0e99WJ8QUyBx4JIkRse/ABkgHWaR4V701nM8hVNrXz3BErAANsECjtK8BbAoUnr+3RNG0GDEbrCh9JOXoEEiMmzDoDwut9QAGmJegI2pOo/1BOOQeojlAph5DnYhgAoIYRX6HYIZNoumoj0gaC7YjQCZKTpM2xbIwiT5wvi7BbBJMM8WwCbBJDzHXUDJY91AWACYvAo5rIKG6W5YHhf3AZTEq3A3ErPCmjFWCgAGQABoJwtgWHRYYTAhw84OCxI3gE1y9tq1a0+4BXkBwAAlJBOsziAgoy+wFnE/WovsOV7cz+HrLIA9h8IOepUFsEkwCc9RF9wEDYCFeM9FF1107O3eChqATTGSgmERYu34XSQPUx2DpGGYit6kZoAN9yTkjZMFMGjxWHcrVqxwmmKspQKZXzUPb7+wGBk3xBPGDZB5ZQRYU/EDADMxMgtkz9Eifw5fYwHsORS2BbBJIOxT1IUggsZvfvObYwBWSgUNMwwsHkM/dw+NuJE5LgULz698E/dDiQd4ALfxBjDTnvsQTOJYgE5QdZBSqPhYawAZciMNADeqATJcmZwcTaV9U2+Rs8iwygAyW93jFH0I4/xaC2DjLNBymrMWWDlSmxrPhBE0ADBKQQE25oiTKBU0zOi9LkCIIMTFsLwArjB2IgCGSw4qvvcygAo7EZIHyr/YRTtYdLgQ/S5zCCZMRe9pzuZ+4lyA0sqVKyNPMEBGm9DvofTjJuXIGEDNlKty0+8pZWWBLLJ4J/WNFsAmwfRYAJsEkzDOXYhK0Lj33nsd68iPoBGlS1TMIN5DDAvFD60dtyOKPIqVQXUNA3bmfVhBAICpkIGLEYCgn7Ttd84XzwJg9IexFLtol/to05zmbGo5et2QUWRg7gG8sUgZExcg6LU8DZDxr7XISpHu5LzXAtgkmBcLYJNgEsaxC1EqaJgjTnD/XXrppZHO2/LrIsoaICB2RCwISylK4V3TFlZLV1eXYzX5WW+GRg8Ych/9DgIyYlJYdGEAZt7tPs2ZVACIGbyvlDb8ZIJMH3nkEedPVAsxidbue91AZiwy/o0C+uO4VGxTJykBC2AnKcDxeNwC2HhI8dS34SZoGEXoVoh+BA0ULUnEWAOlXlg8Tz31lGMpkTcV5uLzax8AAzBwE2K9AIAofdNvbx4Y7+IZgMy4Fo1FhiUHyPm5I8MsMoAYCxI5YI0ZIkipMjH3U6Wfah64NE2iNUDmBXfGY8CMv/Fu+mCBrFzJP7fPWQB7buXt+zYLYJNgEk6iC+VU0DAkBnc1+ahdgPYOSYHYD2BDrCpqAV2vFQINn/JNWD9+1huMP8bnZfnxO3NgJUCGa5F7ywEwt0UGexDQIXZXzF0ZJitT0R4gMonWMCQ5uJPYWBCQMS5IHhbIwiQ8Of5uAWwSzIMFsEkwCWV0IQpwQUooRtDYuHGjk0TsdzaWt0u4xlDwBiRg2dE+IOQ+RDLKUIg1EecCmLA4gp4PAjA36BggM4dRcrxLuRfWIDE35GGsPIDMr8xVsXe4K9qb+wAyrDGADNnBhvRavm6LDCDDqrUWWbmzOfHPWQCbeBmHvsECWKiIJtUNhqCBIkSxEhPyupzCKmiYAZG0C2uu2BEouCZx7xHrQuliQRiLyBAucENGuXAJYr3xL3EvxkLbQfULwwDMDWQADiQSiBlYc6WwKU07WF/IDovQbeXhpqTNqEDmB2DmHe78tGK0fu7DRYsr0gJZlNX13N9jAey5l/kJb7QANgkmIUIXzO4csgPKzSTLuss4Ra2gYV6HdQZ4UR7Je/E+rC2T0wTT0Ov6Aog2bdqks88+u+gIsN5wFWLhkPNlyjFhiRF7CnJBRgUwXk5sjDgYFHnehRuuVCBjU2AO0HSDoznNOWqbxQDMDWSGDelH6zd1GSlrZdyo5nBNGyOL8ME8B7dYAHsOhBz2CgtgYRI69X/3MgvpERYRigyrqNQKGmZEgCDWBVaY+4Iaj4uPWBmkiCDqOmD6+OOP67zzzvMVEv3yO+fL3GzO4sLK8LtKATDAFkAEaHkvrESADBccbtIoFhnWINal94Ro+uZtE3D0S9B2FwSOsnK4H2D30voZ+5YtW3TmmWc6zZiEaObcHK5pgSyKhCfuHgtgEyfbyC1bAIssquf8xmJxLlOGCQsKS8occRJUZcKv895SUKY+Iq5BXHzmlOKggWPxYW1ccMEFJ9xiEpFx6XnP+TI3E0MDRMuNgblf6gYw9++N9QSQBYGOuR95IL+w4sSmTSxSwNENZIA6rr+oblXzbjetn+NciJNhoXmTqi2QPeefYeALLYBNgrmwADYJJsHThSgEDawFql6g7Mh9imJheEeKdcROHyvOuPgAG79CtX5Sop8PPPDAcfUUg45e8Xuee3FR+hXPNe3gNoNIEQbMUOEBxKDK9lhkEE78QMf0DRkQ54p6PAypBLSJ1WbIMLA0KZIcZFWGrTbjumVusbAAdz8L2MRCebc5JdpaZGHSHd+/WwAbX3mW1ZoFsLLENiEPGaVEzIj/9p6GzEsNQQOFjFInB6vcix0+QIjlRZ4S5IVSTxg29RTpF0oXpQ6gEtcJu0zNRDeAudvBYqJv9DGo/JN5RxiAmfuMaxGWH+27GZhYg8b6Ceu7+++MGfBjvgA/rM9SylH5vQu3ImNi/MVIJBbISpmp8b3XAtj4yrOs1iyAlSW2cX3IJLMCXLiI/IDLS9DANQeLMIxAEdRRSA88jyI/99xzy0pmpu3777/fAT8YgFghxNOiWgJYK8R5cLcxblOOyiQ0A2ZGHsUID/QDhQ8gBh2O6ZWDG3SM9YTlBFBGAV8/uRKDw6LEqoVZGeaCLbaIDKEE2QKIsCyLkUjMGkL2huxR6mZkXBf1C6AxC2CTYJItgJ3aSfAjaIRV0EAxFYs/FRsRbjYIGgAXZAUUf7mJyDy7YcMGJ8YFcJR6ZAjWBfEiLD/AA+sFMDHtAATIx/y/ITwAdF6LDIADEKMCmJGRG8iQK4BRLK0gbLWY6iJsRpgj+sNmo9QLwIKsQfIzV1QSiQEynjFkDwtkpUo/2v0WwKLJaULvsgA2oeINbDxKnAtlyI4+iKDhPg4lbBR+uWF+Lrywdvg7Sh8QJF6ES+6SSy6J8tgJ9zC+J554wgEu2I7eclReADMNIDtjkQE2ACDECgCReFk5F9YTYIr1Ql9wJZZzuS1BNgu4FiF2AGSlAGMxa7CYG9QtIwAfEAXAWEMWyMqZ0eBnLICNrzzLas0CWFliK/shlC+WAgoTpeLnLgyroGFeHgXAiuWGAWpU44gaRzMHPgIssBRR8lH64BUWzwPMjBN5XHjhhb7yDAIwPyAjHkg8K+h05ygThkuV5GLAkX4BOqW6Af1yySCkAGSMxwBZmJt18+bNxx3J4td/t/VIu36gCzsTcEcu5nBNC2RRVkP4PRbAwmU04XdYAJtwETsvcBM0DPvOS7VGwUGEID8qyhEngAfK308Z8j6o9hATcBVipXhdfOzQH3roIV8avFsquMNg20EqcCcic0+xPnglC5iiyOkX7WCRYIEF5ZGFAZgbyEglQFljzUVhLfrNOhaYyRkzOWr0md9FBTLyuWA6enPreB/zjmvQWIq4QYOAjI0FayBKkWQ2Q8iV+fS6LAFUxkAFFf7lfRbIxuebtwA2PnI8qVYsgJ2U+EIf9iNooGjc+VOlVtAwL6UNEl29FHN23Ch0LBKAohgFvZgFRd8hZ6B0UYDQ7b279wcffNAhkhQ7RsULpgAM7QCMVG4///zzy7LA3A9RZxBXHWP1O+srdKIkPfnkk4683LR1N5BFiWcB9OSF+VU3MX3AdYtM+RdZYPV5gQy5wM4sJa7o57L0pga4Y2TICpdpKe+IIscXyj0WwCbBTFsAm7hJKHY2l7FcULwoPawko9ij9gjrBYVrEmndh0Gye/erFOFtOwjAiE+ZUlNBici0FQSi5j3Ea4iX+YFpGBElqgXGu9yuO3dSsPfQymKyhZBCMWA/wI8azyqFyYgrGYDBMmPuSV42QOauaB91PZj73C5LNhZsPLzxNwtkpUr1xPstgJ28DE+6BQtgJy3CExqIQtBYv369oyjLqaBhXmiK8QJUuB7N6cbs6KNeXgBzx9+Ic4UVsA06kgXlDABiZdFOUNklLLhyY2DuMQbVMYRUAWsxCpAxFhKQi52PFgZkgDWVPKK6HBkDsqKPWHsGyACwINdq1LllQ0OpL9YZblA/S88NZO5ToqO+44V8nwWwSTD7FsDGbxKiAJcBCMAG8kQpis7bUwACIgbBfO9hkFFHZSxBcyIybQE4URlzWIGw9kwlEPexK1iBWBVBl18lD3MvFqCh+0NACJMTrk4uaPDeK6pFVorbLoiYQXHjUosIm/4SGwPImAPmIyi+GXVuuY8xMZ+4Vf0sPdOWATL+Bchwo1rXYnFJWwArZSVO0L0WwE5esFEqaHgJGigqXHNR3HxBChkLDMVOHKxcZfPb3/7WiddArCg1EZl+ETfCasBFSMUMxuU9dqWYhL0WoCkhRYwMIECR02YYmaIYgLmVtLHIkBv9JgZkrnLcdl4gAygAjCjkiyC50CaWE32DfBO1tJdfe5B0jCXntvRo15wK4H7OC2SMg7UVxpo8+a9o6rVgAWwSzJkFsPInwXzsKNmg0k9u5h2ARWIqyoAKFCiQUtx99NSdgwVoEGcLqv9XbGQmlwrmHYBDLK0cEMTiAIRx4cGqw1oq5oLz9skAGDIkfuS2AN0xsDBWYLFK8n4bABiVECncQOZW9qWuCtx1xLNolziaHzhEbdPUU8SCBbyJIzJHAFkpFHjm2M8ViVwZO7KmXbMm/YCM3xFHs0B24uxZAIu6oifwPgtg5Qm3GEGDFlEehqDhV2cQ4gY7bL+jO/x6ZGJKKHp2+IAXtHFcbfx/KZcbBHFBRiV8eN+BpfDII484yo3YUVi8zK+PlKKC4QgAed2gfiQOA2SGMm5ci6UAmNsicwMZbt0gRmRU+RLTY25MVZBiVPmgNqHFsyFYsWKFcwtzBJBRUsoAThQgw50LHZ8zxfwu5IvFWKxds0nD9c0GB2C2FtmYNC2ARf0qJvA+C2ClCZcP2pxT9ewiPsG9ElZBg+dMJfgw68kdUyLW5KZnA0QooKiloFCqJBCjEA0IYkEBsKWUO3IX3AW0yHkqRhsPkjDggasMGfDjpeLzHixYP8sQIGMTYBKOUfpB+VdhM0wb9AWXrGGDul2LYc+7/24Os4xClQ9ql/WD1YXF7r6QB/PN3wF9yCLFgIwNBjIKWx9R2jWHhDLPxiLj3xeya9ECWClfxgTdawEsmmANQQMLiLjRRRdddMLH664ziFVTzCJBCaE0zS7b2wssDKwKFBbxCkDGq6wAJCo2BO2wTZvuRGRA0E3XhiiBG7MY2cK04y64a+JlJEpD4Ag7Q8s9PuSECxV2HMATVIqqGICZ9gyQARi4wsI2BMVmGxciVqDXtRhthYzd5T2N2U2Vp20/JqC3feKRjJ1597tYg6wLLHDWBRsIPyDDouQe5jzK5W4XIOfHtGvYlVT74Fvgh40FQI/L+IUIZBbAoqyqCb7HAlhxAfsRNEzcxny0pVbQ4I0ocajv5sRd0wveh9LBUgJUiCkFJQmHJQK7E5GDiBX0IQyAjIXiV3C3FFeoux4jFiBWX7FE6igAZuSGvMwRM4BYObUMDfiY8eK2wx0I2SMqKcMLYKZ/ABnAyLx7c768KxBwMsWWi61OAIdNDhshwAYgc1urACFrs9T6kO52aZO2iZW6ySkGxF7IQGYBbILBKUrzFsD8pVSMWchO3VRJMKWR3ASNKHJHSeA+c+f6YI2w0zUFZf0OMnS3HUZDh2YfRqxAqaL0cEn5XaZPKHC/grveU5392sBy4z24TQFkrDUD/uMFYKZ6O1avcS2WCmRe8DGbCdqOAmTcT0yQ42mCLqjytOfO+fJaL1i1vC+qW5aNDEAGw9IADnMa9YTpoL7SLuxOgJD/Jj7o3UwZIDOnBrBOXigWmQWwKJpugu+xAHaigMMIGgTGUZQUfS33IEg3+KDUsCDYpbPLDct5cvfYLxHZ5E+FuTFpBwVlqqW72zUFd3HNFesTipM4ld8u3+RfYeXh3vM7cmW8AMxbMskdI4sCZMXAJyqQhZEm3PJ1A5mX0s7GA8ZhKXFJ2nYDDkDGO7Diyz3fzPSX+eXkbYCJeWSz4+cV4Lt5IQGZBbAJBqcozVsA+52UUFQocz5YLr9K8cSuADBcVDDvwo66LzYHMPBQCOycseDKyfdxJyLj4otaCNj0CxDGrWUIA4b2z++j9AmmJYrSG3sKs9zM+4sBGLJmTqK4A70AZto3hW5ppxiQMW6SsosdEBoGZIA+sT2vW7jYGnBT2tkEYHVBJik3GZp3MRY2JsgEIPMjyETRDeYevgny/RgXVjRzTj8BMr+UCUAMWRE/M4drPh9jZBbASllFE3SvBbAxyju7V36CgMtN0MC9Y46kL2daTGwKRYVbrtQaiO53Qts2R4B43XNR+gZIEHPDWitG+w9qC6ADNMkj44pquRUDMHNsC/+iDIudRGzaCSuiGwZkKGniPN4TAvzGHQRkJqmZ05hLvdxAxphxUZfLhDTvpjQW1hcbJDZHQZZTWF+ZX+JyK1eudG6lf6wVQBILj/hqMSADvMzhms8nILMAFrZynoO/v5ABrFicy4gexYJlA4CZI07CGITFps1dJBeFR9JrOflT9B3wONlEZKj4uPhQ4FGq13vHBoGAPCIAjNgOiq2UeKDbAsNyAIhQuAA7rlR+B/gYsgjWhJ+8wgDMbZFxL4rUfYZWOdaTF8gAC+Y3iFka5XOmH8RYTRUOvyTjKO1wj6ksYgAH6wnLCcApdnqA3xwDYt6z1miX+BhuZDZRtOvnkTCuRSyy5xOQWQCLuhIn8L4XIoBFAa6gChpMBcBDnCLKbt1MnR/F3hTjjVp30LRlKrxTAYN+EkMpNV5CW8TcyANDOUE8KKesFQobQEDxllNR31uV331si5uFyJxBC8cthhIEfNxABvEBV2OUdADGbkARIDMuNjYquIVLvQyQsRFASdNGGAGn2DtMhX82BOVW4aB9b2WRqJaTt29hrEjaZTMFkBUrmoyc2OxwP2sFkJ7KFpkFsFK/lAm4/4UGYGEEDT4ydqooyiCCBqCBcgiqou6eJj8Lzvw9CoXd3ZZfNQ5z5ElUxhrtmeRowAf3JVZTsdhP0LLDegMAkQdsynJcXlTl5zk/68+PRh8EZKUCmNciYwyAD667ci8sRyxS5onNALItB8jcbMhyq3AwHliufqdtey0nNkDFyn9FPSLGkHZgP/rVmkSugDLzzUbDxMimKpBZACv3SxnH514oAGaAC7YfLq4ggoYBBHMEe5CoIWBcfPHFgTMR5ZDKYgw+d8PFqnEAtCgfvyrs3s6hYEzBXZMcjVyKHSrpN0ATowKccRuhuNesWVPSqjRt8Cz0bADMexXLAzO7ecYPSKAMy6ktad4JiBv6OhaZX3/CBmgSkJEJmwP6ViqQMR/ErrzA466WEaWclKm6UmxeoroAcVPzPUR1dXvz6FhrBshJvGetmoRo+sBlXItRSmSFzcNz9XcLYM+VpIu85/kOYF6CBnRgL/CUUkHDiJJ2sDq8ZY54X9RDKtmtmzO8/KbID3C8H3gQDd7bnom9EacBwE0MpFgumbcNd4yKmBeAAc2eTUFUy8Ub52J3D4D5Ka4oicwGyGD/kZAN5b8cqwdrEgCCtWdiZKUCmbceI30rFcgYM67lIHlGKfvEvJnxRKmT6XYB4s4GcNyxLHLbcJeXWuzZHSNkbrBImSdA1R2D476pCGQWwCyATZgETJwLcgKXsbhMEjIfaDH3XljHvOdgcT9gRA4Wu0sUfBjFnjgMLhW/uIupxlS9dGsAACAASURBVEFwvFg1jjAQjALOxajsjMsNyl63KpYUbsQwF6S7DXeci7JcxN/8lGMUADPzBIhiiQIYWArEyEoBMm/ZJQAAC8rEyKJYZCaZGuKF+zJAxt/D+haVyRhWTop1wdyXUlrLEIOIebljWSdTpd+sH2Jf5vRprEs/a84NZLgV+ZnMFpkFsDAt+Rz8/flmgYURNFC27LJRWOy4S2HMuaeDnSR+fH6wQgAu3l1KZXcAlPwat7vIAA47VNoKU8IE+bHCvNRtd8HdsAMqiwEYcsKtGsRQ5D0bNmwoWn3CkE4AduTtBnbSAAA/P1ZcqQDGXKB43VYPQBalDFRQAV0DZOZ8smJARkyT9wcdkRMFyJAVblXmPsoVBGTlVOc373PHspgzZHCyp0PTNn3FPcpGA3DCIvMjDplvmM0Da4X5m4xAZgEsygqd4HueTwAWhaCBskVJoNhwlZT7YbCb5n1YIHzg0L5LPdvL7b5zW4OmTmCUqTfgaRiRfgV3w5hehgnovs8QRoi/0Z8ghiIuQUgHF1xwwQndjdIGu3v67kciKAfADKPTS3EPq2cYZrFEAbKoFTTc8TuvRRbWj6A14a2LyHqCSBGVlRnkwmZzRGwQqzJMhmHr1Z1PZhilbFz4Fv02BpMdyCyAhc34c/D35wOAobRRtChTo4S9StvEgNjR4Y8/mVwd3kecgp0yyh1KcBhIBE0lZBAsQuJm5SQim5qKuOFQfsSUgso2BfXB7cZzV67HCghTgH4xNG+cqxhD0lDGve5WXE5YubSPgnNX0PcbRxB4RAUyaOBsRsIK3wJkxMhweeKecwM7BAXco1HcjV7XmgEyFDvrK6g2ZZhKYP5wAfLDuqSPpcau3O9gHvh2sCzZtJVKSnG3hYzNOWnm925XrTsvz+uCNTEy1gnW28mMKUyGUf9uASyqpCbwvqkMYF6Chh+z0BsD4kPwqwIfRcQmRsCOlA8aCyEqecHbPm3hwsSFiFvNr05g1D7dd999jpslqOBuWDsE6TkzirgbSiqocn1QO8YFGRTnKvZ+3k0M0FDwjUXJMyhf2kQZM4/FjiMBwADuoDqShhkXdFQKGwiUP2OPcvkBGXNJ7DPM7eu3FkyMiPVJseOo/QjqKxR6gJR23QV+o4zNfQ8pJQZQvS5QwD4qM5E2g8p98Td3pRTm2W8e3TGyyQBkFsBKXU0TcP9UBLAggoZbPEEEjVJyuNztuU8xxl2I6xF/fjkn+JqYEAqGoD0KPEqcxjv9WAxYXChf+hGlZqDfEsKNhyWHCxQwLZYT5Pc8AEaZIUNg8ca5ii1bKPzE73AlsTFgt4/lR1/cLkRzrhYAh4LznnRszqsKK4QcBGS4yriipCN414WxyFhzMOzCyDtB8qBvUNYZI2vDm6xdyuePZUtsEfDxq1QftS2//Dq3CxSwjtpPvBYAczEL1Zy4zXdKu34J+ryf9cAGkA0D386psMgsgEVdRRN431QCsDCCBmJyF6PFJedXige3nd+BlH5i9kseNveF5YJ520MxYSnQRxNXMqWgwhSvuy1vwV1ALOp43O0YawdwxqVayqGUph3kgxyIPRWLlQUtYTYBPMtOH+XGj3HHmlqIboIHfWYnz3ux0HiW+3E34jKLCuJuogJK0pwyjLVSzsWmhPgqwOp1LZbSHm5IxoE1aHLcogKE+z3eo2G8leoB6ihKH9AhVhxEtjCxrCj1KtmsUBA4ShkrLG7Gz8YKS8/Msxkj3gJkbqx0Nl0AWZS2S5mPYvdaABsvSZ5EO1MFwFDaKC0+Oj9XIQoprIKGEVNQ3MUtRj54XI2mzp9fHMeP/OA3Fe62zInI5j7o34AXxVbDLreLzk1nL8bkC+sP1g6xs1KTgN2xMv77RS96UVj3T/g7yg8AY+wAqLH8TO08LDD+m/lm3t2EGwNkphI+8ZVSAMx0xgAZmwCUNLUpy7WgWFfML4rXkBNKLc/ldkPSN2SEhVeKpcNzQeeSmUr1WO2AdRiQMT/evC3vRPI+wMQk1QO4fuMuh45v0grMwZzG8jYVPdh0uV2LZiNi9ETJi7KEByyAlSCsibp1sgOYYRaisNidrlu37gTChLtAbhQXGFR6lJ1fDULjciHuws6TYHoQQcO4v4Lcf1HaouwOV9Dx8Wbei+WYEe/A+gmLR/Chm0oc7GpRXowN5Y3lUiqImnwuSCBYgFEvNiK4/FCm9AnQgFjDxe9M7h5KyFjdJojvBTKj4JAPFjfzWs6Fq4x3o4j9knmjtOm2emgH4AGUgxS6X5t+gGGALKgOpLcdlD3fSrH4rBvIAAHWgp/1UiroGCDzklxKOSvNTy58/4AW/7J22bDwzbjdkW4gox9YccR2J+qyADZRki2h3ckKYF6CBkPyVtGIkqTrJwoUC7tsd7zDxEZQ5lgjUc5QKlaMF6sG6wr2XLFEZD5EAtjs3IM+XK/b0XtfFDekAXm/xGgUI/IIU/5B+VylWKLIHtkYhiNnq5kyRYZJiqVlfsxYUbj8Pcgiox3+xjzSXikuWd5hcrjY4TMnbCz4b29VimKfltdtx72lApmpIO+3aYoKZMSR2KiwMQi7kKs548t75EoxSy6sXW8iOG0RZ4zSp2Jts/kByJgjrHa/M/R418033+zc8/GPfzysq2X/3QJY2aIbvwcnG4B5gcvtLmSnT9IvH5054qSUnCkjNejvJneL35nDF/Hjo1ijEirYtXOvW/GjPLAu2HlHTURG2Xh3isXcjt7Z530Akx/lHQuFvwMIQSc0836Uf5AVGJbPhQuTeQmKqRRjJwI8WHKmnqEXuLxjDQIyE6vhfkCS+9iERAUys9kwVrkpr4QljmzDCt6GKfuoQOYHgl4ZuIHML/YUlJRdTGv4ARlrkM1TqXUu3e8xVf9NXlqU0lZh2o3xs+aYK9pnbrxA9pnPfEaXX365XvGKV4Q1V/bfLYCVLbrxe3CyAFgUggbKDiWJMii3ggaSw3IDANnBobhQ0HxYUZWdkT5xBJ5lx+9mPdJu1LZ4HuVrSjG53XxhLkzTD3NWlhtIccMxRoA6rBIHbC5cM97zntxxLizEoHyuYjFFN+PSXV7LWEuAK7Eu5jPMBepe9QbIkBcXitZ9ijEbCeTC34udxGzaDGIxRgUy+hN2ojPvMqQHNjj0y7hO+VsYCEYFMjf1vVRNwThY17Rh3HMnazXRB0g2fHfGpRr1+/DrP2sVixn2Lt8d1rL32Jk3vOENuvHGG8vOp4siNwtgUaQ0wfecagDjo+UHhWvcQ173iSFomErx7AjLraCBOFGYMOfYvZqitOUkIvPRYL2geEs9yNFMK2NmN8nRLKb+obfgbtgScFe1pz2sBn6HQo+SZO2tp1jMYvLrC3EbaPRuy9VUm0fWALo7qO8GH+RuSj/BBqTPpRzLQlumJJcp43VsbaR6ldnyf+o+uEvDdfPUuvYaNTQ1+4ozLAnZXbnd7xTisCK83pf6AVm5cSKvRQZIIMsoMc2gtcV4AR1ITLjasZJLTa9wt03cmdgVfcVlXYwmH7beWa/eAzbNsTP0GRfj97//fWdDUc53HfZ+83cLYFElNYH3nUoAYzG7mWYMM6iCBu4CPkpjUZQjEuOHZ4HzXphzUajEfu+iLXZ+gCogyMdZLqjee++9DgjSlyA3X7HxGpco8sGijBrDM22iTAFgQMiQRdghR83nchc2dlP8vZsDd8UUb5wLeRKzQLkB4ABZGBvQPIOlBaPOpAGwhuK5lKof/3cpPaxCZa0yfR3ak1yi/rbzfGnuKFi3BVdMsZtTiN1AhiVdzoGYbiBjDFg+5RyqaSw4NlWMBcuOteS28Er9ZpgLNhPMG/ErP+CO2qa3or2bJo/cSznUtVhCNN/C3/7t3+qnP/2pPv/5z+vtb3976DoKGwNrGhc5QH777bc7lv11113HmYDbJT0m6a3si8PaOZV/j53Kl0/ku081gLFTj1JBAwUftfK5n7zc1g2uMpQuOSlhStKvLXeBW3aol1xySVlTBIii9FAOuBBR3OVcPA9w8XwpMTzzLnaz9ANQCat96Nc/XLsoIeJtxAW9FeuLAZe3PUAJgGCTQeyJdv12/sQ+2DygoA3QGrckY4h1PaPqzT9SoelZFmk+q9hwl46c8X7t2r37hFJQpVbR4F2APrJnw8DmgX6X625jTTEHeCJYlycDPIyFPgGGUfKzgtYc1gygymbGPd5ygCyIzeimyRsgC7OawjYbbAh/8pOfOOvwlltu0Z133hno/o7yvX35y1920hJYcwDYG9/4Rr3uda/T9ddfDy58Q9IGSf8apa1TdY8FsAmSPKDktryKFbVFucF4K3aQpLebQUzFYlT6oKH6JSKXkhRt2vUW3MXdB+W5VDA1AMiuGwp0ORXDUfaAH4oYxVnKyc5mPND4sUBQdMTKzDgMoLhp8VGtVKMwsXJxhRkShRkz7wOs/ao6OJT7rq1Kbviecg1zFYvHFMtnFB/tU/qSjznddpMqiEWZmGgp7kvacfcToGUey02mxZUKKDLGkwEe0jvoBxa9sfCYkygWpnvts8kDkN0ycbtSo5BbaI/5hylrCk77fV8AGZsWU4/SW2nF/YypMhK0lv71X//V2cy9+93vdjZVJ7MZ4NvEivurv/orAWS33Xab842wWamoqAAXLpT0aUlXT5CKHJdmLYCNixhPbMS4EPkwcA3gRgqqoMHThokYpiTCqrv7UemDhsgHiGWBtWXKHJl73eeLhYkIAMbFQQDaXXAXC6aUwxORFR87O2xkxcdKGxT0jXqZuCIyZ5dNXKHUsljIGCsIxYu70F2A1uTv8R4UTbmuWtphnMT1UKS8kzH70aePG3t2VInHvi0NHFQuVqFYZkjZ016p/NzzjnP1GgVvSnqVSy5gXukn69lLR486J+6CwiaBuRwg82MyFiOPBPWvGKXfS26hgkrQBgy3P8AcpYC2N98LkHRbZLwXgC621j/4wQ/qQx/60AmnWkedB/d9v/d7v6e//Mu/dGJuX/rSl/Ttb3/bOXmBDc+zMTCKZ/5c0sQlnJXTcc8zFsDGQYh+TZgTZlHIXteT3/3s5FCUfjXSuN/EYMLO+vJS6f3e5U5Edif+uu/FXcPfwkoYGao+dHFTv820AwMOEAqzfoIAkN+TIxc1mdgd56IvbAZCn08PKTZwSIV4QvmGudq9d9+x89SwZkz/S3EXRl1Spso+JBEsLwAXiywUFDPDih98XIVUn3JNC5RuXuK8EkB14mTx+LEuQKRBDqVUvHD334APihwg46dUIPM70dlYilGBjLUA8ARZ424gK5ZgHdaOGbsbyILy5gAvNoFhyfpueZp8LzwofF/mNAI2Gmw+iyUov+QlL9E999xTclFl73rEXfizn/1MX//613X33Xc7APatb33LIVx5AOxnks6Iup5PxX0WwCZI6ibfCfCKwnIyZXq8x024mXMw78JIFYZK71etgLZMzCyMEIH7DfDynsJrxIVLhHv4Fzq7H9AFjcktcgOAQRXnw05Vpq1i+VxFnx8+qsQjN0qpPg0PD+lgpkGFs96mhYuXOiDAx4ybBiXjxJ98Sj+Vs3xQVlh4AAuuScbOBgVFD0Awz6yDUCB79uUoWwOwXiBD6VPlxVSZDzs52TseL3XdnVfF2giqdOFuB8UMW9O7kWE9RgUygIJNFWMpdoUBGRtL3OzF3H7u9pErm0IsZW8lE7+CwFHXA2sWNzIWEN807/EeyeJui/V3xRVXCLf2yV5YXt/5znec9cf3yzf42te+Vr/4xS+sC/FkhTtez59KEgdj4ONkcUSNjQAs/LjdEeUw59z0dbcs+VAIXkdNakaZ8tGwm3Vfxdh43rnDWkRZQ0bwXrjMAEBcK4w5yNIrBkBR8rmKPR9/4rvKHHpah4fkbDLaKoYUW/tmFdrHlCQuUUALQPGWeipnnRqXLWCCy9bP2ka+KMvenY+rvblKrfOWKt66VIr9zqo67t2pPsVSvSpU1CpfM90BQn4MkJEKYNxSrElzvElUIEPJ4kLzFkQ2QAbA8bdigBt2IKaXLo/b2Zs7Z0gR3hO6g+YhKMEaZV1O5QzDDGVumDesLtavN+et1HWBjkDGgCRy5FvxI3sgwy984Qv6wQ9+UOorit5vLDCsMnLMXv/617tJHBslfX1cXzjOjVkLbJwFappjwaOkucLYR9zDQsaNCK3V7NBpA+um1GCtm4DhBopSkpqJ/+DiMoDqtgSjuEQZk5vGbuSC4sOtivsFN19YzMd9KKVbtqbAsalbGLRRCAIwduJ9d3xa2fSIWmfPH8v16j+o/OIrlFt4meMawppFSfG3UhOS3cvKpDmg/ObOm6/D2Vrt702ppbZC5y5oVl1V8rhVGN/7G8V2/kp9A8MaGuhTctHFajn/uhM2Q7HuXUpsvV0q5GFdKD//IuXnne/s5k2RaGKIuN3c1hz9MTlqWEZsUoKqtARZT+75BBDYrJjag17LMYxd555XY0HRH3e1en7PBi+oNFlUIGPDxPcF8JRzGXc3oMM3y/da6jlpfu+FWMJGgb75VeD40Y9+5AAvpIvxvNwAhkUJjf7hhx/eIQlT7/cljSmxSXpZAJvAiQE8WPBRAIz7AB6Cu2aHXi79HLcRO1VAwpwtFAYUXjEYEMXVUo4lSHvmWBPaMDtYrJoorlDTH29hYW+cK8w9SwwMEocBODdRZHVyr6b1PiE1z5fyWanvgEbPfIcyzYuO1Sw0Ccl83Ch7iBZRS3IZEAcEcT+hNNfv6NGTBwfUXFOh4dGsmmoq9Hvr2lWZfNbCyowo+eBXVaibKcWTymUzGjiwWc80X6HZS1Y7cTJnLPmcko/8mwqVdVJFjfP/xPKya9+mfHWLY8UB8obCjfwBFi+QmcM+zTldVbGM4sQEYwkVGtu1bdc+x4Uals9kiuj6ARnKmVy8qGxUt0VmgAzLiU1HKfEm95o2FhkbE+M+P5lPn3XE5or1B0EGN2CpTE/3+yFNYSmbxGVvBY7Pfvazuuyyy/TKV77yZLod6VmbyBxJTBN706l2ITI6PhbcXGFuREM/R9Fh8RSrFB8mNT5+cjvwp/Ox8xP2fr826RPKH+sP5VTOmVg8B5hCWcZ9CQBgdZXyoRsyCYoCN0qp+VymHBTPG9LEMaakckptvFW7d21TTjHNXH6B6pdc6OsuRK48j0WCwgKMio0D+TOfyNEkcWdyed1w7x7NbKxSPDa2dzzUN6LXrm3XnOZqB4B0dLuSW36q/ulnaChXobpkQQ0jB5Rafb12H005Vghz2tRYr8TjN6m2ZZaebUqx/kPqar9CWw4NOkranIZtLDJTJT8IyPZv26gF/Y9oemOtkomYCrWt2hQ/XbPnLQol87gtMtzPkD/MicnEbYhdlboO3UBG39mEARQnc+HlYG4AxpM538xUKCFFg3WBRcYmgP6VssFhLIwNGWHNmcsAGW1jwZLz9Y1vfKNsAC9FZhbASpHWBN07GQCMhclCDPpwjVXC7h6lisUC2yuIiRgmKmOdYDXgzin3YzcEFFx9KB6/YrphfeHvuFiwKolvAczFTqwNao96ivQHd56p9B7l3eYeFAMbAsaCBTBv0RJt7kxpYDSrmQ1Vemh3t7r6hxWLxVVbVaHrzpmr1vrKwFcYFxJA5ldZw8QIARrAGovaXNl8Xjes36MZDVVKxMcA7GDviN5wdrtmZ/crseNXKiQqtHf70/p5T7vyjfOk3KiunJPR4he9RUpUOG7pOx7eqif29mpm7qBOaxjVFYtrFBvuUdehvepc8GotOf0MX7eWG8h4tzcNIL79/zR8YLM6BnPOxqWtKq0d+blqW3tVyW5sc9AkQMZGDop2VFKKV/jIfLxOdDaJ3XyX5sTpcoAMC4mxmSK+hiDFOisVyIhPYzFjpXovvDEU8CVx+e///u9PqgIH3yNVelhDzA9Ueto2FTiIj/K9/+AHP6ia7BU4jJysC7EUbVjivSgMFosfgJlisCgK/Prs5qOw9vy6YFx1JmaG+4/2UfilXDxvztVil89/e+Mn7vayubzu3X5UB3pTWjS9Vhctmea4S1HifBQEplFel156aVm7b1xgUPGxJnCJlrqDR0lBI0dx8nxNXYO+9cAeHepNqTIR0+6jw6pNxrVuQZNi8bi6hzLOOF65ICMNd0u101VonOMrQmRlKmsA8MgLBcC4TY09v/4+vLtH9+/sVk1FUqPZnOZPq9Grzpilyqe+LyWrlY5V69ubC2ro36rq2gaN1sxSd91SvfWSZaqtTGhX15D+7+kjmlGfUPfh/dq9a7vakwM6s75XKy+9Vi3zV4VOeRCQJbfcKqUHVaioc5hp/Qe3qad6oeZf+ibfgxxDXyQ5ihJXmznWBqusHCAzNQcN8JSbFuBNFjbsTPqExRp1k8XaZJ2z4XRfbiDD48AmMixGxjoyB1v6yZSNKbGpl770pbr11lv1ve99z1nPpV70Dd1Av/guqbTzla98xUlkpgIH73jf+96nG2644QOTvQKHBbBSZ7+M+w0T0V1SylC+WUDs3twfjB8TsdhraYOYEgvcnYhcjEof1J6h17vP1SJ2gRURdOz6P921Qw/u6laSUk35gq5e2aaXLao4psRR6qZWXFisyt0vd5zLHEdSNPaRGVGsdzd0GRWmLVY+lnRcOgS92RjMnb9Qjx1K6cEdHdrWldE5i6appiKmbZ3D2teb0mvOnO28fiCV1bShnbo++2MVYnHFCgVlV79B+QWXBk4DYIAFzfvYjFDvr1j1+UI+px1bNqijs1ONDXVavvIsVdbUK/HEf0rVzerLJvW9rUnNTvSo0LZKhdrpOtw36sTJsAwf29urjQf71VpXqcd3duiZg4BhXHPqE1q3ZLbapjdr59ER1VclddHiaUWtSS+QJbs2K7HnHg1Xz1alMqpKdemh0UXK1LRFOnrFT0gmQZc4KBsiNjXEQPkpZUOCJU2OFOvIzaYsFciCSj+VCmTmnDW3he0FMogyWGSsi2JARlu4pYM8Hffdd5+Tt/XVr37V2Zgy5lLc8EGbXgCM6h4czQKIuvIm/2+yV+CwAFYGIJXziCkpxU7UVL3A4vJbrG4mYrF3oRRMZXa/ROQgKr1fm+6SVACqe7dY7Dyufd3D+tgtT2tGfaVjdaVSo9p/tF+fvHym1q78XdmlDRs2OAy+KEfQu080NjE33DS4WABS3yvVp8R9/6jYUKej2IYrW/V4w0scZiGuIWR+384ebduxVcqmtWGoSU0NDbpo5WINpnN6cFePXrZyhpKJuDp6+vWqoZt15oxKx12nXFoa7lLmJX8rVdWf8Hp3+Sf6h9WCksbKYGfuZ2k4DMODjzlgFcsMq1DdpNzK1ypzcKOeeOwh7e7N6LH+Zi2cXqOZy8/XUC6uVDav3z9vrqqSCe04Mqg7NhxQur9L2/pjaqiv17xpdVrUUqVfPrVfyUJGp82ZoWR1jfIF6fpz5qih+niWo3cgBsj6hlJa/+gTGu457LhUz1m1XD29g45byeRCRS2zZN7hrWbPd8DaJbaDpXqMlBLycflVz/CmBfAtFNs8RDkaxntgZZBFhisyCjPVMD4BsqDUBZii6IQgS43YF2GF97znPeWooOOeQQbUJyXH8Q//8A/1kY985FgFDm589sT2TZO9AocFsJNeCtEaAJRYvCg2PrBiBA0We7GaiIZIwOIjoI3LI6j0VFgtQ6N8AQesNz+WGf1ml+x1kzDyHUeG9MnbNmtadUxDvUeUL8SVqmjUV68/y4nxmAvyBi7AoJ0q97nzubxxrr2HjujR7QecsS6bUa96lzJGHnvu+4EO796kqpp6taX3qyl9WFXrrlPFmtc5Xdi2Y6du/Pl9ml81okyiVg/31qlvVFq7dK5ilfVa1FoDA125QkHrpmV03s6vKdbY/rvJ7T+gzGUfl+pnHvud2UDA8gQk3QxPd0IyCpqfY0CWzynx6Del+lm/y+vqP6D8ilfrwV1Htffu/1RbvlMd+Ub9Vqu1YNVFzjEpL1vZptlN1U48deu2bfrtnn71JVq0rXtUc5urtWZOk8NivOXxQzpnfr1S/T1Kj6aVq27Sa89ZoGVtJ4Kv3+r936cO6+hwWs3VCWWzeXWP5DQ3d0hXXHyec7u7XmDUwrfH5W9xxtlon2MpZ+I12n/gQGQgC7Kc6FdUICsllywMyMLqFnrlW8xqNAzEILbyhz/8YX3gAx8oqaRamHbCkiN5GXbjO9/5TgfQXAD21GSvwGEBLGyGx+nvABgugmJg434VMRt2vF6XW1jFCm93+cA4X8zrajCMR9xrKF92wEEfTrGyVMOptP74O/ert3OvmhOjGixUadmMWn3qna9TPJE41h2/QynNH/moTT4XIAm4u91K3UNp/fOdz+hgV6+zAwW8zl3Qoly+oCUz6pTO5vWbX9+ueP9BDRYqtbg5rtdN26lE+1rl173DUbh7du/SDT/+uWa2NKoqGdNILq5Hj0jrZlfrgtMX6Lwz1/wOYLIpVdz9t2OU+uoWaaRbqqhS5rK/lhJjxA4sB+bTMOKC4jnG0sA1w9gcl1lMSjzyTamuTYqPyajQd0Bb216mO+76tZaObFRT7dh7Dg3mdfaq5VpwxbtxjDobIDNnvLsvldXdz3SpZyTjUPEHR7PafGhQq9obVFuZVDo9qk27O3T+zJguXrM09EQA5uJ7D+1XW0OVCiooPzqkQx2dmpXv1Etf+vKxeaEO44GHVEj1qyPfrF0DFc7mhPEFbaRQlKyj05YsEjG2eNcWEiOVm7FKueWvVCZXcHb9uLCZf8hHXteiH0vP7/P0AhnfnNuqKedEZz8g4z3FyloVUx2mj2wOYSsiOzwdbgai9/krr7xSv/71r0s6GDWK+oLAgVVIgrR1IUaR2HN4z2RgITLcMCaiVyQEq9m1GyaiKdlU6unKsPcAJ2NZGfact+BusSkxp/+6j16nHRTpxq279csN2/T4YJNySurKpgP6SNNdqr3iz1WYd8GxZgEoAtSL5rUrvnu9Q44oyHCbtwAAIABJREFUtJ2u7qqxDxffP+43vxjZjx8/qAd2dCme6tOMmbN077YuNddWavnMekdhDw8OaWn6abWP7lBF0ywdHK3Sa2s2qu2CNyndfq4je8D5/h9/TbcdaFBVVbXiuVGtKGzT21ZSiLdSufazlV/+SkepcsX6Dyj52LcUG+wAXqRUr1TIKTXrfG2suVCJqtpj5Z+iLGfilMTHAD7ieO35A0oeeFCFinopM6Kv71+g+/pnqqdzn5K5lK6fvlXtiUEdHonp8hUzFD/7XQ4dH4vH0OLNewHwJw/068jQqKbXVaq+KqE7Nx1WIp9WVgnNbW3SlUsatHfPbsd6I4etWD7Xz57q0HA6p6Zcj1Kb7tCBgbxe03ZYM06/VJklL1XtA/+gZNczKlBzEZbpOR/Q/uRCZz0E1Uc0hzQuSx5SYuevVGiC9FBQrG+/skuvdooQcyGnICAr9UyyICCjn1x8X6VebCDZjLGeeJ4NBRT6ci+TIoDlwzrlG/MrWMDfLr/88nEpIcVcmENBkelVV12lj33sY7rpppucChwuEscfTvYKHEbuloVY7gqM+JwhckQNWLMzY1cP+BgmXzmnK7sZjXx8uPLYbRnGY9Hu57OKb7ld+SPPaEdfQkte+cdOUi0sO0AHcL1pc04d2x7WjNiAhmPVSsVq9KXW2zXt/OuVP/01x5p3Knp0HNKqvd9WvGOTcmDCyIj2L3i9Zl72rqL07Jse2KOd+/ar8tBjGq1o0MPDs7WovU3LplXqUOcRPdMX19suXKDKw48q1rlFB0cSelXrIc2cOVvZxS9RbPaZY7v5wQ7tvue72tYxoOa+p7V83kw1LlirDX1VeuLQqLTgYl20Yu5xrjbO3aq88y+VS9ZqMJVVfKhTseVXq2rRhVJ6SIXW01SYdmKJrCC5AiDMbWbnb7Q4t0119fV6ov5F+sITlWprrFam94C2Hh7QiCp1RvKAXlbxqM5dNEsdi16n01acHspkc8B34LA6N/xch4ZiqonntXD1eaqYPVZMnFgnmxcUIrEbv+r0vSMZ3f74Xg1u+KmSiYQunlehM5pSDtik512qiqf+S/n6Z8kX2ZRzlEvqVd9wLF1T6NdbH9Gw9Rb1P6jYwAEn9uf0dfioctOWKrfi1ceJzAA+6wbrhPbYSGEhGMp6xE/vBNci4BPmzg5r25zXxnxCKgkrdh3WHvJhfLg3/Qobs3mBPn/zzTeHNRX6d2JtHKHCGmDOOP/rk5/8pBMnBrz4viHb/PCHP6ye7BU4LICFTvf43ACAlVJSClcKwMUHErVkk19PcdvQFou1WMHdE56lYsNdn1B81z1SLKHhoQEll1+lJ9re4FgpDjU/WaX3f/t+zT76oJRPO/d1Fpr1522PaPUr3q/CnN8lZKI4Ox65Taft/a6GVK/R9Kjqa6pUHcsoc/2Pjlk+fmN4ZNMz+u9fPqDa3IBGq6br0Z5qrWvo17TGetVOn60tA3Va2d7gWGXD3QfVsPMOndfQpXgsobmJo0pc9hEVZq0ZazqXkXr2KLnhP9WtZj10MKdH0nM1P79P+apmHY236PWXX6A57XOdShk7Ntyvul0/1+rqbs1sSKomIcV6dii/6PIxgkc2peyqN6owO/ouPLH5ViXXf17ZzKjjBr2n9irdGH+DZjbVCHfp0weOKpdJa0H8iGLxpD67cINWrz5TuTVvCV+MhbwST3xHildIVOfIZRQbPqLsmuuPgQaNoCwBMtYlQGYUMGt055aNGhka1OKOO1Q9fb7qKwpjYEOcbtYaJZ65Q7n62c6zVP5IpI4q9dqbjs2hu9CvKSuF1QOFfs7oNiV336M8FhjVafr3Kbv4pcq7rHX3IM1pDgAZYIvlgAVZzmWIFJs3b3Y2X2wIw6jtxd7DmLBgAB1AEcu4XCADoIgPk1PoV4iY/C82Pp/4xCfKGXpZz9hE5rLENr4PTRYXIqOKWlKKHRCWEh8vR4hELb3jlRyKBEuJ3R2uCXadUcpZOe307VfFzW+RaqYrr4J6e3pUnR/S4LXfUsuCsd08yvd9//RfqskPqSbbp3wup858g/7mzB7Nf/VfHQdKDvHgFzdq8d7/UbJ5jqM4iOnEBjuV+f1bj8WCfGd/x6917wP36bbOWYolkxoaGtaMeL/qWmaqNxPXi5e2avrpF2vP0SE17LlTT+3t0pZcu+IqaHqsX3+yakSNV/zx75pGyW/4nmK9e/TDowt09NBeNaQOqFA3S32q1ZqGQRXOead+uqlPyaNbVd2/Q9MaavWemVtVO7hXsVS3cms5ZR2f17CjxLMX/1m0hVsoqPpbV+jxzDxtyMxTS2xIC7Pb9Ve592ta60zt6U2re3BUtflBVSQTGi0ktbA2pb+f/7DmXvNRqaqh+HuyKSUe+w+pweUeGzyo/IprVWhwkVKebQVLAiDjqqut1d5H/1ePHy0oG6vURVW7NK2pQZ2V89QW79PawfsUa12qxKHHnbac8lWDnUrPv1Sj695zQuUSd1kpgIfY1vTmBm194HYdONKlloqM1iycreSqa8c2A0UuUz2eXEcAF4ss8lr2tEtKB25cXJVRixn7dQ23H4DDD3LE2wFIElMuFcj8Dtc0QPbf//3fTrvXXHONXvWqV0VbZ+NwlwWwcRDiyTYxmQAsrKSUqTvImHHxQT0v5XRmIysWO8w4LDhIAwBYye1071TFj9+lVKxWqfSo4GI3VuaV+71vSy2/q0z/+E1/rn/pXOswymDwvax6k966oFexkW4VGmYrd8mfqSdf7wBptu+wLjv6XcUoOltZq9hwt/KLXqTci/6i+DTve0ij9/+rDqWqNGNao/KHn9T6wlp1N5+h02qHdW5ym9IX/LFi1Y169Jc/0E1bCppbm1csO6zOgazOrDqoP3jREuXOescxEgbAE991t36xpUd79uzUtPpqpTIF7Rup1OU12/TTxEuVaJip9hnTVL37Lh3oG9V1TZt0emK/8s2LVGg/a6zP2VEHxLKXjp2EHHoV8vrVv7xXXxm+SnknghTT0vhhveKshbphe5P29WUd4K2NDas6GXfIJvNrUzq9skt/8tY3qKK2yfcV+UJBdz19WNsOHNGC0W26ZvaAknUtjoWo/gNjyj4zovzCFym/4JLj2mDDhFUy3LlDt25LqbG2WpWxnDYNVKs1mdLS+qwO9qfVmhzRVa1dOju22ckPU/Mi5eacrczq65RV0nFHcXkr9hvyBeu/IzZNe4aTakxkNJItqK2lUdeeOVsViYAq+66e4uICcLDmUe7GtVgqkBkmo7HIAJ6oycZuwfnR3ssFsmIMRMpHQXPHdfr5z3/e2YyWcwHYb3vb2xw3LC719773vfqjP/ojx2X4pje9yQFgrEgq3RMjtQBWjpTH+ZnJBGBBRA4+bHZz3uK9QUzEYiLyK7gbRqX3a6+r87Aqb32vGkY7VFHfovRgj2IzTlPsDd9y4mDmij/8TXU+9WvtSy5QkwZ1Wu+9DkGikKyUclknJvbUeV/S0jPOHQPkFbOUePDr0tAR5eeco/w57x4rQhtw8XFte/pJnXbk506ScktjnWMV5ZZdrUJNi3K5vOL9+5Vb+lLle/fpK09W6DeHpNnJIVWme/V0bq7yiSq9o/kJveHchUqc+87j3nR0KK2f/Nc3NFKoUCGWVG2uT6/Wev1j7G2aMX+5WpoaRV7UPZsPakZ1XufNb9Br4+u1qb9GPYVaLYp3aM1ZFyq2+LJIKxeled2Xf6JkuleV8ZgK+bx6C7V62+oaXTT0K21Jt+ofO89STzqh6njWccte1XxAIzWz9cdvvNphGvpdX/7Jb/S/mw6PufUkXTAjrc+t7VOskFZy688VGx1wDutk85C55KPKrXjVsfPTuB+X8Pr1v9TPNx1Ra6Fb+fSQHskt1bTYkObOmasdHX0ajVdrRc2Azqjv1e/XPqjcK74i1bUe6445i8wPyMiXmjd/ob5+zw5VZIc0raXFceMd7k/rdWtnOekBYRcgixVHTpaJJcJu9KvaHtSWSah2n3hcLpAVO9G5FCCDqQoYFjvjjGRjDp78m7/5GweE3vzmN4eJ64S/s6nlh/fgQiYP7Cc/+YlzCjNW5F/8xV84AIkOgZFoAaxkEY//A5MJwLwlpdxUdnY+WEvu3SRMRH4XVgEcqeFaocitKRrrThjGZUJliChZ+8clNM9vU/2Gf1fs6Db1JGdq6Mw/0KxFK46fpFxa8ce+rfjue52YS5w6ftVNymRzyuVzqoznVXjZF5Q/7RqnlBCKI0oJIVMWi5ex86R80o7f3Kr2tumq63hE+ZFep9p6fLRX8Ypq5WradPPR+brnYEJbjmaUyKXUm6kQxd3bq1Kqi2d0ZdN+vfndHzlhkQ1u+oX2//ZHGsnktbymX03TZ+quhX+iHz/RqUI2o6d7Y6qsSGp1e4NTZorY1Zk1XaqLpdRb0aZzVq3Q5ctnRFq8KMvX/OuDak4fUjzdp7wSOqwZ+kjz3bqmZa9UUav1R+r1hYGrHEtsRVWP6ltmKNm6SH9y5VKn2om5qKnY0Z/W0NCAPvTt9arXiLOzBhQHVa2vv3mdlo08oYrffNkpyOtc2ZQKiWptufDLDq0dS9/k5v363vX6yUPbNDe7VyOq0oPphWqLDSqdrFZjMq+BWL0ubDqqnkyF3tv4W7W95u+OAzDTLzeQMV6o9Y6LbNVqfevBg2qtSzouaZRouqJBb7t4iea01IbKjw0QtTTd6xi3POzOqEBmiiv7WTGlAFlUCr1h8HI/37gfaYaNazFyCmN7y1veovXr1zsyQr5RyWDFhHrttdfqgx/8oPPDcSoQxgC4F7/4xY7HxAJY6JKc+BsmE4AZJiKjducR4TP3U+rFEoiPKbFs1olhYKm4y0i5Jeul0vtJnR0t7fAxARgGNKm0cfOjB3W4p0+rWyv01svPCIw9FHJZJb+6Rul8QsnKSkdxxSA5XP0Pyi+7yqEAO2BUWyul+hXr2uxYGJRKMlaYqVRC0N47HsaBsm2sjqty551KwGZrmqt8/Wz1Hjmgr25vVXut9PTRrB7rLKg7ndCCqiGtqutzgGgo0aB/+dB1xw3fYZM984wqBnape2BIieoGrVp3qaa1tjkkjrs2H9YvNx3W3HppWnOz0oW4U8LprefPU2Uirny+oMMDo/qjyxcfK8wbtqr/4c7t+tWWTiXzaafcVW08o39ruUkzW8aYeRAvNvfG9f3WD2kkNarRoX5dvbhaF5xx2rGSY30jGX32jq3a0z2s9GhKnb39mpPoc3LMnA1NPqkvX7tYK2N7VPHAPx0DsExqSKOjaR285j8dF5xbEfYPj+qfvnOzuo8ecRKs9+ena1HVoHaP1iuerNCMxKDW1Xdr+0ijzmuv1JzVl2hlw4gaWtpUaJh1wrANkOF5MAdq/nZ3nx7d16eGqqQGRzOqSA9pTeOwFs6f55v75W60mMUDkPG9sH4pFBAU78W64NsrVh/UC2R+56QVA0K/+S8GZJBBeKf3FHbTDkUNbrvtNn3ta18LW1qR/467kIK+FEfGggUkzcW3j5wsgEUW58TdOJkAjFECNFhWKHFYUMWOXECJs0vmGBLvhXIgB+XZki9FK3sUKw7sLkflTWju6B/Vx255SulsQfFCTr1DKb3nstN07dqxmoHuy7gulx/6sdr2/WzsT7izGtuVefMtTgmmY0BakVbyl58cy60ix6pxrjJXfEYHuvocJYRi5cdYo6bEEbtDxgsLza2gYl1b1bv9AX111xwHwGKZQe1INenevSM6r2qvahI5DearVdm+Sp+/biw3zV3+qWn2Qv3Hw50aSY+dYIy198dXLHYqiVBp5It3bldrTVw9fQM6NJhR92hc77l04Vjtx1xeXYMZffiKRceORim2mlF8m7Zs1U+3DmvPSKVa66v1vmW9Wr35K865W84FMWR0QP3X3KChWLVTAmpkcIw1yKaA8f/bgx26d3u3WusqlM9ltHFvl6qVUUtiRKlCUjNj/brx/VepOlFQ5S3vUj6dckpROaB59jsVu+D9vt3s7+7Q/f/1ed0zukSVyaRaYgM6mG3SgcRcVQ7uU2++VsPxOi1urdXenlGHiPPixkN65xVr1Lri4hPaNIn35pwxYnVbj4w4rkPcoWvmNCihsZJosGVNXMvPwihWhcO82AAZ70Uxe4GMNYTLPsp5Ym4g81aW5zvm+yz1YE0/IMNzQj+DPC033HCDQwohZjUeF14WzhTjUEyK9+LKtQA2HpKdgDYmG4CxeCBrRDkqhY8R37jbX4+I/AruFhMdO05T6Nfcx8dp2gkqR/WLTR369/v3aFZTtUPDP9LTp5bmZt3wFkgbY5epWwjIOKdG19Zo+PGbddfG3epPTtfai67WqsVjlbpRwCRpdj52m374TMqhsZ/V0Ks3Ju/RkeazlV7xWodh5k5m5r0oHC6sVIfmvXOn817udT76fFaxnXfrfzb26pmBStXXVKq3eq52daUUzwwoESsoXlmvD165XGe0N6jjqfVK7fqtWtsXqn7ttfqfDd1OcVyqT3B1DIzqgkUtev1Z7ULhfvO+Pbpvx1FtPjykXD7vFPdtrY3rqpVtyscqdNmy6Tp/UUvR1WuOV2Eu3G47A1gVd/6VQymP5bKKdW3RaNU0VVTWKHfhh5Re+nLlchlVVtc784gc/+XxUeXiVaqrHouJdRw5ovrhfY4FtjBxRH902Xy1nn+dU57rwIZfqenp76qlWoovv1q5M67/XQkrT6+x7D7xPw9o8MhuVSutQ7kmzW+u0r4jfYrFY+rO1zkbk4pYTrXVlUoXEppXNazFFT36s3e+WcmaMZakieuy1k2xatYIvzdxOi/Zw5v7BQXfbGJ4Ble491sIEjrrhI0bgIFFRgI4bUFsco6IaWuLrG3Mt+I+IoVvxyQzR27IdSP9on9mfZMMHcQ2poTU+9//fudEiJO9kDGHYV599dX60z/9U6c55se6EE9WshP0/GQDMBQKiyiKD5sPx10TsVjB3WLiQ4mQZ7J27Rjw8PHg4+aDwZUSZAX+cnOnbrh3txNgd5iNR46qrXWavn79WkcxAiRmF2qKEg+NZvXB/96ofT3D2FZKxmL6+MuX67LTWh2LcWfXsL5792M6PBxXX75ao7mYliSP6B/PH9GsK0n8H7vcyg5ZoSzcMmNMKHL6gSXb2FDvFLZ9YM+ADqUqNLulVuvmNTluQCwr6gDW5AZ19JFbdPre7zjuPxRyfvppumHaR7X9cK9aqgrOUSZH0wmtam90CudykS7w9psed45dwRoirkYs7MLZcb1oQbWuOGt5YJFiU/kEWRHP9Lrtjg04PaTEjl+q995/0+d6r9S2/BzVKK1z45v1QG6FU1HjwtaU/vDNb1RVbZ3+9vandP+Oo5pWU+HMH/UKP3huo65q63EIH2qep+4jnY6S5J3kEvqx9Tbs79MdT3U4xvLVK2conSvoG+v3aFZDUpsP9Wtvb9oBbaykpckux2IeySccIJtbNaLhQqVWNIw41UM+9sYrNW3mHKciBxYVrjc3CPnNLb/zApk5xNHNNOR3pJaUWvXC1CA1QMYGAlddqTR3+ukGMoCH8UHnP5mLfuFeNYej+sXIKCH1q1/9quSz2Lz9ov8kMEPY+Od//udjf4bhiGvekDiwLr/4xS9aF+LJTOx4PTvZAKzY2WB+Y4aJSKY/u79iBXeLyYt3QqCgzhpABhCy6wqzAnuG0/rYjzepbyTruIr2dnRpSX1W57QVtLq9RcsWLzyhbuH/burQP/5yu5qrYs7JwqnRtHOa8H+/8wx1xmfpx4/t012bO9TZP6LqWNZhxhFHet2aVr3/2hc7wAUooSAALPMTND6Tx8R9QdXuTXoC7rd1T37KYUlClnASaYcO63Gdrm/2rFNzTUKFuhnqqZyt916+UivbG6VUn+Kdm/Tqn2aUUaWSmDgxqS+V09svmKfXrGhwgBQQ4f3uxFiz4eB3gGxoPl8urb/88te1PTdb0xIjOpKp0u5si1ZXdKg2WdCRTKVePj+nd//+W8XcfPK2Z7Tv6KBSo6NaO7tWH71mlb7zSIfu396lVGpEVyyu1weuOiPwvU8fGtAX/2+7cwwLLPuhdF5XrmjVnVuOOMew3L+jW8lYQTmswkLeof3PjvUrVUhoWJVqr84oW4hrZfKAsvEq/ckbrtKhgweddYWbM6guoplL5thUgwgCMtY97i0sJubR77DHKLoCIAPMzeGTJ5NHZqxB/gVwyjl92fTZ5LexPoxFhivfABnygVQBCeZkL45j4Uw+CF1mM/h3f/d3Ov/8851qHJBhcK1S7QOQszGwk5X4ODw/2QCslJJSKHP8/ixyFnixgrthAHbPPfc4igzF4rcrDnq+a3BUt204pB/ft0HpkUHNSA5qpFClVW1V+vS736S4J3/nlicO6v+/e5empQ86eUfZWIXjhrtj3vd09KX/ou8+dEg/3ppSLjOqeg1pNJ9wLIp1S+frr1++zAEvLAXvrvy4/qWHFeve7rjBCtOXORVBjGvNDSRYulg+Jj0BxVp109XqiM3QE6PtqlBG5/X/n+qTBT2UPFu/GlmsQu0MvWTFDJ15+RsV69uryp++T7HMkD7S/WrdP7pEDRpxFPlIRbM+8/pzdfHSVmdnjiXKu4iVYPFgbbLhYKMQdbefzuZ0/Zd+pNZYv2KJpA6kqnUg36zTKrudpN9ULqb6ZF5f/dN3OOJI5/I62JtyLMLkaL/+ff02PXAwp5bqmOrqG9WbyumDly/SJUt+dxq0W443rN+pR598Wq3pfU4+2r7KhWqaPluDo3n1pTLa3jnktF0XG3XOJ8sppmYNOdbg7MZqh2o/r6JftcmYzprX4vyONRpU0zJojYUBGe5APAZsVvAYlJSQ73kpGznAAZYrwIPlUWoeGU3yXbIhNGd9lXr6sumWl1TCpgc3JzJBlqyhz33uc5R1GgdtWFoTFsBKk9eE3D0ZASyspJRxO7GzhzKMe46PrdTL3Q7AQN6HX6HQsHY3b96kT/7wITXFU6qoSCqmuLoyFfrqH1yhmbPG3Gzmws32ge897ij/RCKunly1Lqk7oM823qrt7a/X7spluvVwkzYcGFBlMuZYNLgor1rRqjeuGzult6h7dbBDlXd+fKxCfGWdCi2LlLn0L8b+2wUktOEUD160SMoMatuO7WooDKh1/y/1yQPnaSTO/XnNynfoC9N/pqZqxkWBxj5lz32Pcme9U5U/+7BihzdqqLJV/X29+njfa7RDc51DLt9Sfb/+4GUXKb9q7LgWLjYcuLkgChCb47TcKKkL5nn6/7Zv3qd4zy7VxNLqGK3W7sIMraw6qsZkRj3ppFY2Z/TJ948BGEQPcuMKyRrtG6rUZ36xS0P5pJKFrPPekULSofe/+2L/tfOtW27X/duPqq26oMOZaj0z3KDGulrNmj7Ghtx8sNdJ1K5UVr35KkHgX17Xr7qmmVoxf6betG62tu3ao9RAr85dtdRZp9DB2cljMbGbL+UA02JARjI+Gzl+ADJ3XCts/brla6rHE0PF4gHIcAU+a3FEasqbS+YXIytGznK/hI2OXywNIMONh+uQuN+NN94YqW/jeZMFsPGUZpltTTYAc/TO6KijbP12flgL7DZNwV0WchATsZhIDPsL9xWkAcAQy4sPNepl4lw7tj6l/9gwoJb4qBIJeNpjAPaNd12q6bMXndDc43t79M/fu0VPp9uc/KsZsX4tjHfqL153sZ7pls5Yd66+ed9uPbCTU4QTWjevQe+4YJ7qqiqKg1dmWFXff73i3TtU4FiTZLXyFIJdc51yzxYOZkcLqwsFjttosOeQvv54yqkSwinIsYJUH09penxAuYp6bRmdIWwLiB45xbU0fkhvumSVXnTp5dL3fk//0HmO7k8tViw3qlfGfqM31m9UTV2d6jNHlVv2MmWu/Jwzft6LexbgQiES5Mf9ZTYfURX5I3t69MVfbFUhO6pcIabCcJeS2ZGx6hzJvP7mTRdr7vzFivXsUsWdH1dupE+pkWENz7lE/1H9dj26dZdm5DqUzcW0pzBDr14zWysXtWv99h7nrLBXnTFLy9rqnD4fuuNz+swz8wVEbR1pVIWyOq81o7q5K3W4q0eXZ+7Td3pWqCNdpVxeunBGWtPnLNbgaEF1ybxe2T7irCdvGggKnjgYypk1V+yYFb+1CJCx9mjHWOOAIt8EwOiOayHrqFYU3x3J0CYWzLvLATJAj+8JV5z7KgfI+NaRkV/si7aJT0F15zv+9Kc/XXpFHUnvete7dPvttzuyoy2uoOob7vFYAIuqKSfwvskIYH4lpcxxKd6Cu+w4SeAshX2FIuUjI+nTuK+KUem94udDRAHxjHP0x6wZ+uI3/l2P9DUqGS8oV4jrxdOP6oPv/UPFAmrYffkHv9DDW/dremxAiXhchyvm6rqXnK+ZI3uck19RUKl0xlHSdVXJSMnNiY3/pYr1f6+j+QY9kF+hkUxMZ9b3aNG512hw1VscADGJ3Cg7/vtd//Cf6s8m1VAYUjYvPaN5mhfvUXuiR09ouVNLEcsLt2CCA2FiMTXX1+izr1qh3b+9VT/cW6fWREr5bErd+Vr9UcPduqZhh5QeUPac/0+DZ7zdeS/jOZbj9qxATXV2CA2lKPJDfSnt6hpWc22Flkyv1OanNzrnep227HQ1t4y5AxO3vl+jnTuUqWhQfV2tkqmjOjzrSn1qQ716Cg1jRXoru3Xm6jP17U05NdRUqaKqyqlP+elXLNfC6bVKPvg1Hd76mO7KrNb3uxZpebJD9TPmqTB9qToP7deH6+/S4rZGbR2q0dd2zlZFvCDNON05sfrliyr1hktXh558zDrip9jp1EGfvxvIzAbMTTUHfNgkEBuLYkWxOcQ65rvwXnwvrHfaBJCfLaXk2zXchmxYgk4HR/aQReibiZEFWeKPPvqoQ0wJihdef/31Tv4XG1nSbyj5VOpFAjSFDajgYQDsox/9qG/1DQtgpUp3gu+fjADmLimDT8B9AAAgAElEQVTFf4cdl0IpqLBahoamTZAaMoH7dGBEzAfFrivsKAruwYIhXuSmtKcHOnX7j7+nfd1DWjmnWVe84s1K1J1ozfHx4kb6659u0Wg2p2lVOcUSlerK1+uyZa1anTzkfLC4Cv3chZATyG8ibnb+wpbjSgwl7/uSBp+8Q1/se4kGVOtYDGkl9aq1C1XdMsdRKN4Tn1/7d99XXTyr0XRGnWpWv2qo2qcZ6td+tYnKg04u2rNXPBZTRSKmlTOq1D66U/v706pTykm47s3X6EVV2/TRhv916iFuPesTOtw96LzXsDD9lrPJ2UORw0SEBRelGklQW1gjs3/xB6pqaFNlzVgZLo5QISY4WNWmbdmZDvlieXazPqX36UBstnM2GMp5uFChV6+do7desEAa6lLlXX/tHGnyz13n6MnMHE2fOVcDqlMyP6LP1f5A9XX1UiGr7YNVurl7iQ5WLdVVa+bpqjMXRGLS0reip1OHfP8mTxHZYfFgyXrXTVQrCk+GcRkGvdYAGRtJQNEPyNiQ0AfmsthlgIz5YiOJ29MNZFGqeVBCCgJHOXE6d98AZ+jzBsCCqPMWwCYYkEptfjICGB8lHwhgA3iFHZdCwJjzefzcUAYwDE2bj8QvhmSYeLTjd7lLUTn5XHVjbib3Zco7BbVh3J88+8RAvW7d2KG2xiqHZXhkcFQfvHS+FtSMOq4lLDt25e6+HhkY1fu+v1G9w2N5XzWVCf3LG1drcetYXxLb/lf33fkj/XBwjeYVDjkuwY6KeapafJE+9Zq1vuP+7De+rd921WgwzwnHWFpxzYt1akehXYM6cYxwUqoSMdXnB/Tqqsd1b+Y0p6J9oaJRR2oW6M1L0np5+4hzhMvM9nnOOKKkRBhFjjI77nRmV2mosLWNW5KamTDolm27QYnOpxzSiZMHN3JU+ZrpiuVzxyrWc+7WX8c+rL2FNjXWVGg4ndWGfb2qjue1dm6D/vSqlZpbl3dORx7e9ZB+8PSgNqema0ZyRNddvEoLtt2oRMeTokZvJh/TwfM/obZzX1s2+LpPpwbEWffFZAf7kM2UcVMiH9ow7ncvQzUMfJA9RCas4bCL7wWlb+KobsuPPrFBDGPxmncEWWS0XSw1gO8JC+zee+8N627o370AFpS8bAEsVJTP7Q2TEcBY0Pi+ATGsnDB6dVApKBY4HwDuAeJcxdoxVHqOZ3FfxUo3eWeKNqD1X3jhhcf9iQ+Rj5rx4J5xiq1m87rx/t26ZyvnckmvWj1Dr1s7RtJgR457BYWMu8ZYi1+7e5du2XBIjc8m5w6MZnX+gmZ97tpnK5EUCrrntv/UT7cMaJaOKlvdotFpK1RbV6+PXnOG4gcfcajx+TnnHlPifX3d+pubbtO9vdMdYsQFyW1aVNGjR3Kn6YHRhYrHY45r0VxYX1XxghYUDuprs+/QJ7peqqPZGqmQ15wFy3Tdsria6qodq6sUgoZbYN7TmcPYpWZzgeyYZ4cggPX0q085ZBlHsa97hwqN81Rxz1hMjtOjAbcH13xW/3jvEYGTVBUh32vdvEb1DQwrlkvrMy9frAXTq1X9y79Uoa5trFBzdtQhh+QzKQ1miL7lVV9TrXjLAmWu/uJJf8CsOcCEDRzxMSwZN5DhNscty7rybqZYg3w/YUDGxtALPqUCDwM1QEafjEXmd/RJFKF4gQz3IizDIFfkAw884BTbpYjvyV4WwE5Wgqfo+ckIYIgCtwdugSiuAT52LlP+BqDgY+SjMlUOoojXXZXexLlM6SZ2xFEsCbc7E2XCh4FF4XVbmnwu4lyc6svZVt72UTAoGggnPP/1B7v+X3tnAW1Xcb3x7/l7cSW4JWiCpkBxdyhQpH+COxSXFigtxVqseKHFKRakFArFNUDx4BasBI3rc7v/9ZuXeUxu7r1nrr773ptZKyuQe87MnD3nzJ6997e/rRc/n6V+1R1s9w0tbRo5rK+u/b+OYDnP+/oHk3T727M0qLxRfed+prltVRrX7x3NqG3WbU2bmfjcXgM+1D4Hn6LS/h1JpvXzZurSO/9tNmHyqerbSjSnrln/bVpRsxvaflJgsXYtWdmgARVt2lxv69TF3jIuN6wS1c9W/XonaJUx6yQNuPusgXsNz4P8cNu6itxeY93LlhdyEaohytI0zO7gkSSvDVfi9E9V+t0b5v/bRm4l1QwR+V6PfjBFz302Qyv3bVRfNShW1V9TW/vq0DX7qP/sT7TG1AdUNbyjUGRMMbV8/YaaWlpUOWLVDoWJZdcwQ8173ZXuYya9Pl6RY1mCNsRC531IBZd3FRn/jXJPlOyOfJEz8uU7SpW4n+rBUGS8q8yZ7484rs+3m6hPq8hQ0sRqyW1LdBi68cYbjSfkqKOOylrmwYWYtQi7poNiVWBRtcFcabHBWbZqGy/jJG7pcXwlCxUPSdHWFciGGE/dFNUXeTRrrbOurntukp76eJr6VFXpyC1GascxHfyIlreQzZcWCYtfoMwJ0r/2Ta3untSqmsoKY7XVt7TpqE2W017rLKHPX3lEX3z6ngYMHKTF1thaE579j6a29degqphK50/Vv+rXNMz3JOQ2xcp0wgpTtNt+PzF7fPHfhzT+vZlqUZkq1KZxaw7QxJqNdOcrXypGvlpjrYZprpapadaaVVP0q9KnVVPappY2uHWb1DhqF1XteF7Gm1YqubqKnI2WOB4xy6++/FLLDuujxZdYUmX9hqesWh21bnPqmnTqLY9rWOsUlZfIKO0ZNcvr0gO3Uj/Vq+3hk9Tc1Kzy/kPVOm+q+lRVGASp+i1maqiV1E5R+7BV1bLl2VFDpf073wIeCSwynp13NCoJ2g7C+2bfuWSKDAAEGzgHAVjofao7JHsILCZIqYlpuQnHaT+0ZLhBUWCsdSKwB7W64D9EWWbb4hVYMvYNd5yAQsxW6jm4v1gVWDqUUmxwxMGwYLCUktIRRcgLXkVOj2wOyeJcUSInj+aJLxv03LdtGt63lDqXqm+v0Hm/WF3rLN1/Id5CH4vOHY/N4dan39Kzn81Widq121LztPOWW+jjN1/QfZ+3qrm0Ro3tZZrW2kf9Sho1pX2glq6o07Smcs2PVWrpsrlGgTW0l2uVvvW6+uSDfuo+FlPjt+/o4Q9n6LWZNeozYKjGLTlVZW/frO+a+2nxxq+0Ts10zRm4mqGO6her1dQ+q6hPhTRg5Y2l1XdLyh8YJTPf3y2vJAi3Qf376MMP3tK/f+zIydpjqbkaN+5QlVRE181KNF7JrK/0+D9v0n21axsZYQXs1e8D7XTwmSaHrunHT9T43CUqbZil5urhKtnkRA1r/k4V791uIC6x/kurhaKdTv0v3+dKdZ3rLiTJHqAFBzZL0+Rr5VhFZl2LiSwyXHK427k2k6rJPIe1xJifTTjOVJFxoCSezHdiUYvEpvC0YJFtt912opilWxopE5kTR4PrEJc9Vu65556r3XffPSH7RlBgmUg4j/cUqwLzpZSyLO98ONDARMXLEonSxrlwzxDATgQjjloCNhrclnwEt3xeobpZP6hP61zD4DBLA7TjeqvqsE1HedE/JR2rtUlV/xyn2KzJhiOR3KuGgaN0ffP2mlTXR0Mr2/RG7TDNbyk1eVvA3ktKy4yy+bZtsEaUzlef0mYD2Nhg8TL96fDdFxrq8Y+m6vqXJqtPRala0byzvtRlfW7XSrGvVQIDfGmFWkesodmt1Sqtm6bPR5+sAStvqBFDBhqG+shG7GjGp0YmseGr/lT9OfLGDvJbgDiWRf3ZJ/6l8d8O0qDyFqNw5rZW6tgVftSOay9nLKHYYqt79PrTJSUzJqniuT/qs7KVNK25WotVNGjlts/VsPO1mjxtntlAVxo1SkMG9TfckWzOvHMjl11Cg/tVq6TPkJwqcBQorkL+oLhc1Kwl4gXEgaKIR9SmenBXkXGd5dHk323RSJcRPl1FxvtP7BnPBc2S8tJ/snpfieabCIFoiQdw0z/55JMmDsiBsatasMC6SvLOuMWqwCylVLI4mD2N44rDWsLdQAJmOgosPs5FLAOFGAWld5eND5M4GcqPjxYL7srHJuqrmfUaWN5mTuczWqp04PKztfe+R3jF0ZK9FiXTPlLlQ0eoKVZh+PewFGON8/SHtiNVqypVlpfptfnDDUChqaRG/cuaBf3SqOr5erd+uKrUqGq1qqaqQlcdtKlGjRi40FAn3PGaZs6coRrVq7R6gGbMmK59yibokKrnpbZmw8xR12cZlfcfph9GbKHfT91CU+bUqbSkVMdsvoJ2Wmth1hG38/lzZ+m+u67Xd3VlWq38e+291GyV7HadKSOTqrFGyJb4DAhSC+g497pb9OGcKqOQQV7UtZVp7bKv9cclXjHsJS0bnar2Udv6f2EtDap84jSVNMxSrGqAYTKp67eCJg7dQ0skIRnG1YxStWCjbFxv7kQtWpX+UF7JUgoYF0WKkkDRpOMyj3dl8ywoS9hRbOOwQP98g/QP+CiqsU6ggVmnhdZ//nzTF+vpoxRT1RPjwHnNNdeYPwcccIDI2fJBTkbN/YknnhBuSfaUww8/3JD3pmpBgUVJtAC/F7MCS0QplYzlHQWWDpMGbhjiCm6cKwpK7y6HDTRb2DanSzYaXDzfPX2tLvjfSFO1F16OxUrn6a8rvKKaffzpbugfFvTHPpymflVlOmTDZTV05tta7LmTVFozUBWVlYZAVk21un3Eb/XIJ3MNvPutpmUNY8bQQQM1q7FdMZVo5QXMEmsv2VcTvpitmfWtGt6vUusuUalJ3880eV37ju6j+17+UO80Lm7uoVTIQNXp4MpntF/li6IYZ1msWe39l1LbEuvq6Loj9emMZkNkzGZIEu+5Ww7V5mstyt4PJ+HvbvyX/jerUTWl7Qb4sUH55/rdRgPUtvFJSd9yNnKsWuIf8eS3f73jHj3zbUxDypsNTB43Z0lJqYZVt2lM1TSdNPi/qtn/nvTiYrXTVPHOrWqb+bV+jA3RzBV208jV1opEUxJDQpHxbnKIScYaEfU5p0IXprqXzR7lwDyQky/zBn2ydrb2G4c/+x6741lFhrWG8knlsotizvC17uItufjn//e//20sMAAet912m2HSyDR3kL5RWgBYcEkShoAYYfz48SnJkYMCi3qjC/B7sSowHt2llIpCBcYjEZOJzgI06C8RBBkQRjyUPr6vVOVWcOvMfvEG9f32Wb2l1VVV0q6NS95TzarbqHWzM71X9L6J3wvYPJ48W67j/K2Ga9sfrlX5j28ZN5z58EZuq4Ytz9WDL7yu5z76XrObSlRXOVRDBw3StNomDaqp0OpL9Nevxi6py57+TJ9+M1V92mo1O1aj+liV1qv+VuWKaUZrlXEtTm/vb2iZUIJVatbDVedqqfI5RnmRCNy22Gg1t5Vqh6lHaWZsgCoouwKSsaVd244aoH2WmqMBw5bQ8ius2GkNfz6tVifd8oxaWlrxWWlIab1aYtJtq72j/ntc1imTlrZ2Tfh8pn6YXafqptka2b+jhlqiDXP6zJk67danNK+5RM2xEs1o66cxNTPVJ9agme19tWblDzrjpFOlUg/X5oIZRKIaI1aP9wKwjWH5GDnSm6Q4lbvQ+4VhDerrjSLjbxTZIvyFICXj5GErn2Mx8ceiF20ifbxlSP9Y/ii6ROsCgAMrLsoTglIEOEFLZN3h1SDOlcyygiUe8MZuu+2WjoiSXkv8DyoqXJO0Cy+80Px95pnJv9mgwHIi+uw6KWYFZpGIKAVOdnyQfJiJEpYtEjFZOQnffC4XSh8vWXtSZaMiTuaetC0snnEm/+9LDZl4lRav/dB87O3DVlHzDn+RcE15tr1ueFPT5jdyRDZ3sEljhR210ZIq+/B+lcB3uNjqalttj4U2JTbhDz7/Wh9/PUUrLbuExq5KLlepYf3Y7tKn1K+1o/AiCMUWlWr16tlarLJJk2vLND9WrSVLZ2tWrL+pMA0H4j/6XqVhfStVWjtFsZrBah+xhmKxEm392W6ariGqrigzrkWqGQ9sn6cRmqmlNU0n9nlSZZucpMXW3Vk3vfqdrnn+K4fPI6a+ataDm03R0lscYp6Pys3H3vO+Pvx+nkpiUDtV6oANl9O49ZK7JefWNuidjz/WJz/O14uffKclK+qMLNpbmvS9huucXcaY9yWKONbGVrCiSB72TZlItpRYjigylECyEjb2Xl93oedrYy6zQArr2hzS8oMq/vsXldTPUvuwldWy8W/UUNbffFO8nyB2LUzddS0il0SKjO8RRWYtNjepHzAV1osvuCSZmxKPCmCNZNbefvvtp6uuuqqDjDoHDTZ7XIiWFPiOO+4wOZ3QVCVrQYHlQPDZdlHMCozNmGJ2Ns4FpDZZQ7mQQBlfldW13Pgg2JxSfVwWSu9uenzUWHjQ9fDBuIm1VnHF1+dqamzUN5+8pfr5c7XM6A00ZOgw76Wirz3+9qqm17aYeFVpaZnqmlt1yIbL6MhNlvfqxyjSyZMN+IDY0fDhi2mHix4yNFHlJe2a3gYBVIXWrppiClVOrq9UXVuFUT6ATmbE+huL65bV3tHovvNUNvklU9xSZeUmafnq70bpxvkbdVhm6rCCqtSi5TVV9apS/5IG3V5zhd4fe7GOfm2AajG5OltMNSWt2v/ny+nkbVcx/3rqfe/qiU9nm/8mRWBov0qTsH3/EWNVVZ7aiqLo5MWPfqDFG79UaVuzaiuGqnTI8jpn26XNRgtyjXWrrKhQ6f+eU+n0SYoNXEZtK++kuoZGs5GzgUclu3sJ3rmIeCpK0ZbpcTd6exiy3J6ZVEGImg8uxW8+fUcj3/mzqvsNUEWfwVL9NM0vHaR3lztSK628clLyah9FxvMhX2SHfPkbC4wyKuk2FDkWmXVTQkCw7rrrJo0ZA9hib0gXyZtsXtT4wvpyFRjKmDhbUGDprmYBry9mBcZHxIudSnG5oornREwU54oSLWzcQGktKz0KAF87SC+XVdy6WrASacnyuSwzN9eZysgDklthKFtLn/VpwwDd8s5s40Lk36GNuu3AdbTM4A5uP99mk4HZbGa+cpMuq9vRuAehr6IthdVSVm6YO+aVDdXEuiFqVofCIA42qLRZtxy6gUZ9dpNRYoaJor1VdcPW0m8/XlaTWjqC9T+29tEofa/Kko78tlrV6OKq27TqDkdpzYcXU4vD5kEq8PCyBo1dZVn9aedRevW9T3Xqs3NMTlnJAupFGDGWGVKjew8f28k8kuyZ4YXE3fr617MFVyMK8LRtRmmNpQYY2ZEjiDIfPfUhVX79jD5s6WC2WG7EUH0x6kitEmdN+8rW5zrG5z1EkfEe8w7x//AFxqMLffpL95rSH99RybPnan57tdraYOloV3/VKbbvPSaWGtXiwR7IzY018Xy8W5YMm/9Ptyq0Owe+d5u8jwJLZIFhtUHaSwHKXLXgQsyVJAvcTzErsCgkYryoODGBRMT64FSdKM4VJV42Oj5SwB3WxUJw160kzEeNQqL/+A86Wf98dAA+cNngVoo/cfM7gAX+3dJnPfvBZD356kTDO3jgOoO1/Pq7pgdKcCbDSX/2SzdpzvuP6LP2pTWsrF6jq2bow7JV1N7aojnDxuru+Wvpyx9nqckosJgq1W6g+IeMrNPR++6psi+fUcmcb9Q+ZKRK6qYp9uZN+rh8dc1rrdA536+ngapVWQmbpDSvpK+uq/67lt/tdzr2zWF64ct5ptAjjRy2pcrmaftVBmnjpWtUMnhpnfzw/zS/sbVDYS+I8G284mBdv99aXu4olNgnP9YKeq0VhvbRiAFVCy1Fe91Mzbl+J/2x4f80T33MHBcvm6ff77e9Biy7ZtRrkfXvvCtY8bgWUWQQ7+bD6oqfaMnML9T22G/0USOsKzEtVzpD1bF6Ne19t/oPHOz9XD6KDMUDmz2HP2Jk7jfjPdCCWB4WGN9Wongbcep//etf+tvf/pZOtymvZc/gO3/22WeNGxk36N13370QKnMR2fr6SXM2y8w76oiY98BWzAoMcbPxmk2PZJ+IBpM07jesHl7GeOb1qPv5nQ+QD5GPBwCBC41O5i706ddew+mbTYzNixM446DYQJIx506oMrW97tlbpXO/6YgdlZSqdZ1D1LpRctSezzyavnxZcz98Ss1l/VS3/HaaPb9BI0eN0tvT2nXHG9/ri++mqDHWUbyScavVooOXnaajDz50oe5L//eCKl44T4Ist6REt3y3lO6uG2uoqmCw36B0ki5e4gW1HvSY6ufO1Nm3PKBnGlY1ZVmGltZpo/JJ2neLsVptvS3U3C7tcu3rmj6vQa0LwCkMtt2qQ3XZXmuqDJMqy1Yy7zvd8Pcr9HTTGFWWtJoqyo2q1C7rr6a9t900y95T327dhXaNLWoQ1yYbfaackVGT5n399IuvdduTL2tuQ4tKSku1YsVsHb7Favq6bYRXjC5+jFSKjMMf7lL+YJHxjuO+TleR4fUgzsz3YeNtxL2xXukTNx99Hn300VEiSOv3xx57TCeddJLZQ6gRdtZZZ6W8P8TA0hJvfi4udgXmQyll41y4+jj9QYfjo/BcifJhkgfDR4iLBEJe24f9aDml2QKC2fjeLWjAWom4FiFsdedc+uUzqnzyN1L5AkuCYpMkLh/zTlrIukRvDRsE1h4NFw3jfzG7VZc+/aWaZ32jz+r6GEVTqnYNLqnXrbsM0PLrbL1wV7F2lU/4s8q+nmCUa6yyvx5a/ET9+dUG4y5EPlusNkJ/2n2Myr99TVX37WNcj3Ni/dRaUq6aVbfXpFFHqrauzmxUU565RvtN2tBYacTSVtQUNVcP1iUHbKlVloh2daX6OkwS9Jef65wHXtenbUua58IOHFEySz9bfpiO3HL1RQhzc/G12fcSdyGbL65pu8bWXcxGz0GLjT4KuZfOnGzh0jdmVem9GTEtWdUotTbqx6Ya7Tp2ef1izcWNcuAwhXJI5BVINV58jAxLiXeK9xg3Oc8HNRXPx6GM54sC09jxOECiqHDb22bdlFhFgFR+/etfL0KanY58cnFtUGC5kGKWfRS7AouilLJxLhQXf9ickyERk4mKnBOUn60ODJDDQuk5jVl3IR9pNorLjm+hy5Cxcvq2BR0Bmdj4Qtnnj6vi6bOkcsqc4P2JGTaMhmPelpIUyYx6FWyem0We2cRtLEBOtBPn9dWzk2ZqzvTvNb+pTWuVf6NjNxymlbbYP3HXzGn2V1JLvWKDV9Sh936mD36Yr8qyUrOBYcH9YceVtceb41Q6/WOnj1K1/Px4tW52hrGWv/34DS054UTtV3+aBsVqDbMGbV7pQF2w22oaPSZxiZuo52UOWNQcSvoMW1LH3D9JDa0xg64k161F5br45y1aaeQq5r2xJWzSPfwkmkeqHLb4g5ON0bFhMwff6tSJxrWMMLyzeBD+/uqPmkxSfU2FuXxWXbPWWnqgjthkuc7bbYyO94HDhG/MmQ6sImM8CssS/4qv6WWrbyeq+ZXoGfCkWGsr/vdHH31Up512mmHdgfIJr0U2DfAG8Hli34QgXAAKUPqbb77ZfJNXX321tt9++4WGCgosG8nn6N5iV2DJKKUS5XMlQyImExUbOlaQdRdaVwdgEFsVmfFtXaVslVciBcLc3IKGneUzGmer+q7dpKZ5HRZXrE1tK26rlh1/ypvyfQU4BHCq5RTLBx9fp4mNnk0GoIGq+2uxJZbWUkP7GUWUTtvqylcMzRIlWGiNLW3aZ40hOvOLfVXVPLMzd41YTOvaB6plu4vNdSVzJqv51l11bN1h+qp9CQ3WfDWXVJg43XX7r6eqZcemMw1zLS4o4iiVNf1UPXRJzWpo09n3vWIouOpiHYcCysfcsdEMrbDlQSaZNxXzve8E2Mg5EPB+JsthS9QX7xmMI+lWp7Z9ublkLlM9LPv/eneKlhjYYclTzXq/9ZfWVqsMX2ga8WATFJmv68+muWBJgvKlr/jDnk3896nCDD3U2LFjEx4WkdNmm22myy+/XOeff74uvfRS72rsieSO4uK7htH+L3/5S6cCA8YPRyJKjXXZZpttjIXpAliCAvP9KvJ4XbErsHggB5sxbg9OjYniXD7VmW0fdkO3iEN7oqSMOYqE+Fd8UcBMlsLy+HEqT6RAbJ9cZ+uAERtZvLJBlS9frJLaH9W2zEZq3fBEqdyfrNa1QHgegtOprAsXsYd1iNvHl/WcZzjirvf07rdzVVkOyrFdrW1tOuZng3RE23hVfny/cWGZVlGjpl/coPaR25j/nTGvQaf/bbxmNJVppgaYKNi2pRN1UvVjGnD0Ex2M757NKhAOC31HLKdLnv/OADta22KaOXuOKtoaVVMeU0N7iQaUNOrePYerauUtO3uPZ773pWdK5S70nLq5jMMM6RrpVKdOlUtGcvhtr36rNyfPMf1vMmqI9ltv6aRxRev64zCDezlVHp3LHEJeJJabjRPzNy0enesqMg5S8a5T7uP7A0SRqDEvLC9AHPRFy4XFvMUWWyykwOITmbG+sNTcWn9BgaXzZufp2mJXYDw2QA5eVk5CbPCp8rk4veHGSBRPsKdUy6vnbuiuT99SA+EK4TTrexKNXyJ3U3N5/KKWMr4O2CKMClEdSCb9gBMjbptkyd/JukEWbKDEBIlpcKr2oenhdH/Ene9qRm2jYazffrXhOn+30aYwZMUTp6n8s0cNgS+s7a3rdiQw06547ks9/+E3Gl47ydTVmhEboL2q39S4vm/pqw0uNHl0UfETV9ZG+S++uE7+50f6fnaDBvapMPOZOq9R5Q3TNbexXUuXzNBF/e/VyBVXUvOOly9yMABowWaJJcU74B5y4uUGghRLPhHllcdSJbwERYY1hgs0WXVmX2sP2dQ3k6Mg9a3sqCUX1axVjuXOO4RM7RrYb5HvKFkqgI8iI2WEZ+SgyDfNN8u3Z1IeHE5Gd66PPPKIea9RJrls8QrsuOOOM16Y/ffvcJ8fdthh2nHHHbXXXnt1DhsUWC5XIMO+uoMCY3AYzgQAACAASURBVDMmQTIVE4d9fFwCxBLiEYhurIwNybUsbJyLPuyJ0bpUsPbYmEwibOWCeJSHrLHuiKvxcXJvOpaM7d7mkHHSBWjhw7GH8sOFxd9Ye9mUmkAubFLEaGx8KJkb1R4Ovv7mW1UOWUrLLLGYlhzkl7N2xoMf66vp89Rvzmdmk53bXqMNqyfrd4u/qe83v0JfTf72p2TkBGuQLN70y+vf1KA+5SY3jDaztlnHDX1TO8y6W6V9BhnwCeS9Lesdrba1D0i4qlhyvAMoC94b1/3qq0A8Xpekl7jVmd0YnSU4tso6F1ZIoklYwBHuVZ4dixSlBjAj/jtKdL+vIuM945tFSSJXnitRwzLCOttjjz28xYr7j3c4vv3pT3/qpKKKV2DHHnussbZcBbbTTjtpzz33DArMW/IFuLA7KDA2Y05mPpsxJzo+Giwemo2V8d/EJNwAtc3nShXnct1qNsieShlZFm36RIGkExBPttzEc1BKKA8UWaL8IcazJ3ZOxamq9ab7WrmuzUSVkbNV1uPf+k53v/G9hpQ3SXO+0ezWSh2/2Pva7peHKDZkpLG+Oa2ziVqgDUAHF56eKN50yj8/1DezGjRogQU2p75FF/W/T2u2vNtZoVmNc9S24jZqjShEGc9zyP+z6eZbgdi1smuAHGhs9ukWW0133d3rGR9wBWvNd8C7nc6BLkqR8TvPxmEBRcl6JgKzoFCuuOIKY/nlsgUXYi6lWcC+uoMCwxJgs/IBUfCBcTrlA8AFZMvNuxZZJvlcFmaPay2RS4c5ssEChkDJZJKDFrXsPBuKDKXI5mVdOozJv7OxoLh93H1RYyX6Pd61yTwYFysh/nCQTv8tra267p4H9dw3HXGTXyzXokN+9SuVlncg52xzgQ64da17L1k9rO/nNOiPD76jObUNai8p094bjNQBzfep/JMHFasmiTemkoY5atnwJLWN2cuASUjQbh+8gtQnMfUX7xbuQjZvKiP7WMXpyCLZtTZuC2CCAwwHukSHiVyM5fZhLTC+JQswQtHg5nMPE77jRikyapLhsqSqA4cwxnQPjLmmkLLzjldgH330kcaNG9cJ4th6662NRyWAOHxXukDXdQcFlgyJmEhEKDoy9XnRePn5E5/PhbKhJaN/SiV6l2PQFhPkY8Otkgsi2KhldxGDWKQoFT5wTsRRcaKovn1/x632wQcfdLKeJ3P3+PZX9vGDqnjtajVS6bhEqmqYrpb1f622MXsv0oVFvPHMrHWy+BA3ln7xlNpfvlJTW/uZCtUDR22g1p+fqMqnz1Dp1PdNakLbilurZYvf65sXbtUVb9RpSvtgrVvxtY7bczvVrLhh5/jx7kLGZlNHkaaD2POVib3OWp+8X7gQbb6ge5hA/rm0uO3Y1nuBso7nieSbJD6H1c/Y6cL/kykySwZsAUgcGK0iw7ux9957C6BWrtqDDz6o448/3qRRYPnB5GMZ6XEx3nLLLeb7uvLKK00MzG0hBparVciin+6gwOKRiMke163ODNTWdUEkinNlITazeQLTxvohzuVTQiKb8dx7LbM+ipOG4nRzyHI1TqJ+rLVHUi5WpoHeS8bq9HHxJuqz4unfqfTHt6XqBQnLjfMM633L9pd0Xs6GzQkYRYKyxgpx40OLgGTa21R11y86XIUkg1M7rX6mqQoQW2y0VDe9Iz2hZqjmfPORDrrzfdXFqg1LR2N7uTao+loX/uYkky+WLN7kIvaICWERuYeIkinvq+Kd26S2FrWusY/al0uP8YODwucTX9CPn72pWEmJVh+5vJbfdNxCeYAAnFgDrmX8dGqBJXtPUC54E9jUkXWqQp2uVcw7wXuYTrzXVWSmksIHHyyEQLT9k8Bsi2Vawt18vuc+fQcF5iOlPF/THRQYInBrg8WLxK3ODJyXHA7YOEARZuIujBK5G3vhgyVA7EPWG9Vv1O82HsfmguVhc25ACyZzbUb16fs7p3HQX7hx4609y+iQKWqz/NWrVP7pw4r17XDbldTNUOvKO6t141PM+kXF9pA9MsFd3OlWa2lQ1fjdO6muTMf1M9Wy5dmaM/xn+nZWo/pWlWm5ITX670vP6vwXZ6umtNVcBjp7fqxK9x72M3393VTj0koFWIgHOhhm9tmfqeqhQ43y6sjMLlHz9peqfcWtIkXORo5SmvPj17r39Uma1DxcsZJSlatVvxs9V+vvtiiFklsd2tYCixwowQWAnVhnUJy82z5ue7pxkatUa8DzkY4rm+8b1yyHTizK+DwyFPQpp5yiF198USeccIIAWWTDJfmb3/xGIBqxLlnbW2+9tROgE5XAbMUWFFgmb1iO7+kuCiwRpZRN0LUnRXzyNJCIuB3YeOLLnGQjPnczjY8/uGS9WCO5AG+4c7VQbYv+ig9wx5dPYQPKBTLNLfKIGykZnNxFbSJ3W17DS971M1X16PEqwSqCg7HPMDXt/FfNairtZEhJVCk4vm/XrcYmvsTr56l0xqfGyoIthL4/2fQ6XfDCDFMfDeLgzVcaqnUH1er3D3+qGjWbWmlA7utVrT9vu7RWX321n/gpIx7GBfyM+eEeDfvx+Z+sypZ6tQ8freY9/5G0F5sjBZCBw8nkLz/Sxa/M1eDSJqMDG9rLVa0m3X7GQQto+xftKhVqMtX0kR2Ky4KPMk0dcZPyfVIw3FxF3hm+W95lm+PluvlRYMSlYPzgezj77LO9Xq9EFz311FPaaqutjKI8/fTTzSUXX3yxOfxGJTAHBZax2HN/Y3dRYC6llH3piQvwoXPasydFq2SsSyXX9E9RQAmsADagtDfxJEsbTwTbSfab4nrkArQ83fLybpdu8D6d2J69jzngzkLxeFEjNdeJ0h8omfpBq+qzyT+azRRwSLqbqc3hapk7RWvOeFg1cz5TrO9wtWzyW53yUomm1zYZaiUY7GfUNuu0bUbq1qfe0KSptebfyhTTAYPe10GHHCf1h8U9vca8mx/5jfp+9bhi1QPN85e0osBWV/OetyfsjDnjkuZaW2DyyWef0V9fm9mBziTJOSbVtVfqwTN/FVmVAJQkVhxzSVUd2qY/YMFbBo/0njbx1W4eW7L3h2+UZ7YVGNz3xCKEXUUGjJ2ik1HfQLrzJw5GQcu77rprkUrMiRKYgwJLV8J5vL67KDAL5HAtESwdF8pr41zWMuMDiUpCjRJtMvqnVPe5sO9MGC3o20U9ZlI3ig0RRcrJOj5/KeqZQbjhzkFxxMs46l77uw3yE7ew7qgolxL32LwzxrUWte+Y8dfxHMjA3cTH3TJRg2oqOpkoptc26/CNl9W61VP0/P3XaJoGa52+s7R56Xum4nXzL2/LaPiSqR+q9oHj9UnjEFXHGrVWxfdq2/FSaaVtF+ovVbxp8pQZOvG251XR3mRic+THbbxMlc48cHfvOXGQQZFxwIuvDm0ZPLCq3Vp33p17XMi3iAsYN7tFMfJ9cMDBXckBJRWS04YA+O5BCtqYq8fQ3pfsuuuupr4YEH2fBOagwLxFm/8Lu4sC46VnU8XCIc7lAgaSxblQPsC8+Z0NMZ2Tmy/9U6oVcuMC6VgxPCPzZgP3cZ2lmgObOH3RooAW9pnZLNhYUhXf9H0zXZdSKsQgzwxIAyAAgAzf2IvPPFz37n1fleqrWU0a2rdS0CzNrm/WoWOqtfKs57XKN3epoXKoGmMVGlxSp9LmuWo88tWOIp5pts+n1emM+yeqpW6OsepWH1auX6w6WMsv14Ek5PnsM6eKN739+be69sl3NbcppvWXrtGxu2+hvlULpxf4TM3GKTnwEdsCQcj3kQ5fo884ya7h3eJwwrh8y8yBPz5ubqyuP/7xjyax+IYbbvCehk8CM0hDyLuhpmIuPgnMQYF5L0H+L+wuCgxJ8MG53IS+AA1OmmyOWBRu/lQi6WZK/5RqpVy0XKrEV6wm4hB8SLiR0nWdpZoDG5hlnY+HfbvUQOlQXqXzdiaL0eXzmePnB0r17Y8/172ftWpOa4Xa21q12YhW7bXBSC3Z8rXu/9e9urNhIwO4WKF8uv48+DH1Ofw/ke66RHI4Zvz7+m52g/pXl5sNe05Dq07dagWtUFVrEnZ5j1lfFEih0h+YB+8AioTDCcjZXMdqk70TFqTBgYbn5n2MYv9H2QG2wLUIjB1wSC7bP/7xD/397383RSytHHw4EIMCy+UqZNlXd1JgxINQWnyI/OFUR/PJ53Lzp2zF2PjYTLaMElFLwfwTxad8gRJR/Uf97sqAnBfcRlaB5JLHL9U8rAyQtU3IzbT4aNTzJjugsIG/9+mXGti3WmPXXtNY8xMnz9Y5972kgS0zTN3oWbE+WneFxXXuuC0yGUZ73vCmykqk8gWM/jPrmnXERsvqZ0NbDCyfZ0f2hUhGtoc/4k02CR6r1IewN6OHd25KFmPjPSAZGiuUQ51bK43v4cYbb9Ttt99uYlLx+VfZzon7seoAhUyYMMEAR2zzSWAOCiwXK5CjPrqTAkNhWTQiHwan2Ki4SryYXGvDwn0tq7ZFYOX7VOrGp8ix4USeyr2Wo6Xu7MZuKpzGUeKUty8UowSTADVqWQ1sbCYVWW6unp93h5gYblWUpq2MDNjknTnV+scb32twWZOm1bWpvr1UVZWVeuzYDVRVjkpLr539yKd6a/IcDawpN6jGeQ0tOnAV6ecrLW42bJ6bHC7g/ygTFJkv8306M7GHo0TxJot65FBl+T5zWR2a50Jp8o5j9Sf6VrHMkAGKA08J7yKoQOJdf/jDH/JmIeJOZ2zLmANxL9YYLSqBOSiwdN7APF/bnRQYL/lvf/tb4w+naGU2cRI+bE6ABJjpZ7XVVssaNJDOUoES43nYVInN4TLMJq/Fd2wLDsEKYCNFeYNASydG5ztW/HWW2cEtqGlh37gY2VRyEXdLdGixhS3jXaTIA4DBfyZ+pX9+GVNtc0yNrTETtyovK9FOo0fo3F1W8YrVuOPCu3jOo5P06ZT5am1p0S4jK3XUdmsldAunw3yfjuxt4VRibi4jTSL5WK7JXFSHtrRXvOPx8epk80fRnXzyySaRmXIpgCl84mPpyCPX14Y8sFxLNIP+upMC48T40ksv6ayzzjIbPn9n4he3KEFOngTQ2cTxyRMfywWTQaplYCysABtAR3lxOubfbP2lXJ6C3bkwjq087YJDbIwOZg82+FzlkNmxXRdpMmYHF2iRbnn7VPJmEwX8g2xTkd9Su+yk8W/rxf/VCq9feVlHknNTa7tuPmBtLda/oyCkb+Md43D0xeTvtOqokVpyiWg4vpvD5Vt9INF8sOxsoVbk7fs+WWWOizUTnkM39cKlvUolM+4hoRhXIZRO2267rS666CJTkPTOO+/0FXeXXBcUWJeIfeFBu5MCszPnQwM1hKm/3XbbmZOb78mdjRKghM09sTB8162HcvTtz3cJXVg87iLX508fbv6URR+mQ8mTah6WIZ8x2NCSgUNsfApljssnW5eWm5jra+FZZc76pCqmGCV3F1GJFeCDQCUP7ITxb6umYapqYvUqqeyr+TVL6eYD101LgWULT7fM9zwjStdn7lzrpiHwDmdKKJ0JPZTNY0vEm5hsrVCUgDRwMV522WULxaJ4F9Nhu496H/Lxe1Bg+ZBqmn12RwVmH5GXHFjt9ddfr4MPPtgUnUv20vsmBLN5YKWgPHLFqJHM8km0VO7mYV0/mbpKrZsUyyqdDc26tPgbGbg1sHxfL6wJrABO//ThawVYZY77CwvZgk18NzOUJi5B4irpIipb5s/QGdffr0nNQ1VZ0q6mthKN6TNLJ+27u5dVat8xLCDQhdm6hFGEWOa8i1FWqSU5BpBgY2y+a5XsOvfQlYweimtwxeOC5JlT8SbacThcXHfddbr//vtNFWQYMbpjCwqsCFatOyswKz6sqksvvdS4Ik499VRT7C6emYMYSDqIL5dRA0vAdwN1l9Qi/Pi3VJZPotfALSaZ7kZsLR9QZnbjyUQJ2kRg+ovKIbPPYJPIQRnyzJkoP9uXVUZskD4J4cyXWEqUuzDZZ1c6+SW1PH2+7mjaVP9rHqxVK6dr34oJ+myTqzWntjEp0MIFBiWyrrP9zDkAJWO+twAkAAlYmvkAICVj1WCN8WZYdhqfdwy2eeLYO++8s84444y0DjbZyjHX9wcFlmuJZtBfT1Bg9rEBJhAAJhAM0AOlxaYGoimTOlnuad4m2PqgHnNZG4wNCmuCzcLHrWeZQ1xKogxei4Vu8SHrdeOKAAZwGeYqCO8mhCfi17OggWwTsEt/mKiKx0+RqBUG+WBbi0pa6tR48DNqaOoon2JrkFnUJBY7SjOK8DfbNUC+HKqYg2W+5/9xw2XC1JLJfGysFAsXq5A/vkqTd4hvkncZ6wuPQHdvQYEVwQr2JAVmxfmf//xHRxxxhLE+UGgUo8umua4US4eT6LTpBrF9Yz6+87JuPdxTiaihcmn5JJqTu4FayLW1SnNBPeUjB9cqBSQA2AT3KJuiL2gg5Tjtrap84lSV/vC24WRUSalaNjhObWP26bzNAi1sjIa/cZ35xql8njPVNawDSgvXItYWVRfyYXUlewc4FCJv3KMo8yjvAPPFVXj55Zcby2u//fbL2cEmW1lme39QYNlKMAf39zQFRt0gTniXXHKJgaj//ve/zwqx6IrYlnWnJhanXreIICdx3CnZ8Af6LCfKghgdCtTG6GzMJ9eWT7JNzIVcozhtXlWhcslYB2TNPBiT3KFMXLwJ5d3WorKvnpXqpik2fHW1L/WzhS6zVjkKBGvcrnemtdB81txeE29pokwzrYyczrhc67pnee9sQdFkycjcg7VIsjAxOZjefeJj6c6rK68PCqwrpb9g7J6mwFAknA7dGFimiMVkyxNfRBCFZjfxXKMXk83BFu+0yZhYAV6s7zl452zMh02cxincrQiQgyGSduFu4sSbAHuw5pa0OVduy0QTsJYmFg+bOPJ23ascavJhDaWCp7ugH1/S5HTWJ1UitO3HJiPzTmKhwZxx9dVX69FHHzUUUBtvvHE6Q3aba4MCK4Kl6mkKLJlILWKRbPtDDjkkJWLRZ1nYVNjAceewaY0ZMybjisQ+47nXuLlkWIFsGmmVLkl3QOf6+LwqDgqWQT7KnZTFsCbNwFqa8e5CW8wxE+Z9nznZApNs0InY05mbhf8nqszsM0aya2zydxQ8nTmSkM4fnzpcPnOy1bejEqFtX8gH1/3bb79tlBjo4JxZxj4TLvA1QYEVWOCJhustCsw+u4tYPO2007T77runzehhYfFWaVi3Xra5S1Gvg6WAogKzi3ZzS5dkUg03alx+d2mYEsV8XLCJLUyYK2sokeWTaM5u/pQvajLVs7t5bLYCdqpncqmZcJfhOst0A09VZiXVnN04Yap4bao+8DDgoqXFV99Odh/KDuon/oYK6rbbbjMHvMceeyzrdAKf97MrrgkKrCukHjdmb1Ng9vHjEYubbLJJZHDZftiJOBNd6HomLAZRrwKuKjYVNkYURKIkZxfunCtryIWIp2LSt/N33asokWziHrgLiaOQD5VOeRcf1GSUvH0tnySHQmMVY5n6wP/j+/ApsxI1fzdeG8X6bvuy7CF8G7712LgHxoxrr73WKLC99tqr8zvioIXiz1d79913dfTRRxtOSb4HYt/rr79+voZbpN+gwAom6uQD9VYFZiVCCfEzzzxTbP7nnHOO4ViMb+kkBLsxiVwgEXGLAdpgQ2IT94mxcC1IMSzFbKwhFAdKMxOm+mxqsbmQ/EzRhS5qMp3q2G4KRDLaK9/PNgr+H98Pa428uS9XZVasZWzfBXK2ElmRlng3neKWJKoD0sB9DitOoeK/Vm6WhQd3JZYewK0XXnjBd3myvi4osKxFmH0HvV2BIUE2uxdffHERxCIbCSABrIB0WTGs0gMp52O5xK+kSwuUaal3Tqa4cdJl1HBZS7IteIgShPUeVxrPEaWAfd2Fvm9+PEUXlmkysIuN+WST/J1oXq5lnMit51o+ma51lDx4F2A2wc3qMt9j5bI+yN2XeJf3CeIAlMVf//pX/exnCyM1o+aSq9+33357HXrooaaa8vjx4w2RASjkQrWgwAol6RTjBAX2k3BQGg888ID+/Oc/a4MNNjCVWuFZhDUg01gGygAFyAnXkgVHLbvdSHNVndi3KrMbY8tlcqwLckhmDbnuQiyfXEPy3ThhPFrPkt9imfjGfKLWMNHvtioxhyJLmsx7gSWTjuWTydj2Hpf5njEtgTNK2ydmSfHHs88+WwcddJBhjM8VX2cmz/TJJ58IJcb7xfq+8sorRq6FakGBFUrSQYF5SxokFb58Ct4Ry9pnn33MKS9TBWYHJqbCSZeNGhaCRImvXIMLCWRfPjZStypzfGVqnxibtxCTXJjIGmIDxErFOihEHhvWELEZ4jy4ePl/xk+HKzJbOVgUKePCEUkeWyHyyNx3kVI+KG7y2Hj2qAMDCFBc7ShhIPL5jG258t1mm20M+jS+4bJEmW6++ebac889dd999xle1GeeeSbb5fG+Pygwb1Hl78JggS0sW6wvNlIYA7BcLMdipojF+JWzLjU2LpQIG0ihKjIzF5QIFh5WIQALXKPEyyyjRLYEtD5vqo0TkgTLfJgHm2i2hwSfse01WEHEP2mM7WuBpDNGomvddAAUKO8Y8UIs3kzZ433nZIl3sbpsfC+K+Z57br31Vt1000264IILtOuuu/oOl/frULocvLAckSv/j0VbqBYUWKEk3Q0tMNwq+LZtY8M977zzdNJJJ3X+Gz743Xbbzfj0ab/85S+NeyPXjdM6AA9OrfC5kZjp425JNg8LMCA+xaaNW8fCtH0IUXPxfChNNnA2M1yVxD8K5Q6ytFcAC3ApsglZpFy+n98CJXh+4nuwaWD95aqETKq1sfE9W8rHxuKwvHkXOEQkognLxXpHEe+6zPd4HjjYwCkKOTbViqFkK8ThJp1npQjt3/72N8N1ijUGVdXEiRPT6SKra4MCy0p8ubm5O1hgbDacVl9//fWFfNwoMMoxwH1YiOYiFvmg+YAybZaah/vZuLAA2MR9yIIzHdPe55Z3wdoE8o2SzjRvyHc+LqOE6y60qEng4/EUXb59R13n8lkCEQfe7jYLeEGZZAv/j59LVCK0vT7KGop6xkS/W7Z6/uaQkqwWnL2XNdh7770740pYXmuttVYmQ+f9npdfflknnniicctXV1cbGP3YsWPzPq4dICiwgok6+UDdQYE99dRT5gT43//+d6EHKbQCY/BkiEXfpXQLLVqwgotSyxQ27jM+mzSQfMZjbBcRmIrn0afvqGtsfTA2GhREInehm0NmqaGi+vX53cb3fIASlqyXTZF5ZgsNx1WJdWVTKnws93SRm4lk4ObvpQPIefzxx823ttlmmxlrZt1119X5559vQCahLSyBoMCK4I3oDgoMEAUfEqgnt6HACODifsPlgTU2evTogkjVRSyChMK1mWqzczeUZEnGbv6WT+kU3wdNB5Kfy0Rk5udrfbjPkislkk2BSWIpgG58ikkmWgdbC84CctIp6Gn7y7Q6tbXuAQpxEPBxDUNBRXVkLLQrrrjCMP3zzj744IPadttt88q2f8011xg4PvME8Us+V3doQYEVwSoVuwJjE0I5EX8iVuM2Nhk2CBBcJDLiTsDCKGRzORZRtIkQi25CMPG6KNJdN3/LByGW6nktqwOyS8dFmU0isrVUia8Ru/ShYUr0DK4SSac6NhsvG/K3336bda2sdJWIe1jAys3WcnHpqaKqU7uHBdyFPtYj98BZeNddd+miiy4ysPRCtueff94kQUP8i5LnnSHZuju0oMCKYJWKXYH9+9//NjQ1uBGjGgnD5G4RhC50Q0mBWORDBLEIuAT4Lx+kpZ5KFypNTAQrwJZOSSeInk01aFd2iVCTUbL1cRdG9eH+jhJBDlgUWKaprBmbV5UJe0iyOflyHFqgBPE13sVcAlIsejFZ+ZRMXJWQ7mJ1US/vrLPOioyPpbNmvteSpnLkkUcKuHx3a0GBFcGKFbsC+7//+z9zKoRBPr6hILAsiCtQqhweNj5wnzhDvkQPGAIk5GuvvWYK/t14440GxZXNnKwVgAKM2sAtCSyKM1e5TS5qMpUV4FoAWB9cm6sWxajhkg37MkqkOzdXibgchy5QwpfuK92x7fUuVRnAH+aBck8nCRslD6KXStIcDrMBI2X6HPa+tdde2xz2yLskPkoYYL311su224LcHxRYQcScepBiVmAoANBquKFsoiXlUGiQeOI3B0aL7xzfPVVfN9pooy6V6oQJE4wFxkdIwiwbTraIRR7I3cCTEcTaU7hlmsilBWDnYEuauGwWLrowU3eh76LFM+8zHs9NLluuCIyj5uJyHGIVE3Mi1pSMZzCqv0x+B2Ty4YcfChcxLnYUZ9R6s04PPfSQKS4Jw8zBBx+c1cHKd96pkpGx/LbaaitdddVVevPNN03qDN97Ngc+33lle11QYNlKMAf3F7MCy8HjFbyLhx9+2DArEOuyiMXf/e53BsLM35yas2nu5snmDbrNsuQDwcfq4iSbz+ZC0tm0QfkxZiGTkbH2QPdxSCDWg8wzAUpkKifcu1AZsdFi/VnlGaVEMh3PvQ+3rqWf4oBHvA+LOxXrPJ4JDlasF67urnCzJ3r2HXbYQWeccYbJ5aJxEMB7EZ/mkAu55bqPoMByLdEM+uvJCow4BHETNnasNOJjbkPBAPwAAAKknBpGoB1z3dJFLPqMb5OBcVnyfLiB8s3k4M7LKhAsMsYHZFEoC8Q+O4qTDQ8XK+wiHBryPQdbERoFZuuiuXls+ZyDdZMSY+RA5MZEcWOipLDI3DlwD54KqpJfdtllnYrC5x0rxDV4VHiHcWlCo0Y8jjI0wQLLrfRLcttd8fTW0xVYKlAHigsIL3+TJI0y4+98NYtYBPVFTC9TjkULKsACIQaIBcamlsvcqWQysGPj5rG5TZaw2LrSskXepRrbIhvjeRNh2GBO/WneVgAAGIZJREFUKBZf0uR01tl1kybL1YufA3LIxUbM2JYvMspNahGsgDMoN4LiIsYES0UhLVRf2fLu8B1Q24vcQGJguBS7QwsWWBGsUm9WYEcddZQ5ke67775mJThRk1uWrZsvalktYhEGETYaNhhf15NF+LEZYfXYTcmFvePKSxfxGDVnfnfHTuQu9CEs9hkn0TX0DeiA503lqrS0TFgeuUhEZi6+Y9t5u9RQzCGKKDeVTOzYqRLA4+8HDQnx7quvvmpchSgF6M9Cy60EggLLrTwz6q0nKzBcKRDFcgpGWQHXddsuu+xi/O9UY6bhviDAXaj6RulwLPoi/FIxzmf0gixIRoYvEFedD7oQlBv5eJyo2cCj6ItSzcsWmMQ15jO27SvbRGT6wfXLc+Oe5HCTLqrSpYZCDukcKiyaFICK79hYavfee6+uvPJK815zMCNOB38n/4bFnO+GsuRQxryLJc6Wr2cOCixfkk2j356swFAQILRwO8EmgLsQihzbyPrnpOoqMFgACsmnxlxI0mYeiRCLrvvIF+HnMs7jxiIWGJU8neiVcV2VmVSXRung5gRkAfw/XbZ5i6pkDXl2XyvVfZZ0E5HtvTYBPBfFLe2hAivKViBI9YkyZ+JB6aBJgdJDvEv/JCSnq2zT2DKSXkri+OGHH24sZWioggLLhVRz00eIgeVGjl3WC2zynIBBYtnWVS7EZMqCqtAuYhEFzB82pWT8gakE6tJX2Y3YlywY1xVIN2tFZRo/sQoYmDsAC+JHUdRGLg1TLlCVbtwOoEsqhW4RndyD5ZMrRKfNpSNOl6yoJ/EgFBfuTx/iXdaeuBvpI08++aSp00XOYVc18jCppYdLvKsIBQr57MECK6S0k4zVUy0w4jVYNKAQ+W8sMBKMge3aBmsGCC0L4jjhhBNMQnRXNuZ8++23G0WGwiU/hqJ92TTccCC7QAxGgQBsbTJfd6HvvBLB/+MtKluvCsBCLmiY4ueGEoF5H7RefFVmfsOC4MDAYSFf1kOihGwUOuOyRhxWgJD7gD/sgQdXIVycmVjZvusXdR3pI5Q04X3tSkacqHnm8vegwHIpzQz76qkKjJPuHnvsYaQC9HncuHGGLsdNhGYzgSAYFgBg9BTuK1T8K9lyMZfTTz9dv/71rw26ECaPww47zKAW03XBxY/BCd/WvrJIPbtRulZKNi67qNeQtUCB4B5ko7NMKtZtxv+jZDNxF0aNbX93qzKDZgSOTszOh63ed4yo6+KLemIZYm1GWaf0i+x4lwEDcQBDXoVoqRKSKQQL3RuAlaDACrEa6Y0RXIjpyStcnaEEiGWwmQE+oSXiWMx2c8dFR2wK95PdNHEXcoLn/zN1F6bzyBZ6z/Ph1mRsrK5sAB/pjM+1yOG9994zKEMUOu5NH8sn3XESXe+Cctj0UeA2MT3Z+qL07rjjDnMIA5jBAa1Q8031zBS+BABly/OQXM4hCG8Glm5PbcECK4KV7akWWLaixZ104IEHGrcbGwoIRvLE3FaoitCMiYuJTYuimrmoCk2fgAugIyLmQiJ0ITcby+bBZodlaQmLfRjUs11b15WItcBhgRgdyEWbS5dPxZCIeNe1TLGoWAt3DqAJTznlFMEdeMEFF+S1vEm28g0WWLYSzP39wQLLvUyLukdiJfyBmQM4NMhEeORWX331znl3RUFNi1hkEwaYkikRq4vw4+RswQWZoAXTXUhbYNICKrDAMi2dku7YJFtjbeI2RFm5cSMsMeSAZZpt/laieeESZuxUNcKsmxcUJIcniKyhfqL6MO7CfDDFpCvDqOuDAouSUOF/Dwqs8DIvqhFBVhEvAwxiW1coMMaO51gkHuJrPVl0Yby70GVaBy2IFeCLWPRdKMvajoIAZedWhLZ92NIpyZB6vmPFX5dOraxsytgkmh/WJhY9ByLfCgGkfgBJx0KG4BakYa7XI1NZhvs6JBBciEXwJgQXYvQi4F4if4zNxHVxdWVFaGbNxvjPf/5TF154oTmpp6oKbROCScol1mRjbPFP7xL1AnAglpFtzA3lmE6BSR/m/ehV++mKTGplcTeMFsQkUbRYa5lA6l3iXRLrfZQQio5EZORw/PHHG8uLeB20UNkCeVLJjQTkRx55xIzB8wJq6op8snTWtiuvDQqsK6W/YOygwFIvAi4nYOxYOb/85S8XurgYKkIzISwb+BX5kwixaDfwdJJyiYuBFkTh4Vb0hXbHSzObApMu9D6TRGo2fVx2IPsyBae4SeEofdxjPkokFfFusjeOQ8bNN99sSKWpUkyivW2AblAq+WygCOEhRF4gYWkw04SWWAJBgRXBmxEUWPJFYBOCbgrrhgB6VOtq3388xyKJuCS4An/G6soEXUjchrgQuXQoAd8TubuBM490aJTi5czGjjLFrZYI4JDIirR5b7nKJ0uVQ+aO7zKn8D7EgzGSvUOgIUmyhxUGkE4i92rU+5fL3x988EFj3d9111257LZH9RUUWBEsZ1BgiReBjeiggw4yuUHwyCVqxVgRmnlyWqdUO/PDrUhOWbaoOixR3Gm0VLx+8Qg/3w3c51OwAAcUNVYhIJD458LtB5uFjeNl6/5MpBxBTuISjYe9u8S7KHufxGLkirX1zjvvmOrI1DUrhrbrrrua2Nv+++9fDNMpyjkEBVYEyxIUWOJFAPW16aabmg3FboIka3KypxVrRWiUDMrrgAMO0JZbbmnYR7JFLLoSsnEhUHwoETcuxGYMDx7WVjzCL5evupvHZtGCmdAwZTMnF/ZO/hhzSpf0l2oEKK9jjz3WADZyrWwTPV+qZGSASjTmBBUUMbdsDz7ZyLjY7w0KrAhWKCiw/C0CrBrkjuECY4MiMO820HjkmkF8ijUBkzhup2warjs2UlsSJhvEYrJ5uKwdUC5hiaDYsYxwFxYil4u5WbQgckTGWD2ZxuoylTm0V+RoAc4AWYk8ojZ9LDjchcgJdCHWYrG0f/zjHyZRGlqornZjFotMks0jKLAiWKGgwPKzCGyoxF+efvpps8Gvt956Gj9+/EJ5ZNddd53ef/99s2Hcc889Iu6AEstHs4hFrMgdd9zRKNZsFQ3PCEgC1ByKY/To0V4ou1w9HwrM1ggjVmctv0xifenOyVp8WGIobZplN8H6TBQr5FrWmveAqgduSka64+fjeg5cxHonTJhg1jO01BIICqwI3pCgwPKzCBQTJNEYEAUNqDuNsim2AQ7hmg033NDwNRIvAjEYdYLPZsZsvGyiN9xwQ1Yci7a4JS5E4OEoMayRdIALmT4HskJZoMCwelBc8VYhYA+fGFS6c3BTAhIR7yaLFeKSoyoyVZIhas4Ekp/uXNO9Hncs1izeABrM9pY7NN2+esP1QYEVwSoHBZafRQDBxYn2pptuMgPAYff666+bnB7bxowZY67BQqOxIXJNvpjQ3SfF3YcVABM/7izfqtCp2Ootv6GlZLIbYa4k7CL8iDuRoxav7C1JLonD/E4uW65iS9biw3JlrVIR78I2AiT+tddeM+uJ2xCL21pruZJJ6KfrJBAUWNfJvnPkoMDyswj333+/sb5cBQa5KUU1bcPlxjWuAuOaXG/8qZ4QNB2wbeI4WIMbbbRRUgvQt8AkaDzAJFhKxKUoaZNtcxF+PrXR0ikhEzU3y+KBUsLi83kelO0DDzxgLBgs01/84hcml7AQh5Oo5wm/50YCQYHlRo5Z9RIUWFbiS3pzsboQk004FceiTQgGqJBOPhlWHoqMmJRPJeJEc3MZRLBefPPQbF+AWighA3oS1KQPyMKdB0qbZ/Cths29jIdViwWIlUsCNHEvSrZwSMh1iwIL5Xq80F+HBIICK4I3ISiw/CwC1gebPWguWCQAcdx9990G6GAbeT+UorAgDmDL9913X34m5NErVgMBfGI0kBaffPLJApW2xRZbaM011zQ5cek2W4mYmBUbOfEy39gUhLZs+ukwiCSbHyAP5oAyxoKLUoQ+xLvxY+FCpSoyxR1BF0I/lu/mAxbK9xx6a/9BgRXBygcFlr9FIL5EIjGbzKGHHmpcSORlUTQTlxKbJPlaJLGiHEAiYiV0dSOOxDxRsGzCVNnNFurty2TBsyMXkpG5B6srl4AHC7IgdoYiI5/NbZkQ73L/K6+8YtIkoBvD+vKhm8rFOvtY+rkYJ/SxqASCAiuCtyIosCJYhCKbwjHHHGNom+DBQwlni1h0Hw9lbpnZ44EYlkiY2mcol3zGi3ApYpGR62QTsi3xrlvmJWppYM///e9/b+JcKPxCH0B8wEJRzxB+z0wCQYFlJrec3hUUWE7FmZfOfFnCgbADMCBWBUIO6HYmDQVC/MY2F7HIXLAes0X2EZuC5R8FwKaPWxGrC0vUl7U9k2dz73Gh9/w7csN1Gm+VJRqHe3EJA8rBsob9JJ/pD8me1QcslK2cwv2JJRAUWBG8GUGBFcEiREzBlyU832TCFrFI8jDIxVSIRV+pAk0nmZv4UaGrQtsaaIAuiImhqG28LVXZExTtqaeeahCJJIYPHDjQ93Fzfl1wIeZcpN4dBgXmLar8XRgUWP5km4+eU7GE51uB2eehLhpAj2w4Ft2YGBYXVg9oPyy7RLGpXMvSTcS2xLup3JuMT2zusssu0zPPPGMsr/XXXz/X00q7Px+wUNqdhhu8JBAUmJeY8ntRUGD5lW+ue0/FEo4iAOmHK+uoo47SkUcemevhO/uLRyyi0HyrQqci/cWlSGwKdg1ci7mmhSLOhsWVinjXdW/y31iaL774ool17bfffoaGK1USc96EnqTjRGChQs+hN44XFFgRrHpQYEWwCJKp2UX5k/gGM7gvS7iNXQHAgGcPKyHfUG4UAnEYqLLgWAR1mSzR100ITkX6m+uKzFamKEfcfyhaACRRcTwg90cccYSo1UVMkNpY3BdakAASCAqsCN6DoMCKYBE8ppAuSzgJs1gxQLoL0VyORZj3Dz744IWg5ChVLKt0EoLdiszxtbfSeaZ44t2amprI2xkbmYPA5Hmef/558W8gDcnry2UDlUlVAg4wKFUsZ6y80IpbAkGBFcH6BAVWBIsQMQUflnBiOmywWD/8NxYYuVw77LBDQR8wHrGIpfX4448bEltiTZm4BN3aW7hJyUnzQfzFE+/65rLBSgJIg3y98847r7OaNIAJEtGzZfGPXxCIkPmz7rrrGoLisWPH6qGHHlqockFBFzEM5iWBoMC8xJTfi4ICy698c9F7MpZwXIZYB8RAvvrqK+2xxx5mODb8cePGGXh3VzXiTEDLQS7iVqRoo4/SSTVfmNJ5TmJoyIR4X7JmiXdBCBJL84lZwbd40UUXCUWFpbX22mt3ifhwGR933HFFV26lS4RRxIMGBVYEixMUWBEsQg+bAvlde++9t2GlwALEEkR54dYEep5tw8IEsYjFiVWHq9Q24my4KrEEfYl3uRcrF2uLmBfVtlPB6LOdf6r7kR1xS5Ceubb08jnv3th3UGBFsOpBgRXBIhRgCiiPG2+8sbNQIflLO+200yIj54IYlpgT1qGtLp0NYjGVaGCHR5ER04IsmDIuKC9KqBCn8rH4cN2RnE0i9ZVXXtlZyboAS7LIEFiWm2++ubGcUf6hFbcEggIrgvUJCqwIFqEAU/ABdeSbGDYdxKKvSFCOKEvQhcTX1lprLS8mDZ4VhX777bd3Iih9x8zHdcD1d9llF1HklKrIoRW/BIICK4I1CgqsCBahAFPwUWCFYnWIQiz6igOF+M033xj0no0T8v9RhSwhTwadCcv+H/7wB8OH2JUNJXzQQQcZGi2swNC6hwSCAiuCdQoKrAgWoQBTQIHddtttJq4Cug5GiXgQRKGJYYlTQRgMSjFdjkXch5MmTTKEv7gqbcwqVSFLgB0XXHCBKWEDSMMtbVOAJUg6xMsvv6xNN91Ua6yxRmduWjIXb1fOM4y9sASCAiuCNyIosCJYhBxNIVUy9M9//vPOYo5YHcR+brnlloVG7ipiWJCKAD1QSCjaDTfcMGn8ClcbNcKgdQKin4x4FysPJCS0TyQug0IEYXj88ceb0jZRScw5WpLQTQ+WQFBgRbC4QYEVwSIUeAog3Yi3gHRzW6FciMkel/mceeaZCRGLlniXuWNxoZR8QBpQQEFzRbkTEpNR8qEFCeRCAkGB5UKKWfYRFFiWAuwmt2NxwbROu+KKK/T666+bAppuKwZi2ESIRVg8yP/C4iLW5VPRGUvtuuuuMzRXf/nLX0x8CeVI3Ov000/P26rhwsRFCwryP//5T97GCR13vQSCAuv6NYBRPFYE0whTyLMEqPz87rvvGqsFC+b66683Cs1NhmYKxUIMC0AD7kGqHAOTR+luvfXWXlJ644039Nvf/lY777yzud9l/wCq7uaNeXWYxkWXX365qcMGpD8osDQE1w0vDQqsCBYtKLAiWIQwhUUk8Morrxg2in333dcANG699VYddthhi3AsujcC7KBOGW5GrC+SnAvZvvvuO4MmJI8LRRYUWCGlX/ixggIrvMwXGTEosCJYhG4whV/96lcGZEFDUVAAEosuvuWqKvTHH39seB1JSrZjXnLJJQkRizgRcBWiNLC8KHniEx/Ltdj32msv46YE7YjbMiiwXEu4uPoLCqwI1iMosCJYhG42BYhu4RgEOZhIgeFCA96ejxaPWBwxYoQh3kVxAslPxY+Yj/nYPlFWuF+x/F544YWgwPIp7CLpOyiwIliIoMCKYBG60RSwdqiJ9dxzzyV00RWyKjQEwUDlx48fr4033rhLpYjldccddxi4PhB/YmDQQd15551dOq8weP4kEBRY/mTr3XNQYN6iChdKpjIxVEdYWYlaIatCA/Sg6GSyXLCuWrBggXWV5As7blBghZV3wtGCAiuCRSiSKfhUhT7mmGMMlB23XaLWFVWhi0R8ndMICqzYViQ/8wkKLD9yTavXoMDSElevvpg8MfKbJk6caCorRzUf/sWoPsLvQQLFKoGgwIpgZYICK4JF6CZToNTKhRdeqAkTJiSccbFUhe4m4gzT7OYSCAqsCBYwKLAiWIRuMoWDDz5YcCpS8NG2Yq4Kna5YSQ+gwjWUVsDw4YqElzG0IIFEEggKrAjei6DAimARwhSKQgIkIcMKjxKDDLi+vt7ku4UWJBAUWHgHggR6pwT2lnSOpNUkrS/JhS+eKekwSW2STpD0ZAIRrSAJ0sYhkt6WdICk5jyIcoCk9yStKCnQq+VBwKHLrpNASdcNHUYOEujWEkBxtUu6XtJpjgJbXdL4BUptSUnPSFp5gTJzH/g+Sf9aoMT+vkDJ/C0PEllb0g2SPpa0lqSJkk6UVJeHsUKXQQIFlUBQYAUVdxisB0rghTgFhvVFu3DB31hfWGqvOs/Odzdd0uKSWiURkOKa7fMgn59Jek0SGdGvS7pK0jxJf8jDWKHLIIGCSiAosIKKOwzWAyUQr8D+ukBhWKqKmyU9LumfzrPDR4VSGbXg3yBG5JoxeZAPSpKxll/Q96aSzpC0cx7GCl0GCRRUAkGBFVTcYbBuJgHcfyiA+HaWpH8v+Md4BXbtAmvLVWCPSXrA6WT4gmtcBcY1a+RJPi9JOlwSrMVYen0l/SZPY4VugwQKJoGgwAom6jBQD5VAsbsQETtxsJskVUr6StIhkmb30PUIj9WLJBAUWC9a7PCoeZFAvAIbLeluB8TxrCQKeIFIdNv9C6wykIiAON6XdF1eZhg6DRLooRIICqyHLmx4rLxLYA9J10jCHThHEkXELAgDF+OhCwAaJy2IbzEh3IS48n5YAGu3MPp3JO0vqSnvsw4DBAn0IAkEBdaDFjM8SpBAkECQQG+SQFBgvWm1w7MGCQQJBAn0IAkEBdaDFjM8SpBAkECQQG+SQFBgvWm1w7MGCQQJBAn0IAkEBdaDFjM8SpBAkECQQG+SQFBgvWm1w7MGCQQJBAn0IAkEBdaDFjM8SpBAkECQQG+SQFBgvWm1w7MGCQQJBAn0IAkEBdaDFjM8SpBAkECQQG+SQFBgvWm1w7MGCQQJBAn0IAkEBdaDFjM8SpBAkECQQG+SQFBgvWm1w7MGCQQJBAn0IAkEBdaDFjM8SpBAkECQQG+SQFBgvWm1w7MGCQQJBAn0IAkEBdaDFjM8SpBAkECQQG+SQFBgvWm1w7MGCQQJBAn0IAkEBdaDFjM8SpBAkECQQG+SQFBgvWm1w7MGCQQJBAn0IAkEBdaDFjM8SpBAkECQQG+SQFBgvWm1w7MGCQQJBAn0IAkEBdaDFjM8SpBAkECQQG+SQFBgvWm1w7MGCQQJBAn0IAkEBdaDFjM8SpBAkECQQG+SQFBgvWm1w7MGCQQJBAn0IAkEBdaDFjM8SpBAkECQQG+SQFBgvWm1w7MGCQQJBAn0IAkEBdaDFjM8SpBAkECQQG+SQFBgvWm1w7MGCQQJBAn0IAn8PymeUhp9yiF3AAAAAElFTkSuQmCC\" width=\"432\">"
      ],
      "text/plain": [
       "<IPython.core.display.HTML object>"
      ]
     },
     "metadata": {},
     "output_type": "display_data"
    }
   ],
   "source": [
    "from mpl_toolkits.mplot3d import Axes3D \n",
    "from sklearn.manifold import Isomap\n",
    "import time\n",
    "%matplotlib notebook\n",
    "iso=Isomap(n_components=2)\n",
    "iso.fit(X_test)\n",
    "X_test1=iso.transform(X_test)\n",
    "\n",
    "fig = plt.figure(1)  \n",
    "ax = fig.add_subplot(1,1,1, projection='3d') # 指定三维空间做图  \n",
    "ax.scatter(X_test1[:,0],X_test1[:,1],y_pred,label='pred')\n",
    "ax.scatter(X_test1[:,0],X_test1[:,1],y_test,label='test')\n",
    "ax.view_init(elev=25., azim=45)"
   ]
  },
  {
   "cell_type": "markdown",
   "metadata": {},
   "source": [
    "## 1.8 创建多项式回归器\n",
    "线性回归只能拟合直线，而多项式则是非线性模型，提高准确性"
   ]
  },
  {
   "cell_type": "markdown",
   "metadata": {},
   "source": [
    "### 1.8.1 准备工作\n",
    "![2](https://ws1.sinaimg.cn/large/0069RVTdgy1fupn44jy6qj30ah09y746.jpg)\n",
    "上图虚线表示线性回归结果，实线表示多项式回归模型"
   ]
  },
  {
   "cell_type": "markdown",
   "metadata": {},
   "source": [
    "### 1.8.2 详细步骤"
   ]
  },
  {
   "cell_type": "code",
   "execution_count": 167,
   "metadata": {},
   "outputs": [
    {
     "name": "stdout",
     "output_type": "stream",
     "text": [
      "Linear regression:3.0664946237330555\n",
      "Poly regression:[-8.20600534]\n"
     ]
    }
   ],
   "source": [
    "#将多项式次数初始为3\n",
    "from sklearn.preprocessing import  PolynomialFeatures\n",
    "polynomial = PolynomialFeatures(degree=10)\n",
    "#求参拟合\n",
    "X_train_transfromed = polynomial.fit_transform(X_train)\n",
    "datapoint=np.array([0.39,2.78,7.11]).reshape(1,-1)\n",
    "poly_datapoint=polynomial.fit_transform(datapoint)\n",
    "poly_linear_model=linear_model.LinearRegression()\n",
    "poly_linear_model.fit(X_train_transfromed,y_train)\n",
    "print('Linear regression:{}\\nPoly regression:{}'.format(\n",
    "    linear_regressor.predict((datapoint.T))[0],\n",
    "    poly_linear_model.predict((poly_datapoint))))"
   ]
  },
  {
   "cell_type": "markdown",
   "metadata": {},
   "source": [
    "## 1.9 估算房屋价格\n",
    "AdaBoost"
   ]
  },
  {
   "cell_type": "markdown",
   "metadata": {},
   "source": [
    "### 1.9.1 准备工作\n",
    "决策树是一个树状模型，每个节点都做出一个决策，从而影响最终结果。叶子节点表示输出 数值，分支表示根据输入特征做出的中间决策。AdaBoost算法是指自适应增强(adaptive boosting) 10 算法，这是一种利用其他系统增强模型准确性的技术。这种技术是将不同版本的算法结果进行组 合，用加权汇总的方式获得最终结果，被称为弱学习器(weak learners)。AdaBoost算法在每个阶 段获取的信息都会反馈到模型中，这样学习器就可以在后一阶段重点训练难以分类的样本。这种 10 学习方式可以增强系统的准确性。  \n",
    "首先使用AdaBoost算法对数据集进行回归拟合，再计算误差，然后根据误差评估结果，用同 样的数据集重新拟合。可以把这些看作是回归器的调优过程，直到达到预期的准确性。"
   ]
  },
  {
   "cell_type": "markdown",
   "metadata": {},
   "source": [
    "### 1.9.2 详细步骤"
   ]
  },
  {
   "cell_type": "code",
   "execution_count": 168,
   "metadata": {},
   "outputs": [],
   "source": [
    "from sklearn.tree import DecisionTreeRegressor\n",
    "from sklearn.ensemble import  AdaBoostRegressor\n",
    "from sklearn import datasets\n",
    "from sklearn.metrics import mean_squared_error,explained_variance_score\n",
    "from sklearn.utils import shuffle"
   ]
  },
  {
   "cell_type": "code",
   "execution_count": 169,
   "metadata": {},
   "outputs": [],
   "source": [
    "#有控制的打乱数据并得到X,y\n",
    "housing_data=datasets.load_boston()\n",
    "X,y=shuffle(housing_data.data,housing_data.target,random_state=7)"
   ]
  },
  {
   "cell_type": "code",
   "execution_count": 170,
   "metadata": {},
   "outputs": [],
   "source": [
    "#切分数据集\n",
    "num_training=int(0.8*len(X))\n",
    "X_train,y_train=X[:num_training],y[:num_training]\n",
    "X_test,y_test=X[num_training:],y[num_training:]\n"
   ]
  },
  {
   "cell_type": "code",
   "execution_count": 171,
   "metadata": {},
   "outputs": [
    {
     "data": {
      "text/plain": [
       "AdaBoostRegressor(base_estimator=DecisionTreeRegressor(criterion='mse', max_depth=4, max_features=None,\n",
       "           max_leaf_nodes=None, min_impurity_decrease=0.0,\n",
       "           min_impurity_split=None, min_samples_leaf=1,\n",
       "           min_samples_split=2, min_weight_fraction_leaf=0.0,\n",
       "           presort=False, random_state=None, splitter='best'),\n",
       "         learning_rate=1.0, loss='linear', n_estimators=400,\n",
       "         random_state=7)"
      ]
     },
     "execution_count": 171,
     "metadata": {},
     "output_type": "execute_result"
    }
   ],
   "source": [
    "#构造最大深度为4的决策树\n",
    "dt_regre=DecisionTreeRegressor(max_depth=4)\n",
    "dt_regre.fit(X_train,y_train)\n",
    "#400个弱分类器\n",
    "ab_regre=AdaBoostRegressor(DecisionTreeRegressor(max_depth=4),n_estimators=400,random_state=7)\n",
    "ab_regre.fit(X_train,y_train)"
   ]
  },
  {
   "cell_type": "code",
   "execution_count": 174,
   "metadata": {},
   "outputs": [
    {
     "name": "stdout",
     "output_type": "stream",
     "text": [
      "DST mse:14.79\tevr:0.82\n"
     ]
    }
   ],
   "source": [
    "y_pred_dt=dt_regre.predict(X_test)\n",
    "mse=mean_squared_error(y_test,y_pred_dt)\n",
    "evs=explained_variance_score(y_test,y_pred_dt)\n",
    "\n",
    "print('DST mse:{}\\tevr:{}'.format(round(mse,2),round(evs,2)))"
   ]
  },
  {
   "cell_type": "code",
   "execution_count": 175,
   "metadata": {},
   "outputs": [
    {
     "name": "stdout",
     "output_type": "stream",
     "text": [
      "DST mse:7.64\tevr:0.91\n"
     ]
    }
   ],
   "source": [
    "y_pred_ab=ab_regre.predict(X_test)\n",
    "mse=mean_squared_error(y_test,y_pred_ab)\n",
    "evs=explained_variance_score(y_test,y_pred_ab)\n",
    "\n",
    "print('DST mse:{}\\tevr:{}'.format(round(mse,2),round(evs,2)))"
   ]
  },
  {
   "cell_type": "code",
   "execution_count": null,
   "metadata": {},
   "outputs": [],
   "source": []
  }
 ],
 "metadata": {
  "kernelspec": {
   "display_name": "Python 3",
   "language": "python",
   "name": "python3"
  },
  "language_info": {
   "codemirror_mode": {
    "name": "ipython",
    "version": 3
   },
   "file_extension": ".py",
   "mimetype": "text/x-python",
   "name": "python",
   "nbconvert_exporter": "python",
   "pygments_lexer": "ipython3",
   "version": "3.6.5"
  }
 },
 "nbformat": 4,
 "nbformat_minor": 2
}
