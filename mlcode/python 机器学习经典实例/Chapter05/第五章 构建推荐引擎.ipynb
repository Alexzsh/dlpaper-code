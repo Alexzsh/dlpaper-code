{
 "cells": [
  {
   "cell_type": "markdown",
   "metadata": {},
   "source": [
    "## 5.1 简介\n",
    "推荐引擎是一个能预测用户兴趣点的模型。将推荐引擎应用于电影语境时，便成了一个电影 推荐引擎。我们通过预测当前用户可能会喜欢的内容，将相应的东西从数据库中筛选出来，这样 的推荐引擎可以有助于将用户和数据集中的合适内容连接起来。为什么推荐引擎这么重要?设想 你有一个很庞大的商品目录，而用户可能或者不可能查找所有的相关内容。通过推荐合适的内容， 可以增加用户消费。有些公司(如Netflix)严重地依赖推荐系统来保持用户参与度。  \n",
    "推荐引擎通常用协同过滤(collaborative filtering)或基于内容的过滤(content-based filtering) 来产生一组推荐。两种过滤方法的不同之处在于挖掘推荐的方式。协同过滤从当前用户过去的行 为和其他用户对当前用户的评分来构建模型，然后使用这个模型来预测这个用户可能感兴趣的内 容;而基于内容的过滤用商品本身的特征来给用户推荐更多的商品，商品间的相似度是模型主要 的关注点。本章将重点介绍协同过滤。"
   ]
  },
  {
   "cell_type": "markdown",
   "metadata": {},
   "source": [
    "## 5.2 为数据处理构建函数组合\n",
    "机器学习系统中的主要组成部分是数据处理流水线。在数据被输入到机器学习算法中进行训 练之前，需要对数据做各种方式的处理，使得该数据可以被算法利用。在构建一个准确的、可扩 展的机器学习系统的过程中，拥有一个健壮的数据处理流水线非常重要。有很多基本的函数功能 可以使用，通常数据处理流水线就是这些基本函数的组合。不推荐使用嵌套或循环的方式调用这 些函数，而是用函数式编程的方式构建函数组合。接下来介绍如何组合这些函数来形成一个可重 用的函数组合，本节将创建3个基本函数，并介绍如何将其组合成一个流水线"
   ]
  },
  {
   "cell_type": "code",
   "execution_count": 1,
   "metadata": {},
   "outputs": [
    {
     "name": "stdout",
     "output_type": "stream",
     "text": [
      "Operation add3(mul2(sub5(arr))) [5, 7, 11, 15]\n"
     ]
    }
   ],
   "source": [
    "#pipeline via function\n",
    "from functools import reduce\n",
    "import numpy as np\n",
    "def add3(input_array):\n",
    "    return map(lambda x : x+3,input_array)\n",
    "def mul2(input_array):\n",
    "    return map(lambda x : x*2,input_array)\n",
    "def sub5(input_array):\n",
    "    return map(lambda x : x-5,input_array)\n",
    "def function_composer(*args):\n",
    "    return reduce(lambda f,g:lambda x :f(g(x)),args)\n",
    "function_composer=function_composer(sub5,mul2,add3)\n",
    "print('Operation add3(mul2(sub5(arr)))',list(function_composer(np.array([2,3,5,7]))))"
   ]
  },
  {
   "cell_type": "markdown",
   "metadata": {},
   "source": [
    "## 5.3 为机器学习构建流水线\n",
    "scikit-learn库中包含了构建机器学习流水线的方法。只需要指定函数，它就会构建一个组合 对象，使数据通过整个流水线。这个流水线可以包括诸如预处理、特征选择、监督式学习、非监 督式学习等函数。这一节将构建一个流水线，以便输入特征向量、选择最好的k个特征、用随机 森林分类器进行分类等"
   ]
  },
  {
   "cell_type": "markdown",
   "metadata": {},
   "source": [
    "### 5.3.1 详细步骤"
   ]
  },
  {
   "cell_type": "code",
   "execution_count": 2,
   "metadata": {},
   "outputs": [
    {
     "name": "stderr",
     "output_type": "stream",
     "text": [
      "/usr/local/miniconda3/lib/python3.6/site-packages/sklearn/ensemble/weight_boosting.py:29: DeprecationWarning: numpy.core.umath_tests is an internal NumPy module and should not be imported. It will be removed in a future NumPy release.\n",
      "  from numpy.core.umath_tests import inner1d\n"
     ]
    }
   ],
   "source": [
    "from sklearn.datasets import samples_generator\n",
    "from sklearn.ensemble import RandomForestClassifier\n",
    "from sklearn.feature_selection import SelectKBest,f_regression\n",
    "from sklearn.pipeline import Pipeline"
   ]
  },
  {
   "cell_type": "code",
   "execution_count": 3,
   "metadata": {},
   "outputs": [
    {
     "name": "stdout",
     "output_type": "stream",
     "text": [
      "prediction is  [1 1 0 1 1 0 0 0 1 0 1 1 0 1 1 0 0 1 0 0 0 0 0 1 0 1 0 0 0 1 0 0 0 1 0 0 1\n",
      " 1 1 1 1 1 1 1 1 1 0 1 1 0 1 1 0 1 0 1 1 0 0 0 1 1 1 0 0 1 0 0 0 1 1 0 0 1\n",
      " 1 0 0 0 0 0 0 1 0 1 1 0 1 1 0 0 1 0 1 1 1 0 1 1 0 1]\n",
      "score is  0.97\n",
      "Select feature (0-indexed): 0,5,7,9,10,11,13,15,16,18\n"
     ]
    }
   ],
   "source": [
    "#构建一个20维的特征向量\n",
    "X,y=samples_generator.make_classification(n_informative=4,\n",
    "                                          n_features=20,\n",
    "                                          n_redundant=0,\n",
    "                                          random_state=5)\n",
    "#特征选择\n",
    "selector_KBest=SelectKBest(f_regression,k=10)\n",
    "#构建分类器\n",
    "classify=RandomForestClassifier(n_estimators=50,max_depth=4)\n",
    "#构建流水线\n",
    "pipeline_classify=Pipeline([('selector',selector_KBest),('rf',classify)])\n",
    "pipeline_classify.fit(X,y)\n",
    "prediction=pipeline_classify.predict(X)\n",
    "print('prediction is ',prediction)\n",
    "print('score is ',pipeline_classify.score(X,y))\n",
    "#查看被选中的特征\n",
    "features_status=pipeline_classify.named_steps['selector'].get_support()\n",
    "selected_features=[]\n",
    "for count,item in enumerate(features_status):\n",
    "    if item:\n",
    "        selected_features.append(count)\n",
    "print('Select feature (0-indexed):',','.join([str(x) for x in selected_features]))"
   ]
  },
  {
   "cell_type": "markdown",
   "metadata": {},
   "source": [
    "### 5.3.2 工作原理\n",
    "选择k个最好的特征，其好处在于可以处理较小维度的数据，这对减小计算复杂度来说非常 有用。选择k个最佳特征的方式是基于单变量的特征选择，选择过程是先进行单变量统计测试， 然后从特征向量中抽取最优秀的特征。单变量统计测试是指只涉及一个变量的分析技术。  \n",
    "做了这些测试后，向量空间中的每个特征将有一个评价分数。基于这些评价分数，选择最好 的k个特征。我们在分类器流水线中执行这个预处理步骤。一旦抽取出k个特征，一个k维的特征 向量就形成了，可以将这个特征向量用于随机森林分类器的输入训练数据。"
   ]
  },
  {
   "cell_type": "markdown",
   "metadata": {},
   "source": [
    "## 5.4 寻找最近邻\n",
    "KNN"
   ]
  },
  {
   "cell_type": "code",
   "execution_count": 4,
   "metadata": {},
   "outputs": [
    {
     "name": "stderr",
     "output_type": "stream",
     "text": [
      "/usr/local/miniconda3/lib/python3.6/importlib/_bootstrap.py:219: RuntimeWarning: numpy.dtype size changed, may indicate binary incompatibility. Expected 96, got 88\n",
      "  return f(*args, **kwds)\n",
      "/usr/local/miniconda3/lib/python3.6/importlib/_bootstrap.py:219: RuntimeWarning: numpy.dtype size changed, may indicate binary incompatibility. Expected 96, got 88\n",
      "  return f(*args, **kwds)\n"
     ]
    }
   ],
   "source": [
    "from sklearn.neighbors import NearestNeighbors\n",
    "import numpy as np\n",
    "import pandas as pd\n",
    "import matplotlib.pyplot as plt\n",
    "%matplotlib inline\n",
    "X = np.array([[1, 1], [1, 3], [2, 2], [2.5, 5], [3, 1],\n",
    "            [4, 2], [2, 3.5], [3, 3], [3.5, 4]])\n",
    "num_neighbors=3\n",
    "input_point=[2.6,1.7]\n",
    "knn=NearestNeighbors(n_neighbors=num_neighbors,algorithm='ball_tree').fit(X)\n",
    "distance,indices=knn.kneighbors(np.array(input_point).reshape(1,-1))"
   ]
  },
  {
   "cell_type": "code",
   "execution_count": 5,
   "metadata": {},
   "outputs": [
    {
     "name": "stdout",
     "output_type": "stream",
     "text": [
      "1 --> [2. 2.] --> 0.670820393249937\n",
      "2 --> [3. 1.] --> 0.8062257748298549\n",
      "3 --> [3. 3.] --> 1.3601470508735443\n"
     ]
    },
    {
     "data": {
      "image/png": "[encoded data removed]",
      "text/plain": [
       "<Figure size 432x288 with 1 Axes>"
      ]
     },
     "metadata": {},
     "output_type": "display_data"
    }
   ],
   "source": [
    "plt.scatter(X[:,0],X[:,1])\n",
    "plt.scatter(input_point[0],input_point[1],s=50)\n",
    "for i in X:\n",
    "    plt.annotate(s='({},{})'.format(i[0],i[1]),xy=(i[0],i[1]))\n",
    "direction=[[30,-20],[30,45],[-90,25]]\n",
    "for rank,index in enumerate(indices[0][:num_neighbors]):\n",
    "    print(str(rank+1),'-->',X[index],'-->',distance[0][rank])\n",
    "    plt.scatter(X[index][0],X[index][1],s=300,alpha=0.3,edgecolors='b')\n",
    "    plt.annotate(s='{:.3f}'.format(distance[0][rank]),\n",
    "                 xy=(input_point[0],input_point[1]),\n",
    "                 xycoords='data', xytext=(direction[rank][0],direction[rank][1]),\n",
    "                 textcoords='offset points', fontsize=16,\n",
    "                 arrowprops=dict(arrowstyle='->', connectionstyle=\"arc3,rad=.2\"))"
   ]
  },
  {
   "cell_type": "markdown",
   "metadata": {},
   "source": [
    "## 5.5 构建一个KNN分类器"
   ]
  },
  {
   "cell_type": "code",
   "execution_count": 6,
   "metadata": {},
   "outputs": [],
   "source": [
    "from sklearn.neighbors import KNeighborsClassifier\n",
    "df=pd.read_csv('data_nn_classifier.txt', header=None)"
   ]
  },
  {
   "cell_type": "code",
   "execution_count": 7,
   "metadata": {},
   "outputs": [],
   "source": [
    "X,y=df.iloc[:,:-1],df.iloc[:,-1].astype(np.int)\n",
    "X=np.array(X)\n",
    "y=np.array(y)"
   ]
  },
  {
   "cell_type": "code",
   "execution_count": 8,
   "metadata": {},
   "outputs": [
    {
     "data": {
      "text/plain": [
       "<matplotlib.collections.PathCollection at 0x11f3397b8>"
      ]
     },
     "execution_count": 8,
     "metadata": {},
     "output_type": "execute_result"
    },
    {
     "data": {
      "image/png": "[encoded data removed]",
      "text/plain": [
       "<Figure size 432x288 with 1 Axes>"
      ]
     },
     "metadata": {},
     "output_type": "display_data"
    }
   ],
   "source": [
    "plt.scatter(X[:,0],X[:,1],c=y)"
   ]
  },
  {
   "cell_type": "code",
   "execution_count": 9,
   "metadata": {},
   "outputs": [
    {
     "data": {
      "text/plain": [
       "<matplotlib.collections.PathCollection at 0x11f3c5898>"
      ]
     },
     "execution_count": 9,
     "metadata": {},
     "output_type": "execute_result"
    },
    {
     "data": {
      "image/png": "[encoded data removed]",
      "text/plain": [
       "<Figure size 432x288 with 1 Axes>"
      ]
     },
     "metadata": {},
     "output_type": "display_data"
    }
   ],
   "source": [
    "\n",
    "num_nerighbors=10\n",
    "classifier=KNeighborsClassifier(n_neighbors=num_nerighbors,weights='distance').fit(X,y)\n",
    "#定义网格\n",
    "h=0.01\n",
    "x_min,x_max=X[:,0].min()-1,X[:,0].max()+1\n",
    "y_min,y_max=X[:,1].min()-1,X[:,1].max()+1\n",
    "x_grid,y_grid=np.meshgrid(np.arange(x_min,x_max,h),np.arange(y_min,y_max,h))\n",
    "#计算网格中所有的输出\n",
    "predicted_values=classifier.predict(np.c_[x_grid.ravel(),y_grid.ravel()]).reshape(x_grid.shape)\n",
    "#画图\n",
    "plt.pcolormesh(x_grid,y_grid,predicted_values,cmap=plt.cm.Pastel1)\n",
    "plt.scatter(X[:,0],X[:,1],c=y)"
   ]
  },
  {
   "cell_type": "code",
   "execution_count": 10,
   "metadata": {},
   "outputs": [
    {
     "data": {
      "text/plain": [
       "<matplotlib.collections.PathCollection at 0x10cfe7b38>"
      ]
     },
     "execution_count": 10,
     "metadata": {},
     "output_type": "execute_result"
    },
    {
     "data": {
      "image/png": "[encoded data removed]",
      "text/plain": [
       "<Figure size 432x288 with 1 Axes>"
      ]
     },
     "metadata": {},
     "output_type": "display_data"
    }
   ],
   "source": [
    "test_point=np.array([4.5,3.6]).reshape(1,-1)\n",
    "dist,indices=classifier.kneighbors(test_point)\n",
    "plt.scatter(test_point[0,0],test_point[0,1],s=80,edgecolors='k',marker='x')\n",
    "plt.scatter(X[:,0],X[:,1],c=y)\n",
    "plt.scatter(X[indices[0],0],X[indices[0],1],s=300,alpha=0.3,edgecolors='k',marker='^')"
   ]
  },
  {
   "cell_type": "code",
   "execution_count": 11,
   "metadata": {},
   "outputs": [
    {
     "name": "stdout",
     "output_type": "stream",
     "text": [
      "predict output is  2\n"
     ]
    }
   ],
   "source": [
    "print('predict output is ',classifier.predict(test_point)[0])"
   ]
  },
  {
   "cell_type": "markdown",
   "metadata": {},
   "source": [
    "## 5.6 构建一个KNN 回归器"
   ]
  },
  {
   "cell_type": "code",
   "execution_count": 13,
   "metadata": {},
   "outputs": [
    {
     "data": {
      "text/plain": [
       "Text(0.5,1,'Input data')"
      ]
     },
     "execution_count": 13,
     "metadata": {},
     "output_type": "execute_result"
    },
    {
     "data": {
      "image/png": "[encoded data removed]",
      "text/plain": [
       "<Figure size 432x288 with 1 Axes>"
      ]
     },
     "metadata": {},
     "output_type": "display_data"
    }
   ],
   "source": [
    "amplitude=10\n",
    "num_points=100\n",
    "X=amplitude*(np.random.rand(num_points,1)-0.5)\n",
    "y=np.sin(X).ravel()\n",
    "y+=0.2*(0.5-np.random.rand(y.size))\n",
    "\n",
    "plt.scatter(X,y)\n",
    "plt.title('Input data')"
   ]
  },
  {
   "cell_type": "code",
   "execution_count": 21,
   "metadata": {},
   "outputs": [],
   "source": [
    "x_values=np.linspace(-0.5*amplitude,0.5*amplitude,10*num_points)[:,np.newaxis]"
   ]
  },
  {
   "cell_type": "code",
   "execution_count": 36,
   "metadata": {},
   "outputs": [
    {
     "data": {
      "text/plain": [
       "<matplotlib.legend.Legend at 0x13c432cf8>"
      ]
     },
     "execution_count": 36,
     "metadata": {},
     "output_type": "execute_result"
    },
    {
     "data": {
      "image/png": "[encoded data removed]",
      "text/plain": [
       "<Figure size 432x288 with 1 Axes>"
      ]
     },
     "metadata": {},
     "output_type": "display_data"
    }
   ],
   "source": [
    "from sklearn.neighbors import KNeighborsRegressor\n",
    "n_neighbors=8\n",
    "knn_regressor=KNeighborsRegressor(n_neighbors,weights='distance')\n",
    "y_values=knn_regressor.fit(X,y).predict(x_values)\n",
    "plt.scatter(X,y,label='input data')\n",
    "plt.scatter(x_values,y_values,s=10,linestyle='--',marker='>',label='predicted data')\n",
    "plt.legend(loc=1)"
   ]
  },
  {
   "cell_type": "markdown",
   "metadata": {},
   "source": [
    "## 5.7 计算相似度"
   ]
  },
  {
   "cell_type": "code",
   "execution_count": 37,
   "metadata": {},
   "outputs": [],
   "source": [
    "import json"
   ]
  },
  {
   "cell_type": "code",
   "execution_count": 39,
   "metadata": {},
   "outputs": [],
   "source": [
    "with open('movie_ratings.json','r') as fr:\n",
    "    data=json.loads(fr.read())"
   ]
  },
  {
   "cell_type": "code",
   "execution_count": 41,
   "metadata": {},
   "outputs": [
    {
     "data": {
      "text/plain": [
       "{'Inception': 3.0,\n",
       " 'Pulp Fiction': 4.0,\n",
       " 'Anger Management': 2.0,\n",
       " 'Fracture': 3.0,\n",
       " 'Jerry Maguire': 3.0,\n",
       " 'Serendipity': 2.0}"
      ]
     },
     "execution_count": 41,
     "metadata": {},
     "output_type": "execute_result"
    }
   ],
   "source": [
    "data['Melissa Jones']"
   ]
  },
  {
   "cell_type": "code",
   "execution_count": 42,
   "metadata": {},
   "outputs": [
    {
     "data": {
      "text/plain": [
       "0.29429805508554946"
      ]
     },
     "execution_count": 42,
     "metadata": {},
     "output_type": "execute_result"
    }
   ],
   "source": [
    "#欧氏距离计算相似度\n",
    "def euclidean_score(dataset,user1,user2):\n",
    "    if user1 not in dataset:\n",
    "        raise TypeError('User'+user1+' not in the dataset')\n",
    "    if user2 not in dataset:\n",
    "        raise TypeError('User'+user2+' not in the dataset')\n",
    "    rated_by_both={}\n",
    "    for item in dataset[user1]:\n",
    "        if item in dataset[user2]:\n",
    "            rated_by_both[item]=1\n",
    "    if len(rated_by_both)==0:\n",
    "        return 0\n",
    "    squared_diff=[]\n",
    "    for item in dataset[user1]:\n",
    "        if item in dataset[user2]:\n",
    "            squared_diff.append(np.square(dataset[user1][item]-dataset[user2][item]))\n",
    "    return 1/(1+np.sqrt(np.sum(squared_diff)))\n",
    "euclidean_score(data,'John Carson','Michelle Peterson')"
   ]
  },
  {
   "cell_type": "code",
   "execution_count": 49,
   "metadata": {},
   "outputs": [
    {
     "data": {
      "text/plain": [
       "0.39605901719066977"
      ]
     },
     "execution_count": 49,
     "metadata": {},
     "output_type": "execute_result"
    }
   ],
   "source": [
    "#欧氏距离计算相似度\n",
    "def pearson_score(dataset,user1,user2):\n",
    "    if user1 not in dataset:\n",
    "        raise TypeError('User'+user1+' not in the dataset')\n",
    "    if user2 not in dataset:\n",
    "        raise TypeError('User'+user2+' not in the dataset')\n",
    "    rated_by_both={}\n",
    "    for item in dataset[user1]:\n",
    "        if item in dataset[user2]:\n",
    "            rated_by_both[item]=1\n",
    "    num_ratings = len(rated_by_both)\n",
    "    if len(rated_by_both)==0:\n",
    "        return 0\n",
    "    x=np.array([dataset[user1][item] for item in rated_by_both])\n",
    "    y=np.array([dataset[user2][item] for item in rated_by_both])\n",
    "    Sxy=np.mean(np.sum((x-x.mean())*(y-y.mean())))\n",
    "    Sxx=np.sqrt(\n",
    "        np.mean(np.sum(np.square(x-x.mean())))*np.mean(np.sum(np.square(y-y.mean())))\n",
    "    )\n",
    "    return Sxy/Sxx\n",
    "    \n",
    "    \n",
    "#     print([dataset[user1][item] for item in rated_by_both])\n",
    "#     print([dataset[user2][item] for item in rated_by_both])\n",
    "#     user1_sum = np.sum([dataset[user1][item] for item in rated_by_both]) \n",
    "#     user2_sum = np.sum([dataset[user2][item] for item in rated_by_both])\n",
    "#     print(user1_sum,user2_sum)\n",
    "\n",
    "# # 计算所有相同评分电影的评分的平方和\n",
    "#     user1_squared_sum = np.sum([np.square(dataset[user1][item]) for item in rated_by_both])\n",
    "#     user2_squared_sum = np.sum([np.square(dataset[user2][item]) for item in rated_by_both])\n",
    "#     product_sum = np.sum([dataset[user1][item] * dataset[user2][item] for item in rated_by_both])\n",
    "#     Syy = user2_squared_sum - np.square(user2_sum) / num_ratings\n",
    "# # 计算皮尔逊相关度\n",
    "#     Sxy = product_sum - (user1_sum * user2_sum / num_ratings) \n",
    "#     Sxx = user1_squared_sum - np.square(user1_sum) / num_ratings\n",
    "#     return Sxy / np.sqrt(Sxx * Syy+1e-6)\n",
    "\n",
    "pearson_score(data,'John Carson','Michelle Peterson')"
   ]
  },
  {
   "cell_type": "markdown",
   "metadata": {},
   "source": [
    "## 5.9 寻找数据集中的相似用户"
   ]
  },
  {
   "cell_type": "code",
   "execution_count": 55,
   "metadata": {},
   "outputs": [
    {
     "name": "stdout",
     "output_type": "stream",
     "text": [
      "Michael Henry \t 0.99\n",
      "Alex Roberts \t 0.75\n",
      "Melissa Jones \t 0.59\n"
     ]
    }
   ],
   "source": [
    "def find_similiar_users(dataset,user,num_users):\n",
    "    if user not in dataset:\n",
    "        raise TypeError('User '+user+' is not in the dataset')\n",
    "    scores=np.array([[x,pearson_score(dataset,user,x)] for x in dataset if user != x])\n",
    "    scores_sorted=np.argsort(scores[:,1])\n",
    "    scores_dec=scores_sorted[::-1]\n",
    "    return scores[scores_dec[:num_users]]\n",
    "user='John Carson'\n",
    "similiar_users=find_similiar_users(data,user,3)\n",
    "for item in similiar_users:\n",
    "    print(item[0],'\\t',round(float(item[1]),2))"
   ]
  },
  {
   "cell_type": "markdown",
   "metadata": {},
   "source": [
    "## 5.10 生成电影推荐\n"
   ]
  },
  {
   "cell_type": "code",
   "execution_count": 86,
   "metadata": {},
   "outputs": [
    {
     "name": "stdout",
     "output_type": "stream",
     "text": [
      "Inception \t 3.0 0.39605901719066977\n",
      "Pulp Fiction \t 3.5 0.39605901719066977\n",
      "Anger Management \t 1.5 0.39605901719066977\n",
      "Fracture \t 5.0 0.39605901719066977\n",
      "Jerry Maguire \t 3.0 0.39605901719066977\n",
      "Serendipity \t 3.5 0.39605901719066977\n",
      "Inception \t 2.5 0.40451991747794525\n",
      "Pulp Fiction \t 3.0 0.40451991747794525\n",
      "Fracture \t 3.5 0.40451991747794525\n",
      "Jerry Maguire \t 4.0 0.40451991747794525\n",
      "Pulp Fiction \t 3.5 0.5669467095138409\n",
      "Anger Management \t 3.0 0.5669467095138409\n",
      "Jerry Maguire \t 4.5 0.5669467095138409\n",
      "Fracture \t 4.0 0.5669467095138409\n",
      "Serendipity \t 2.5 0.5669467095138409\n",
      "Inception \t 3.0 0.5940885257860046\n",
      "Pulp Fiction \t 4.0 0.5940885257860046\n",
      "Anger Management \t 2.0 0.5940885257860046\n",
      "Fracture \t 3.0 0.5940885257860046\n",
      "Jerry Maguire \t 3.0 0.5940885257860046\n",
      "Serendipity \t 2.0 0.5940885257860046\n",
      "Inception \t 3.0 0.747017880833996\n",
      "Pulp Fiction \t 4.0 0.747017880833996\n",
      "Jerry Maguire \t 3.0 0.747017880833996\n",
      "Fracture \t 5.0 0.747017880833996\n",
      "Serendipity \t 3.5 0.747017880833996\n",
      "Pulp Fiction \t 4.5 0.9912407071619304\n",
      "Serendipity \t 1.0 0.9912407071619304\n",
      "Fracture \t 4.0 0.9912407071619304\n",
      "John Carson \t ['Pulp Fiction', 'Fracture', 'Jerry Maguire', 'Inception', 'Anger Management', 'Serendipity'] \n",
      "\n",
      "Inception \t 2.5 0.39605901719066977\n",
      "Pulp Fiction \t 3.5 0.39605901719066977\n",
      "Anger Management \t 3.0 0.39605901719066977\n",
      "Fracture \t 3.5 0.39605901719066977\n",
      "Serendipity \t 2.5 0.39605901719066977\n",
      "Jerry Maguire \t 3.0 0.39605901719066977\n",
      "Inception \t 2.5 0.20459830184114206\n",
      "Pulp Fiction \t 3.0 0.20459830184114206\n",
      "Fracture \t 3.5 0.20459830184114206\n",
      "Jerry Maguire \t 4.0 0.20459830184114206\n",
      "Pulp Fiction \t 3.5 0.314970394174356\n",
      "Anger Management \t 3.0 0.314970394174356\n",
      "Jerry Maguire \t 4.5 0.314970394174356\n",
      "Fracture \t 4.0 0.314970394174356\n",
      "Serendipity \t 2.5 0.314970394174356\n",
      "Inception \t 3.0 0.4117647058823529\n",
      "Pulp Fiction \t 4.0 0.4117647058823529\n",
      "Anger Management \t 2.0 0.4117647058823529\n",
      "Fracture \t 3.0 0.4117647058823529\n",
      "Jerry Maguire \t 3.0 0.4117647058823529\n",
      "Serendipity \t 2.0 0.4117647058823529\n",
      "Inception \t 3.0 0.9637956818756329\n",
      "Pulp Fiction \t 4.0 0.9637956818756329\n",
      "Jerry Maguire \t 3.0 0.9637956818756329\n",
      "Fracture \t 5.0 0.9637956818756329\n",
      "Serendipity \t 3.5 0.9637956818756329\n",
      "Pulp Fiction \t 4.5 0.3812464258315117\n",
      "Serendipity \t 1.0 0.3812464258315117\n",
      "Fracture \t 4.0 0.3812464258315117\n",
      "Michelle Peterson \t ['Pulp Fiction', 'Fracture', 'Jerry Maguire', 'Inception', 'Anger Management', 'Serendipity'] \n",
      "\n",
      "Inception \t 2.5 0.40451991747794525\n",
      "Pulp Fiction \t 3.5 0.40451991747794525\n",
      "Anger Management \t 3.0 0.40451991747794525\n",
      "Fracture \t 3.5 0.40451991747794525\n",
      "Serendipity \t 2.5 0.40451991747794525\n",
      "Jerry Maguire \t 3.0 0.40451991747794525\n",
      "Inception \t 3.0 0.20459830184114206\n",
      "Pulp Fiction \t 3.5 0.20459830184114206\n",
      "Anger Management \t 1.5 0.20459830184114206\n",
      "Fracture \t 5.0 0.20459830184114206\n",
      "Jerry Maguire \t 3.0 0.20459830184114206\n",
      "Serendipity \t 3.5 0.20459830184114206\n",
      "Pulp Fiction \t 3.5 1.0\n",
      "Anger Management \t 3.0 1.0\n",
      "Jerry Maguire \t 4.5 1.0\n",
      "Fracture \t 4.0 1.0\n",
      "Serendipity \t 2.5 1.0\n",
      "Inception \t 3.0 0.13483997249264842\n",
      "Pulp Fiction \t 4.0 0.13483997249264842\n",
      "Jerry Maguire \t 3.0 0.13483997249264842\n",
      "Fracture \t 5.0 0.13483997249264842\n",
      "Serendipity \t 3.5 0.13483997249264842\n",
      "William Reynolds \t ['Fracture', 'Pulp Fiction', 'Serendipity', 'Jerry Maguire', 'Anger Management', 'Inception'] \n",
      "\n",
      "Inception \t 2.5 0.5669467095138409\n",
      "Pulp Fiction \t 3.5 0.5669467095138409\n",
      "Anger Management \t 3.0 0.5669467095138409\n",
      "Fracture \t 3.5 0.5669467095138409\n",
      "Serendipity \t 2.5 0.5669467095138409\n",
      "Jerry Maguire \t 3.0 0.5669467095138409\n",
      "Inception \t 3.0 0.314970394174356\n",
      "Pulp Fiction \t 3.5 0.314970394174356\n",
      "Anger Management \t 1.5 0.314970394174356\n",
      "Fracture \t 5.0 0.314970394174356\n",
      "Jerry Maguire \t 3.0 0.314970394174356\n",
      "Serendipity \t 3.5 0.314970394174356\n",
      "Inception \t 2.5 1.0\n",
      "Pulp Fiction \t 3.0 1.0\n",
      "Fracture \t 3.5 1.0\n",
      "Jerry Maguire \t 4.0 1.0\n",
      "Inception \t 3.0 0.5669467095138409\n",
      "Pulp Fiction \t 4.0 0.5669467095138409\n",
      "Anger Management \t 2.0 0.5669467095138409\n",
      "Fracture \t 3.0 0.5669467095138409\n",
      "Jerry Maguire \t 3.0 0.5669467095138409\n",
      "Serendipity \t 2.0 0.5669467095138409\n",
      "Inception \t 3.0 0.02857142857142857\n",
      "Pulp Fiction \t 4.0 0.02857142857142857\n",
      "Jerry Maguire \t 3.0 0.02857142857142857\n",
      "Fracture \t 5.0 0.02857142857142857\n",
      "Serendipity \t 3.5 0.02857142857142857\n",
      "Pulp Fiction \t 4.5 0.8934051474415644\n",
      "Serendipity \t 1.0 0.8934051474415644\n",
      "Fracture \t 4.0 0.8934051474415644\n",
      "Jillian Hobart \t ['Pulp Fiction', 'Fracture', 'Jerry Maguire', 'Inception', 'Anger Management', 'Serendipity'] \n",
      "\n",
      "Inception \t 2.5 0.5940885257860046\n",
      "Pulp Fiction \t 3.5 0.5940885257860046\n",
      "Anger Management \t 3.0 0.5940885257860046\n",
      "Fracture \t 3.5 0.5940885257860046\n",
      "Serendipity \t 2.5 0.5940885257860046\n",
      "Jerry Maguire \t 3.0 0.5940885257860046\n",
      "Inception \t 3.0 0.4117647058823529\n",
      "Pulp Fiction \t 3.5 0.4117647058823529\n",
      "Anger Management \t 1.5 0.4117647058823529\n",
      "Fracture \t 5.0 0.4117647058823529\n",
      "Jerry Maguire \t 3.0 0.4117647058823529\n",
      "Serendipity \t 3.5 0.4117647058823529\n",
      "Pulp Fiction \t 3.5 0.5669467095138409\n",
      "Anger Management \t 3.0 0.5669467095138409\n",
      "Jerry Maguire \t 4.5 0.5669467095138409\n",
      "Fracture \t 4.0 0.5669467095138409\n",
      "Serendipity \t 2.5 0.5669467095138409\n",
      "Inception \t 3.0 0.21128856368212914\n",
      "Pulp Fiction \t 4.0 0.21128856368212914\n",
      "Jerry Maguire \t 3.0 0.21128856368212914\n",
      "Fracture \t 5.0 0.21128856368212914\n",
      "Serendipity \t 3.5 0.21128856368212914\n",
      "Pulp Fiction \t 4.5 0.924473451641905\n",
      "Serendipity \t 1.0 0.924473451641905\n",
      "Fracture \t 4.0 0.924473451641905\n",
      "Melissa Jones \t ['Pulp Fiction', 'Fracture', 'Jerry Maguire', 'Anger Management', 'Inception', 'Serendipity'] \n",
      "\n",
      "Inception \t 2.5 0.747017880833996\n",
      "Pulp Fiction \t 3.5 0.747017880833996\n",
      "Anger Management \t 3.0 0.747017880833996\n",
      "Fracture \t 3.5 0.747017880833996\n",
      "Serendipity \t 2.5 0.747017880833996\n",
      "Jerry Maguire \t 3.0 0.747017880833996\n",
      "Inception \t 3.0 0.9637956818756329\n",
      "Pulp Fiction \t 3.5 0.9637956818756329\n",
      "Anger Management \t 1.5 0.9637956818756329\n",
      "Fracture \t 5.0 0.9637956818756329\n",
      "Jerry Maguire \t 3.0 0.9637956818756329\n",
      "Serendipity \t 3.5 0.9637956818756329\n",
      "Inception \t 2.5 0.13483997249264842\n",
      "Pulp Fiction \t 3.0 0.13483997249264842\n",
      "Fracture \t 3.5 0.13483997249264842\n",
      "Jerry Maguire \t 4.0 0.13483997249264842\n",
      "Pulp Fiction \t 3.5 0.02857142857142857\n",
      "Anger Management \t 3.0 0.02857142857142857\n",
      "Jerry Maguire \t 4.5 0.02857142857142857\n",
      "Fracture \t 4.0 0.02857142857142857\n",
      "Serendipity \t 2.5 0.02857142857142857\n",
      "Inception \t 3.0 0.21128856368212914\n",
      "Pulp Fiction \t 4.0 0.21128856368212914\n",
      "Anger Management \t 2.0 0.21128856368212914\n",
      "Fracture \t 3.0 0.21128856368212914\n",
      "Jerry Maguire \t 3.0 0.21128856368212914\n",
      "Serendipity \t 2.0 0.21128856368212914\n",
      "Pulp Fiction \t 4.5 0.6628489803598702\n",
      "Serendipity \t 1.0 0.6628489803598702\n",
      "Fracture \t 4.0 0.6628489803598702\n",
      "Alex Roberts \t ['Pulp Fiction', 'Fracture', 'Jerry Maguire', 'Inception', 'Anger Management', 'Serendipity'] \n",
      "\n",
      "Inception \t 2.5 0.9912407071619304\n",
      "Pulp Fiction \t 3.5 0.9912407071619304\n",
      "Anger Management \t 3.0 0.9912407071619304\n",
      "Fracture \t 3.5 0.9912407071619304\n",
      "Serendipity \t 2.5 0.9912407071619304\n",
      "Jerry Maguire \t 3.0 0.9912407071619304\n",
      "Inception \t 3.0 0.3812464258315117\n",
      "Pulp Fiction \t 3.5 0.3812464258315117\n",
      "Anger Management \t 1.5 0.3812464258315117\n",
      "Fracture \t 5.0 0.3812464258315117\n",
      "Jerry Maguire \t 3.0 0.3812464258315117\n",
      "Serendipity \t 3.5 0.3812464258315117\n",
      "Pulp Fiction \t 3.5 0.8934051474415642\n",
      "Anger Management \t 3.0 0.8934051474415642\n",
      "Jerry Maguire \t 4.5 0.8934051474415642\n",
      "Fracture \t 4.0 0.8934051474415642\n",
      "Serendipity \t 2.5 0.8934051474415642\n",
      "Inception \t 3.0 0.924473451641905\n",
      "Pulp Fiction \t 4.0 0.924473451641905\n",
      "Anger Management \t 2.0 0.924473451641905\n",
      "Fracture \t 3.0 0.924473451641905\n",
      "Jerry Maguire \t 3.0 0.924473451641905\n",
      "Serendipity \t 2.0 0.924473451641905\n",
      "Inception \t 3.0 0.6628489803598702\n",
      "Pulp Fiction \t 4.0 0.6628489803598702\n",
      "Jerry Maguire \t 3.0 0.6628489803598702\n",
      "Fracture \t 5.0 0.6628489803598702\n",
      "Serendipity \t 3.5 0.6628489803598702\n",
      "Michael Henry \t ['Fracture', 'Pulp Fiction', 'Serendipity', 'Jerry Maguire', 'Inception', 'Anger Management'] \n",
      "\n"
     ]
    }
   ],
   "source": [
    "def generate_recommendations(dataset,user):\n",
    "    if user not in dataset:\n",
    "        raise TypeError('User'+user+'is not in the data')\n",
    "    total_scores={}\n",
    "    similiar_sum={}\n",
    "    for u in [x for x in dataset if x != user]:\n",
    "        score=pearson_score(dataset,user,u)\n",
    "        if score<=0:\n",
    "            continue\n",
    "        for item in [x for x in dataset[u] if x != dataset[user] or dataset[user][x]==0]:\n",
    "            total_scores.update({item:dataset[u][item]*score})\n",
    "            similiar_sum.update({item:score})\n",
    "            print(item,'\\t',dataset[u][item],score)\n",
    "    if len(total_scores) ==0:\n",
    "        return 'NO recommendation'\n",
    "    movie_ranks=np.array([[total/similiar_sum[item],item] for item,total in total_scores.items()])\n",
    "    movie_ranks=movie_ranks[np.argsort(movie_ranks[:,0])[::-1]]\n",
    "    recommendations=[movie for _,movie in movie_ranks]\n",
    "    return recommendations\n",
    "for k,v in data.items():\n",
    "    print(k,'\\t',generate_recommendations(data,k),'\\n')"
   ]
  },
  {
   "cell_type": "code",
   "execution_count": 74,
   "metadata": {},
   "outputs": [
    {
     "ename": "TypeError",
     "evalue": "'set' object does not support indexing",
     "output_type": "error",
     "traceback": [
      "\u001b[0;31m---------------------------------------------------------------------------\u001b[0m",
      "\u001b[0;31mTypeError\u001b[0m                                 Traceback (most recent call last)",
      "\u001b[0;32m<ipython-input-74-7f55ffebe999>\u001b[0m in \u001b[0;36m<module>\u001b[0;34m()\u001b[0m\n\u001b[0;32m----> 1\u001b[0;31m \u001b[0;34m(\u001b[0m\u001b[0mset\u001b[0m\u001b[0;34m(\u001b[0m\u001b[0mdata\u001b[0m\u001b[0;34m)\u001b[0m\u001b[0;34m-\u001b[0m\u001b[0mset\u001b[0m\u001b[0;34m(\u001b[0m\u001b[0;34m[\u001b[0m\u001b[0muser\u001b[0m\u001b[0;34m]\u001b[0m\u001b[0;34m)\u001b[0m\u001b[0;34m)\u001b[0m\u001b[0;34m[\u001b[0m\u001b[0;36m0\u001b[0m\u001b[0;34m]\u001b[0m\u001b[0;34m\u001b[0m\u001b[0m\n\u001b[0m",
      "\u001b[0;31mTypeError\u001b[0m: 'set' object does not support indexing"
     ]
    }
   ],
   "source": [
    "(set(data)-set([user]))"
   ]
  },
  {
   "cell_type": "code",
   "execution_count": 75,
   "metadata": {},
   "outputs": [],
   "source": [
    "a=set([1,2,3])"
   ]
  },
  {
   "cell_type": "code",
   "execution_count": 76,
   "metadata": {},
   "outputs": [
    {
     "data": {
      "text/plain": [
       "{1, 2, 3}"
      ]
     },
     "execution_count": 76,
     "metadata": {},
     "output_type": "execute_result"
    }
   ],
   "source": [
    "a."
   ]
  },
  {
   "cell_type": "code",
   "execution_count": null,
   "metadata": {},
   "outputs": [],
   "source": []
  }
 ],
 "metadata": {
  "kernelspec": {
   "display_name": "Python 3",
   "language": "python",
   "name": "python3"
  },
  "language_info": {
   "codemirror_mode": {
    "name": "ipython",
    "version": 3
   },
   "file_extension": ".py",
   "mimetype": "text/x-python",
   "name": "python",
   "nbconvert_exporter": "python",
   "pygments_lexer": "ipython3",
   "version": "3.6.5"
  }
 },
 "nbformat": 4,
 "nbformat_minor": 2
}
