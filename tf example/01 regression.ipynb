{
 "cells": [
  {
   "cell_type": "code",
   "execution_count": 1,
   "metadata": {},
   "outputs": [
    {
     "name": "stderr",
     "output_type": "stream",
     "text": [
      "/usr/local/miniconda3/lib/python3.6/importlib/_bootstrap.py:219: RuntimeWarning: numpy.dtype size changed, may indicate binary incompatibility. Expected 96, got 88\n",
      "  return f(*args, **kwds)\n"
     ]
    }
   ],
   "source": [
    "import numpy as np\n",
    "import tensorflow as tf\n",
    "import matplotlib.pyplot as plt\n",
    "%matplotlib inline\n"
   ]
  },
  {
   "cell_type": "code",
   "execution_count": 29,
   "metadata": {},
   "outputs": [],
   "source": [
    "X=np.random.randn(100)\n",
    "X=np.sort(X)\n",
    "y=X**2*0.2+0.03+np.random.randn(100)*0.01\n",
    "X=X.reshape(-1,1).astype(np.float32)\n",
    "y=y.reshape(-1,1).astype(np.float32)"
   ]
  },
  {
   "cell_type": "code",
   "execution_count": 50,
   "metadata": {},
   "outputs": [
    {
     "name": "stdout",
     "output_type": "stream",
     "text": [
      "cost:\t 0.23611346\n",
      "cost:\t 0.09291748\n",
      "cost:\t 0.037728142\n",
      "cost:\t 0.018246278\n",
      "cost:\t 0.009427201\n",
      "cost:\t 0.0046354807\n",
      "cost:\t 0.0021176198\n",
      "cost:\t 0.00091788516\n",
      "cost:\t 0.00040354536\n",
      "cost:\t 0.00020525765\n"
     ]
    }
   ],
   "source": [
    "with tf.variable_scope('bala2',reuse=tf.AUTO_REUSE):\n",
    "    w=tf.get_variable('w',[1,1],dtype=tf.float32,initializer=tf.truncated_normal_initializer())\n",
    "    b=tf.get_variable('b',[1],dtype=tf.float32,initializer=tf.zeros_initializer())\n",
    "    y_hat=tf.matmul(X**2,w)+b    \n",
    "    cost=tf.reduce_mean(tf.square(y-y_hat))\n",
    "    optimizer=tf.train.AdamOptimizer(1e-3).minimize(cost)\n",
    "\n",
    "with tf.Session() as sess:\n",
    "    sess.run(tf.global_variables_initializer())\n",
    "    for i in range(1000):\n",
    "        sess.run(optimizer)\n",
    "        if not i % 100:\n",
    "            print('cost:\\t',sess.run(cost))\n",
    "    y_hat=sess.run(y_hat)"
   ]
  },
  {
   "cell_type": "code",
   "execution_count": 51,
   "metadata": {},
   "outputs": [
    {
     "data": {
      "text/plain": [
       "[<matplotlib.lines.Line2D at 0x122fdfda0>]"
      ]
     },
     "execution_count": 51,
     "metadata": {},
     "output_type": "execute_result"
    },
    {
     "data": {
      "image/png": "[encoded data removed]",
      "text/plain": [
       "<Figure size 432x288 with 1 Axes>"
      ]
     },
     "metadata": {},
     "output_type": "display_data"
    }
   ],
   "source": [
    "\n",
    "plt.plot(X,y,'r.')\n",
    "plt.plot(X,y_hat,'b-')"
   ]
  },
  {
   "cell_type": "code",
   "execution_count": null,
   "metadata": {},
   "outputs": [],
   "source": []
  }
 ],
 "metadata": {
  "kernelspec": {
   "display_name": "Python 3",
   "language": "python",
   "name": "python3"
  },
  "language_info": {
   "codemirror_mode": {
    "name": "ipython",
    "version": 3
   },
   "file_extension": ".py",
   "mimetype": "text/x-python",
   "name": "python",
   "nbconvert_exporter": "python",
   "pygments_lexer": "ipython3",
   "version": "3.6.5"
  }
 },
 "nbformat": 4,
 "nbformat_minor": 2
}
