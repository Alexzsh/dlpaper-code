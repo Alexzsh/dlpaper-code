{
 "cells": [
  {
   "cell_type": "markdown",
   "metadata": {},
   "source": [
    "#  两层FC层做分类：MNIST\n",
    "\n",
    "在本教程中，我们来实现一个非常简单的两层全连接层来完成MNIST数据的分类问题。\n",
    "\n",
    "输入[-1,28*28], FC1 有 1024 个neurons， FC2 有 10 个neurons。这么简单的一个全连接网络，结果测试准确率达到了 0.98。还是非常棒的！！！"
   ]
  },
  {
   "cell_type": "markdown",
   "metadata": {},
   "source": [
    "\n",
    "- get_variable()和variable()混用会自动处理命名问题\n",
    "- variable_scope() 会在变量名前加入scope的命名空间\n",
    "\n",
    "tf是根据变量名来区分是否是同一变量，需要使用reuse=tf.AUTO_REUSE进行制定变量\n"
   ]
  },
  {
   "cell_type": "code",
   "execution_count": 1,
   "metadata": {},
   "outputs": [],
   "source": [
    "import warnings\n",
    "warnings.filterwarnings('ignore')\n",
    "\n",
    "import numpy as np\n",
    "import tensorflow as tf"
   ]
  },
  {
   "cell_type": "code",
   "execution_count": 2,
   "metadata": {},
   "outputs": [
    {
     "name": "stdout",
     "output_type": "stream",
     "text": [
      "WARNING:tensorflow:From <ipython-input-2-7858a272cc4f>:3: read_data_sets (from tensorflow.contrib.learn.python.learn.datasets.mnist) is deprecated and will be removed in a future version.\n",
      "Instructions for updating:\n",
      "Please use alternatives such as official/mnist/dataset.py from tensorflow/models.\n",
      "WARNING:tensorflow:From /usr/local/miniconda3/lib/python3.6/site-packages/tensorflow/contrib/learn/python/learn/datasets/mnist.py:260: maybe_download (from tensorflow.contrib.learn.python.learn.datasets.base) is deprecated and will be removed in a future version.\n",
      "Instructions for updating:\n",
      "Please write your own downloading logic.\n",
      "WARNING:tensorflow:From /usr/local/miniconda3/lib/python3.6/site-packages/tensorflow/contrib/learn/python/learn/datasets/mnist.py:262: extract_images (from tensorflow.contrib.learn.python.learn.datasets.mnist) is deprecated and will be removed in a future version.\n",
      "Instructions for updating:\n",
      "Please use tf.data to implement this functionality.\n",
      "Extracting ../data/MNIST_data/train-images-idx3-ubyte.gz\n",
      "WARNING:tensorflow:From /usr/local/miniconda3/lib/python3.6/site-packages/tensorflow/contrib/learn/python/learn/datasets/mnist.py:267: extract_labels (from tensorflow.contrib.learn.python.learn.datasets.mnist) is deprecated and will be removed in a future version.\n",
      "Instructions for updating:\n",
      "Please use tf.data to implement this functionality.\n",
      "Extracting ../data/MNIST_data/train-labels-idx1-ubyte.gz\n",
      "Extracting ../data/MNIST_data/t10k-images-idx3-ubyte.gz\n",
      "Extracting ../data/MNIST_data/t10k-labels-idx1-ubyte.gz\n",
      "WARNING:tensorflow:From /usr/local/miniconda3/lib/python3.6/site-packages/tensorflow/contrib/learn/python/learn/datasets/mnist.py:290: DataSet.__init__ (from tensorflow.contrib.learn.python.learn.datasets.mnist) is deprecated and will be removed in a future version.\n",
      "Instructions for updating:\n",
      "Please use alternatives such as official/mnist/dataset.py from tensorflow/models.\n"
     ]
    }
   ],
   "source": [
    "#导入数据\n",
    "from tensorflow.examples.tutorials.mnist import input_data\n",
    "mnist=input_data.read_data_sets('../data/MNIST_data',one_hot=False, source_url='http://yann.lecun.com/exdb/mnist/')"
   ]
  },
  {
   "cell_type": "code",
   "execution_count": 3,
   "metadata": {},
   "outputs": [
    {
     "name": "stdout",
     "output_type": "stream",
     "text": [
      "train_data image shape : (55000, 784)\n",
      "train_data label shape : (55000,)\n"
     ]
    }
   ],
   "source": [
    "print('train_data image shape :',mnist.train.images.shape)\n",
    "print('train_data label shape :',mnist.train.labels.shape)"
   ]
  },
  {
   "cell_type": "code",
   "execution_count": 15,
   "metadata": {},
   "outputs": [
    {
     "name": "stdout",
     "output_type": "stream",
     "text": [
      "step 0,train_cost=221.197067,acc=0.130000;test_cost:209.098679,test_acc:0.082000\n",
      "step 500,train_cost=10.145953,acc=0.870000;test_cost:7.630925,test_acc:0.882900\n",
      "step 1000,train_cost=6.117918,acc=0.890000;test_cost:4.997635,test_acc:0.914000\n",
      "step 1500,train_cost=2.645495,acc=0.940000;test_cost:4.009112,test_acc:0.924800\n",
      "step 2000,train_cost=4.094882,acc=0.890000;test_cost:3.416116,test_acc:0.932000\n",
      "step 2500,train_cost=2.471544,acc=0.930000;test_cost:2.944244,test_acc:0.938800\n",
      "step 3000,train_cost=0.217323,acc=0.970000;test_cost:2.813977,test_acc:0.941500\n",
      "step 3500,train_cost=0.334009,acc=0.970000;test_cost:2.585214,test_acc:0.944800\n",
      "step 4000,train_cost=1.908447,acc=0.930000;test_cost:2.408782,test_acc:0.945100\n",
      "step 4500,train_cost=0.465369,acc=0.980000;test_cost:2.314977,test_acc:0.947600\n"
     ]
    }
   ],
   "source": [
    "def get_var_scope(scope_name,shape) :\n",
    "    with tf.variable_scope(scope_name,reuse=tf.AUTO_REUSE) as scope:\n",
    "#         scope.reuse_variables()\n",
    "        try:\n",
    "            w=tf.get_variable('w',shape,initializer=tf.truncated_normal_initializer(stddev=0.1))\n",
    "            b=tf.get_variable('b',[shape[1]],initializer=tf.constant_initializer(0.1))\n",
    "        except ValueError as e:\n",
    "            w=tf.get_variable('w',shape)\n",
    "            b=tf.get_variable('b',[shape[1]])\n",
    "        return w,b\n",
    "x=tf.placeholder(tf.float32,[None,784])\n",
    "y=tf.placeholder(tf.int64,[None])\n",
    "\n",
    "W_fc1,b_fc1=get_var_scope('fc5',[784,1024])\n",
    "h_fc1=tf.nn.relu(tf.matmul(x,W_fc1)+b_fc1)\n",
    "\n",
    "W_fc2,b_fc2=get_var_scope('fc6',[1024,10])\n",
    "y_hat=(tf.matmul(h_fc1,W_fc2)+b_fc2)\n",
    "\n",
    "cost=tf.reduce_mean(tf.nn.sparse_softmax_cross_entropy_with_logits(logits=y_hat,labels=y))\n",
    "\n",
    "\n",
    "with tf.variable_scope('optimizer',reuse=tf.AUTO_REUSE):\n",
    "    optimizer=tf.train.AdamOptimizer(1e-3).minimize(cost)\n",
    "\n",
    "correct_prediction=tf.equal(tf.argmax(y_hat,1),y)\n",
    "acc=tf.reduce_mean(tf.cast(correct_prediction,tf.float32))\n",
    "with tf.Session() as sess:\n",
    "    sess.run(tf.global_variables_initializer())\n",
    "    for i in range(5000):\n",
    "        x_batch,y_batch=mnist.train.next_batch(batch_size=100)\n",
    "        _cost,_acc,_=sess.run([cost,acc,optimizer],feed_dict={x:x_batch,y:y_batch})\n",
    "        if not i%500:\n",
    "            test_cost,test_acc=sess.run([cost,acc],feed_dict={x:mnist.test.images,y:mnist.test.labels})\n",
    "            print('step {},train_cost={:.6f},acc={:.6f};test_cost:{:.6f},test_acc:{:.6f}'.format(i,_cost,_acc,test_cost,test_acc))"
   ]
  },
  {
   "cell_type": "code",
   "execution_count": null,
   "metadata": {},
   "outputs": [],
   "source": []
  }
 ],
 "metadata": {
  "kernelspec": {
   "display_name": "Python 3",
   "language": "python",
   "name": "python3"
  },
  "language_info": {
   "codemirror_mode": {
    "name": "ipython",
    "version": 3
   },
   "file_extension": ".py",
   "mimetype": "text/x-python",
   "name": "python",
   "nbconvert_exporter": "python",
   "pygments_lexer": "ipython3",
   "version": "3.6.5"
  }
 },
 "nbformat": 4,
 "nbformat_minor": 2
}
