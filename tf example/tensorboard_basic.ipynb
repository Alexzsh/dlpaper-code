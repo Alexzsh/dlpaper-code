{
 "cells": [
  {
   "cell_type": "code",
   "execution_count": 1,
   "metadata": {},
   "outputs": [
    {
     "name": "stdout",
     "output_type": "stream",
     "text": [
      "WARNING:tensorflow:From <ipython-input-1-a4abd820b781>:5: read_data_sets (from tensorflow.contrib.learn.python.learn.datasets.mnist) is deprecated and will be removed in a future version.\n",
      "Instructions for updating:\n",
      "Please use alternatives such as official/mnist/dataset.py from tensorflow/models.\n",
      "WARNING:tensorflow:From /usr/local/miniconda3/envs/py3/lib/python2.7/site-packages/tensorflow/contrib/learn/python/learn/datasets/mnist.py:260: maybe_download (from tensorflow.contrib.learn.python.learn.datasets.base) is deprecated and will be removed in a future version.\n",
      "Instructions for updating:\n",
      "Please write your own downloading logic.\n",
      "WARNING:tensorflow:From /usr/local/miniconda3/envs/py3/lib/python2.7/site-packages/tensorflow/contrib/learn/python/learn/datasets/mnist.py:262: extract_images (from tensorflow.contrib.learn.python.learn.datasets.mnist) is deprecated and will be removed in a future version.\n",
      "Instructions for updating:\n",
      "Please use tf.data to implement this functionality.\n",
      "Extracting /tmp/data/train-images-idx3-ubyte.gz\n",
      "WARNING:tensorflow:From /usr/local/miniconda3/envs/py3/lib/python2.7/site-packages/tensorflow/contrib/learn/python/learn/datasets/mnist.py:267: extract_labels (from tensorflow.contrib.learn.python.learn.datasets.mnist) is deprecated and will be removed in a future version.\n",
      "Instructions for updating:\n",
      "Please use tf.data to implement this functionality.\n",
      "Extracting /tmp/data/train-labels-idx1-ubyte.gz\n",
      "WARNING:tensorflow:From /usr/local/miniconda3/envs/py3/lib/python2.7/site-packages/tensorflow/contrib/learn/python/learn/datasets/mnist.py:110: dense_to_one_hot (from tensorflow.contrib.learn.python.learn.datasets.mnist) is deprecated and will be removed in a future version.\n",
      "Instructions for updating:\n",
      "Please use tf.one_hot on tensors.\n",
      "Extracting /tmp/data/t10k-images-idx3-ubyte.gz\n",
      "Extracting /tmp/data/t10k-labels-idx1-ubyte.gz\n",
      "WARNING:tensorflow:From /usr/local/miniconda3/envs/py3/lib/python2.7/site-packages/tensorflow/contrib/learn/python/learn/datasets/mnist.py:290: __init__ (from tensorflow.contrib.learn.python.learn.datasets.mnist) is deprecated and will be removed in a future version.\n",
      "Instructions for updating:\n",
      "Please use alternatives such as official/mnist/dataset.py from tensorflow/models.\n"
     ]
    }
   ],
   "source": [
    "from __future__ import print_function\n",
    "import tensorflow as tf\n",
    "\n",
    "from tensorflow.examples.tutorials.mnist import input_data\n",
    "mnist = input_data.read_data_sets(\"/tmp/data/\", one_hot = True)\n",
    "\n"
   ]
  },
  {
   "cell_type": "code",
   "execution_count": 2,
   "metadata": {},
   "outputs": [],
   "source": [
    "learning_rate = 1e-3\n",
    "training_epoch = 50\n",
    "batch_size = 64\n",
    "save_epoch = 5\n",
    "save_path = 'logdir/mnist/'\n",
    "\n",
    "x=tf.placeholder(dtype=tf.float32,shape=[None,784],name='X_input')\n",
    "y=tf.placeholder(dtype=tf.float32,shape=[None,10],name='y_input')\n",
    "\n",
    "W=tf.Variable(tf.random_normal(shape=[784,10]),name='weight')\n",
    "b=tf.Variable(tf.zeros(shape=[10]),name='bias')"
   ]
  },
  {
   "cell_type": "code",
   "execution_count": 3,
   "metadata": {},
   "outputs": [],
   "source": [
    "with tf.name_scope('Model'):\n",
    "    y_hat=tf.nn.softmax(tf.matmul(x,W)+b)\n",
    "with tf.name_scope('cost'):\n",
    "    cost= tf.reduce_mean(tf.nn.softmax_cross_entropy_with_logits_v2(logits=y_hat,labels=y))\n",
    "with tf.name_scope('optimizer'):\n",
    "    optimizer = tf.train.AdamOptimizer(learning_rate).minimize(cost)\n",
    "with tf.name_scope('Acc'):\n",
    "    acc = tf.equal(tf.argmax(y_hat,1),tf.argmax(y,1))\n",
    "    acc = tf.reduce_mean(tf.cast(acc,tf.float32))\n",
    "tf.summary.scalar('loss',cost)\n",
    "tf.summary.scalar('acc',acc)\n",
    "mergerd_summary_op = tf.summary.merge_all()"
   ]
  },
  {
   "cell_type": "code",
   "execution_count": 4,
   "metadata": {},
   "outputs": [
    {
     "name": "stdout",
     "output_type": "stream",
     "text": [
      "Epoch : 0000,cost is 2.2118675\n",
      "Epoch : 0005,cost is 1.7824185\n",
      "Epoch : 0010,cost is 1.7513118\n",
      "Epoch : 0015,cost is 1.7418650\n",
      "Epoch : 0020,cost is 1.6964381\n",
      "Epoch : 0025,cost is 1.6308304\n",
      "Epoch : 0030,cost is 1.6271194\n",
      "Epoch : 0035,cost is 1.6245624\n",
      "Epoch : 0040,cost is 1.6226051\n",
      "Epoch : 0045,cost is 1.6211175\n",
      "acc 0.8362\n"
     ]
    }
   ],
   "source": [
    "import numpy as np\n",
    "with tf.Session() as sess:\n",
    "    sess.run(tf.global_variables_initializer())\n",
    "    \n",
    "    summary_writer = tf.summary.FileWriter(save_path,graph=tf.get_default_graph())\n",
    "    \n",
    "    for  epoch in range(training_epoch):\n",
    "        avg_cost = 0.\n",
    "        total_batch = int(mnist.train.num_examples/batch_size)\n",
    "        for i in range(total_batch):\n",
    "            x_batch,y_batch = mnist.train.next_batch(batch_size)\n",
    "            _,c,summary = sess.run([optimizer,cost,mergerd_summary_op],\n",
    "                                   feed_dict={x:x_batch,y:y_batch})\n",
    "            \n",
    "            summary_writer.add_summary(summary,epoch * total_batch + i )\n",
    "            avg_cost += c/total_batch\n",
    "        if epoch % save_epoch == 0:\n",
    "            print('Epoch : {:04d},cost is {:.7f}'.format (epoch,avg_cost))\n",
    "    print('acc',acc.eval({x:mnist.test.images,y:mnist.test.labels}))\n",
    "                    "
   ]
  },
  {
   "cell_type": "code",
   "execution_count": 8,
   "metadata": {
    "scrolled": true
   },
   "outputs": [
    {
     "name": "stdout",
     "output_type": "stream",
     "text": [
      "\u001b[33mW0808 12:07:22.717541 Reloader plugin_event_accumulator.py:286] Found more than one graph event per run, or there was a metagraph containing a graph_def, as well as one or more graph events.  Overwriting the graph with the newest event.\n",
      "\u001b[0m\u001b[33mW0808 12:07:22.718045 Reloader plugin_event_accumulator.py:294] Found more than one metagraph event per run. Overwriting the metagraph with the newest event.\n",
      "\u001b[0mTensorBoard 1.9.0 at http://127.0.0.1:6006 (Press CTRL+C to quit)\n",
      "^C\n"
     ]
    }
   ],
   "source": [
    "!tensorboard --logdir=logdir/mnist/ --host=127.0.0.1"
   ]
  },
  {
   "cell_type": "markdown",
   "metadata": {},
   "source": [
    "- 注意tensorboard使用路径 相对路径根据当前路径决定\n",
    "- --host --port 可以单独指定访问域名端口等等\n",
    "- 若出现错误 `no module named tensorflow.tensorboard.tensorboard` conda安装的tensorflow版本 对应其tensorboard所在位置需要确认 特殊情况下可以使用绝对路径下的tensorboard.py 若无 则 main.py 或upgrade pip 后重装tensorflow"
   ]
  },
  {
   "cell_type": "markdown",
   "metadata": {},
   "source": [
    "### 交叉熵的多种表示方法\n",
    "\n",
    "- tf.reduce_sum(-y*tf.log(y_hat),axis=1)\n",
    "- tf.reduce_sum(tf.nn.softmax_cross_entropy_with_logits_v2(logits=,labels=)\n",
    "- tf.reduce_sum(tf.nn.softmax_cross_entropy_with_logits(logits = ,labels=))"
   ]
  },
  {
   "cell_type": "code",
   "execution_count": null,
   "metadata": {},
   "outputs": [],
   "source": []
  }
 ],
 "metadata": {
  "kernelspec": {
   "display_name": "py3",
   "language": "python",
   "name": "py3"
  },
  "language_info": {
   "codemirror_mode": {
    "name": "ipython",
    "version": 2
   },
   "file_extension": ".py",
   "mimetype": "text/x-python",
   "name": "python",
   "nbconvert_exporter": "python",
   "pygments_lexer": "ipython2",
   "version": "2.7.15"
  }
 },
 "nbformat": 4,
 "nbformat_minor": 2
}
