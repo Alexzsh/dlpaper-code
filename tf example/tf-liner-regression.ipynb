{
 "cells": [
  {
   "cell_type": "code",
   "execution_count": 1,
   "metadata": {},
   "outputs": [],
   "source": [
    "import tensorflow as tf\n",
    "import numpy as np\n",
    "import matplotlib.pyplot as plt\n",
    "%matplotlib inline"
   ]
  },
  {
   "cell_type": "code",
   "execution_count": 42,
   "metadata": {},
   "outputs": [],
   "source": [
    "X_train = np.linspace(1,10)\n",
    "y_train = X_train*2+np.random.randn(len(X_train))\n",
    "n_sample=X_train.shape[0]"
   ]
  },
  {
   "cell_type": "code",
   "execution_count": 43,
   "metadata": {},
   "outputs": [
    {
     "data": {
      "text/plain": [
       "[<matplotlib.lines.Line2D at 0x12c7d9290>]"
      ]
     },
     "execution_count": 43,
     "metadata": {},
     "output_type": "execute_result"
    },
    {
     "data": {
      "image/png": "[encoded data removed]",
      "text/plain": [
       "<matplotlib.figure.Figure at 0x12c72e410>"
      ]
     },
     "metadata": {},
     "output_type": "display_data"
    }
   ],
   "source": [
    "plt.plot(X_train,y_train,'ro')"
   ]
  },
  {
   "cell_type": "markdown",
   "metadata": {},
   "source": [
    "- tf.Variable(<initial-value>) must give a initial value\n",
    "- tf.get_variable(name,shape,initializer) can share same name variable "
   ]
  },
  {
   "cell_type": "code",
   "execution_count": 44,
   "metadata": {},
   "outputs": [],
   "source": [
    "x=tf.placeholder(dtype=tf.float32)\n",
    "y=tf.placeholder(dtype=tf.float32)\n",
    "with tf.variable_scope('martrix',reuse=tf.AUTO_REUSE):\n",
    "    W=tf.get_variable('weight',initializer=tf.contrib.layers.xavier_initializer())\n",
    "    b=tf.get_variable('bias')\n",
    "\n",
    "    y_hat=tf.multiply(W,x)+b\n",
    "\n",
    "    cost=tf.reduce_sum(tf.square(y_hat-y))/(2*n_sample)\n",
    "    # with tf.variable_scope(tf.get_variable_scope(),reuse=tf.AUTO_REUSE) as scope:\n",
    "    optimizer=tf.train.AdamOptimizer(1e-3).minimize(cost)\n",
    "\n"
   ]
  },
  {
   "cell_type": "code",
   "execution_count": 45,
   "metadata": {},
   "outputs": [
    {
     "name": "stdout",
     "output_type": "stream",
     "text": [
      "Epoch :0000\tcost = 116.852012634\n",
      "Epoch :0100\tcost = 0.865751028\n",
      "Epoch :0200\tcost = 0.606013179\n",
      "Epoch :0300\tcost = 0.510779023\n",
      "Epoch :0400\tcost = 0.490562797\n",
      "Epoch :0500\tcost = 0.486784339\n",
      "Epoch :0600\tcost = 0.486097395\n",
      "Epoch :0700\tcost = 0.485972732\n",
      "Epoch :0800\tcost = 0.485949785\n",
      "Epoch :0900\tcost = 0.485945731\n",
      "(0.48594469, array(2.030379295349121, dtype=float32), array(-0.18628229200839996, dtype=float32))\n"
     ]
    },
    {
     "data": {
      "image/png": "[encoded data removed]",
      "text/plain": [
       "<matplotlib.figure.Figure at 0x12c5627d0>"
      ]
     },
     "metadata": {},
     "output_type": "display_data"
    }
   ],
   "source": [
    "train_epochs=1000\n",
    "print_step=100\n",
    "with tf.Session() as sess:\n",
    "    sess.run(tf.global_variables_initializer())\n",
    "    for i in range(train_epochs):\n",
    "        for j,l in zip(X_train,y_train):\n",
    "            sess.run(optimizer,feed_dict={x:j,y:l})\n",
    "            \n",
    "        if i%print_step==0:\n",
    "            print('Epoch :{:04d}\\tcost = {:.9f}'.format(i,sess.run(cost,feed_dict={x:X_train,y:y_train})))\n",
    "    res=sess.run([cost,W,b],feed_dict={x:X_train,y:y_train})\n",
    "#     print(\"optimization over\\nTraining cost ={}\\tW = {0[1]\\tb = {0[2]}}\".format()\n",
    "    print(res[0],np.squeeze(res[1]),np.squeeze(res[2]))\n",
    "    plt.plot(X_train,y_train,'ro',label='origin')\n",
    "    plt.plot(X_train,X_train*np.squeeze(sess.run(W))+np.squeeze(sess.run(b)),label='fitted')\n",
    "    plt.legend()\n",
    "    plt.show()"
   ]
  },
  {
   "cell_type": "code",
   "execution_count": 47,
   "metadata": {},
   "outputs": [
    {
     "ename": "AttributeError",
     "evalue": "'module' object has no attribute 'enable_eager_execution'",
     "output_type": "error",
     "traceback": [
      "\u001b[0;31m---------------------------------------------------------------------------\u001b[0m",
      "\u001b[0;31mAttributeError\u001b[0m                            Traceback (most recent call last)",
      "\u001b[0;32m<ipython-input-47-ddf3115bdcc7>\u001b[0m in \u001b[0;36m<module>\u001b[0;34m()\u001b[0m\n\u001b[0;32m----> 1\u001b[0;31m \u001b[0mtf\u001b[0m\u001b[0;34m.\u001b[0m\u001b[0menable_eager_execution\u001b[0m\u001b[0;34m(\u001b[0m\u001b[0;34m)\u001b[0m\u001b[0;34m\u001b[0m\u001b[0m\n\u001b[0m",
      "\u001b[0;31mAttributeError\u001b[0m: 'module' object has no attribute 'enable_eager_execution'"
     ]
    }
   ],
   "source": [
    "tf.enable_eager_execution()"
   ]
  },
  {
   "cell_type": "code",
   "execution_count": null,
   "metadata": {},
   "outputs": [],
   "source": []
  }
 ],
 "metadata": {
  "kernelspec": {
   "display_name": "py3",
   "language": "python",
   "name": "py3"
  },
  "language_info": {
   "codemirror_mode": {
    "name": "ipython",
    "version": 2
   },
   "file_extension": ".py",
   "mimetype": "text/x-python",
   "name": "python",
   "nbconvert_exporter": "python",
   "pygments_lexer": "ipython2",
   "version": "2.7.15"
  }
 },
 "nbformat": 4,
 "nbformat_minor": 2
}
