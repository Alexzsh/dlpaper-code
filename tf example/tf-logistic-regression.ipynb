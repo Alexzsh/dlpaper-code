{
 "cells": [
  {
   "cell_type": "code",
   "execution_count": 2,
   "metadata": {},
   "outputs": [
    {
     "name": "stdout",
     "output_type": "stream",
     "text": [
      "Extracting data/train-images-idx3-ubyte.gz\n",
      "Extracting data/train-labels-idx1-ubyte.gz\n",
      "Extracting data/t10k-images-idx3-ubyte.gz\n",
      "Extracting data/t10k-labels-idx1-ubyte.gz\n"
     ]
    }
   ],
   "source": [
    "import tensorflow as tf\n",
    "\n",
    "# Import MINST data\n",
    "from tensorflow.examples.tutorials.mnist import input_data\n",
    "mnist = input_data.read_data_sets(\"data/\", one_hot=True)"
   ]
  },
  {
   "cell_type": "code",
   "execution_count": 3,
   "metadata": {},
   "outputs": [],
   "source": [
    "x=tf.placeholder(tf.float32,[None,784]) #28*28\n",
    "y=tf.placeholder(tf.float32,[None,10])\n",
    "\n",
    "W=tf.get_variable('weight',shape=[784,10],initializer=tf.initializers.random_uniform())\n",
    "b=tf.get_variable('bias',shape=[10],initializer=tf.initializers.zeros())\n",
    "\n",
    "y_hat=tf.nn.softmax(tf.matmul(x,W)+b)\n",
    "cost=tf.reduce_mean(-tf.reduce_sum(y*tf.log(y_hat),reduction_indices=1))\n",
    "optimizer = tf.train.AdamOptimizer(1e-3).minimize(cost)"
   ]
  },
  {
   "cell_type": "code",
   "execution_count": 4,
   "metadata": {},
   "outputs": [
    {
     "name": "stdout",
     "output_type": "stream",
     "text": [
      "Epoch :0000 cost = 0.0005125\n",
      "Epoch :0010 cost = 0.0003179\n",
      "Epoch :0020 cost = 0.0002855\n",
      "Epoch :0030 cost = 0.0003796\n",
      "Epoch :0040 cost = 0.0001654\n",
      "('acc', 0.090333335)\n"
     ]
    }
   ],
   "source": [
    "TRAIN_EPOCH=50\n",
    "batch_size=64\n",
    "save_step = 10\n",
    "with tf.Session() as sess:\n",
    "    sess.run(tf.global_variables_initializer())\n",
    "    \n",
    "    for epoch in range(TRAIN_EPOCH):\n",
    "        avg_cost=0\n",
    "        total_batch = int(mnist.train.num_examples/batch_size)\n",
    "        for i in range(total_batch):\n",
    "            x_batch,y_batch = mnist.train.next_batch(batch_size)\n",
    "            _,c = sess.run([optimizer,cost],feed_dict={x:x_batch,y:y_batch})\n",
    "        avg_cost+=c/total_batch\n",
    "        if epoch%save_step==0:\n",
    "            print(\"Epoch :{:04d} cost = {:.7f}\".format(epoch,avg_cost))\n",
    "    pred=tf.equal(tf.argmax(y_hat,1),tf.argmax(y,1))\n",
    "    acc=tf.reduce_mean(tf.cast(pred,tf.float32))\n",
    "    print(\"acc\",acc.eval({x:mnist.test.images[:3000],y:mnist.test.labels[:3000]}))"
   ]
  },
  {
   "cell_type": "code",
   "execution_count": null,
   "metadata": {},
   "outputs": [],
   "source": []
  }
 ],
 "metadata": {
  "kernelspec": {
   "display_name": "py3",
   "language": "python",
   "name": "py3"
  },
  "language_info": {
   "codemirror_mode": {
    "name": "ipython",
    "version": 2
   },
   "file_extension": ".py",
   "mimetype": "text/x-python",
   "name": "python",
   "nbconvert_exporter": "python",
   "pygments_lexer": "ipython2",
   "version": "2.7.15"
  }
 },
 "nbformat": 4,
 "nbformat_minor": 2
}
